{
 "cells": [
  {
   "cell_type": "markdown",
   "id": "36d172a1",
   "metadata": {
    "papermill": {
     "duration": 0.012963,
     "end_time": "2022-06-27T13:03:02.685199",
     "exception": false,
     "start_time": "2022-06-27T13:03:02.672236",
     "status": "completed"
    },
    "tags": []
   },
   "source": [
    "# **競賽說明**\n",
    "\n",
    "本次的任務是要分辨哪些貼文是跟災難有關係的.<br>\n",
    "\n",
    "本次項目為NLP–**單一文本分類任務**<br>\n",
    "\n",
    "競賽網址:<br>\n",
    "https://www.kaggle.com/competitions/nlp-getting-started"
   ]
  },
  {
   "cell_type": "markdown",
   "id": "4efeb964",
   "metadata": {
    "papermill": {
     "duration": 0.011828,
     "end_time": "2022-06-27T13:03:02.708819",
     "exception": false,
     "start_time": "2022-06-27T13:03:02.696991",
     "status": "completed"
    },
    "tags": []
   },
   "source": [
    "## kernel架構:\n",
    "    1. 讀取套件及載入資料 \n",
    "    2. EDA \n",
    "    3. Data Preprocessing(資料前處理) \n",
    "    4. 模型建構 \n"
   ]
  },
  {
   "cell_type": "markdown",
   "id": "171bb3f7",
   "metadata": {
    "execution": {
     "iopub.execute_input": "2022-06-19T12:10:22.80222Z",
     "iopub.status.busy": "2022-06-19T12:10:22.801853Z",
     "iopub.status.idle": "2022-06-19T12:10:22.808004Z",
     "shell.execute_reply": "2022-06-19T12:10:22.806603Z",
     "shell.execute_reply.started": "2022-06-19T12:10:22.802191Z"
    },
    "papermill": {
     "duration": 0.011371,
     "end_time": "2022-06-27T13:03:02.732357",
     "exception": false,
     "start_time": "2022-06-27T13:03:02.720986",
     "status": "completed"
    },
    "tags": []
   },
   "source": [
    "問題思考和想法\n",
    "\n",
    "- 還需加入定義問題的部分?<br>\n",
    "- 需加入各個列的相關性之間以及預測結果的相關性.<br>\n",
    "- 我要怎麼顯示TFbertmodel的裡面的各個層?<br>\n",
    "- 必須搞清楚模型的輸入輸出type<br>\n",
    "這樣才能更好的進行操作.\n"
   ]
  },
  {
   "cell_type": "code",
   "execution_count": 1,
   "id": "2400744d",
   "metadata": {
    "_cell_guid": "b1076dfc-b9ad-4769-8c92-a6c4dae69d19",
    "_uuid": "8f2839f25d086af736a60e9eeb907d3b93b6e0e5",
    "execution": {
     "iopub.execute_input": "2022-06-27T13:03:02.757728Z",
     "iopub.status.busy": "2022-06-27T13:03:02.757055Z",
     "iopub.status.idle": "2022-06-27T13:03:02.771378Z",
     "shell.execute_reply": "2022-06-27T13:03:02.770522Z"
    },
    "papermill": {
     "duration": 0.02971,
     "end_time": "2022-06-27T13:03:02.773654",
     "exception": false,
     "start_time": "2022-06-27T13:03:02.743944",
     "status": "completed"
    },
    "tags": []
   },
   "outputs": [
    {
     "name": "stdout",
     "output_type": "stream",
     "text": [
      "/kaggle/input/nlp-getting-started/sample_submission.csv\n",
      "/kaggle/input/nlp-getting-started/train.csv\n",
      "/kaggle/input/nlp-getting-started/test.csv\n"
     ]
    }
   ],
   "source": [
    "# This Python 3 environment comes with many helpful analytics libraries installed\n",
    "# It is defined by the kaggle/python Docker image: https://github.com/kaggle/docker-python\n",
    "# For example, here's several helpful packages to load\n",
    "\n",
    "import numpy as np # linear algebra\n",
    "import pandas as pd # data processing, CSV file I/O (e.g. pd.read_csv)\n",
    "\n",
    "# Input data files are available in the read-only \"../input/\" directory\n",
    "# For example, running this (by clicking run or pressing Shift+Enter) will list all files under the input directory\n",
    "\n",
    "import os\n",
    "for dirname, _, filenames in os.walk('/kaggle/input'):\n",
    "    for filename in filenames:\n",
    "        print(os.path.join(dirname, filename))\n",
    "\n",
    "# You can write up to 20GB to the current directory (/kaggle/working/) that gets preserved as output when you create a version using \"Save & Run All\" \n",
    "# You can also write temporary files to /kaggle/temp/, but they won't be saved outside of the current session"
   ]
  },
  {
   "cell_type": "markdown",
   "id": "2bcd2842",
   "metadata": {
    "papermill": {
     "duration": 0.011565,
     "end_time": "2022-06-27T13:03:02.797783",
     "exception": false,
     "start_time": "2022-06-27T13:03:02.786218",
     "status": "completed"
    },
    "tags": []
   },
   "source": [
    "# **1. 載入資料及套件**"
   ]
  },
  {
   "cell_type": "code",
   "execution_count": 2,
   "id": "cb8e7b97",
   "metadata": {
    "execution": {
     "iopub.execute_input": "2022-06-27T13:03:02.822376Z",
     "iopub.status.busy": "2022-06-27T13:03:02.821821Z",
     "iopub.status.idle": "2022-06-27T13:03:10.790748Z",
     "shell.execute_reply": "2022-06-27T13:03:10.789949Z"
    },
    "papermill": {
     "duration": 7.983402,
     "end_time": "2022-06-27T13:03:10.792799",
     "exception": false,
     "start_time": "2022-06-27T13:03:02.809397",
     "status": "completed"
    },
    "tags": []
   },
   "outputs": [],
   "source": [
    "import numpy as np\n",
    "import pandas as pd\n",
    "from matplotlib import pyplot as plt\n",
    "\n",
    "#skleran\n",
    "from sklearn.model_selection import train_test_split\n",
    "from sklearn.metrics import confusion_matrix\n",
    "\n",
    "#transformers \n",
    "from transformers import BertTokenizer\n",
    "from transformers import TFBertForSequenceClassification\n",
    "from transformers import TFBertModel\n",
    "\n",
    "#tensorflow\n",
    "import tensorflow as tf\n",
    "from tensorflow.keras.optimizers import Adam\n",
    "from tensorflow.keras.utils import to_categorical,plot_model \n",
    "from keras.models import Sequential\n",
    "from keras.layers import Dense,Activation,Dropout \n",
    "\n",
    "#other\n",
    "import missingno as msno\n",
    "from IPython.display import clear_output"
   ]
  },
  {
   "cell_type": "code",
   "execution_count": 3,
   "id": "7aeeef2d",
   "metadata": {
    "execution": {
     "iopub.execute_input": "2022-06-27T13:03:10.818343Z",
     "iopub.status.busy": "2022-06-27T13:03:10.817741Z",
     "iopub.status.idle": "2022-06-27T13:03:10.882843Z",
     "shell.execute_reply": "2022-06-27T13:03:10.882099Z"
    },
    "papermill": {
     "duration": 0.079661,
     "end_time": "2022-06-27T13:03:10.884693",
     "exception": false,
     "start_time": "2022-06-27T13:03:10.805032",
     "status": "completed"
    },
    "tags": []
   },
   "outputs": [],
   "source": [
    "#導入資料\n",
    "\n",
    "train=pd.read_csv('../input/nlp-getting-started/train.csv')\n",
    "test=pd.read_csv('../input/nlp-getting-started/test.csv')"
   ]
  },
  {
   "cell_type": "markdown",
   "id": "80b35ce2",
   "metadata": {
    "papermill": {
     "duration": 0.011633,
     "end_time": "2022-06-27T13:03:10.908605",
     "exception": false,
     "start_time": "2022-06-27T13:03:10.896972",
     "status": "completed"
    },
    "tags": []
   },
   "source": [
    "# **2. EDA**"
   ]
  },
  {
   "cell_type": "markdown",
   "id": "005ad1fe",
   "metadata": {
    "papermill": {
     "duration": 0.011713,
     "end_time": "2022-06-27T13:03:10.932711",
     "exception": false,
     "start_time": "2022-06-27T13:03:10.920998",
     "status": "completed"
    },
    "tags": []
   },
   "source": [
    "## **2.1 資料概述**\n",
    "\n",
    "關於資料的狀況<br>\n",
    "其實是可以通過競賽的資料說明去了解的<br>\n",
    "不過這邊我選擇通過代碼操作的方式來嘗試了解<br>\n",
    "也試圖透過這樣視覺化資料的一些重要資訊.<br>"
   ]
  },
  {
   "cell_type": "markdown",
   "id": "93493565",
   "metadata": {
    "papermill": {
     "duration": 0.01152,
     "end_time": "2022-06-27T13:03:10.955926",
     "exception": false,
     "start_time": "2022-06-27T13:03:10.944406",
     "status": "completed"
    },
    "tags": []
   },
   "source": [
    "問題思考和想法: <br>\n",
    "\n",
    "- 要如何呈現資料?該呈現的資訊有甚麼?<br>\n",
    "各個列的含意.<br>\n",
    "列包含的各種值.<br>\n",
    "資料缺失狀況.<br>\n",
    "文本長度及數量.<br>\n",
    "- 可能要加入相關性部分<br>"
   ]
  },
  {
   "cell_type": "code",
   "execution_count": 4,
   "id": "2a72486e",
   "metadata": {
    "execution": {
     "iopub.execute_input": "2022-06-27T13:03:10.980586Z",
     "iopub.status.busy": "2022-06-27T13:03:10.980291Z",
     "iopub.status.idle": "2022-06-27T13:03:11.015197Z",
     "shell.execute_reply": "2022-06-27T13:03:11.014412Z"
    },
    "papermill": {
     "duration": 0.049257,
     "end_time": "2022-06-27T13:03:11.016818",
     "exception": false,
     "start_time": "2022-06-27T13:03:10.967561",
     "status": "completed"
    },
    "tags": []
   },
   "outputs": [
    {
     "name": "stdout",
     "output_type": "stream",
     "text": [
      "<class 'pandas.core.frame.DataFrame'>\n",
      "RangeIndex: 7613 entries, 0 to 7612\n",
      "Data columns (total 5 columns):\n",
      " #   Column    Non-Null Count  Dtype \n",
      "---  ------    --------------  ----- \n",
      " 0   id        7613 non-null   int64 \n",
      " 1   keyword   7552 non-null   object\n",
      " 2   location  5080 non-null   object\n",
      " 3   text      7613 non-null   object\n",
      " 4   target    7613 non-null   int64 \n",
      "dtypes: int64(2), object(3)\n",
      "memory usage: 297.5+ KB\n"
     ]
    },
    {
     "data": {
      "text/html": [
       "<div>\n",
       "<style scoped>\n",
       "    .dataframe tbody tr th:only-of-type {\n",
       "        vertical-align: middle;\n",
       "    }\n",
       "\n",
       "    .dataframe tbody tr th {\n",
       "        vertical-align: top;\n",
       "    }\n",
       "\n",
       "    .dataframe thead th {\n",
       "        text-align: right;\n",
       "    }\n",
       "</style>\n",
       "<table border=\"1\" class=\"dataframe\">\n",
       "  <thead>\n",
       "    <tr style=\"text-align: right;\">\n",
       "      <th></th>\n",
       "      <th>id</th>\n",
       "      <th>keyword</th>\n",
       "      <th>location</th>\n",
       "      <th>text</th>\n",
       "      <th>target</th>\n",
       "    </tr>\n",
       "  </thead>\n",
       "  <tbody>\n",
       "    <tr>\n",
       "      <th>0</th>\n",
       "      <td>1</td>\n",
       "      <td>NaN</td>\n",
       "      <td>NaN</td>\n",
       "      <td>Our Deeds are the Reason of this #earthquake M...</td>\n",
       "      <td>1</td>\n",
       "    </tr>\n",
       "    <tr>\n",
       "      <th>1</th>\n",
       "      <td>4</td>\n",
       "      <td>NaN</td>\n",
       "      <td>NaN</td>\n",
       "      <td>Forest fire near La Ronge Sask. Canada</td>\n",
       "      <td>1</td>\n",
       "    </tr>\n",
       "    <tr>\n",
       "      <th>2</th>\n",
       "      <td>5</td>\n",
       "      <td>NaN</td>\n",
       "      <td>NaN</td>\n",
       "      <td>All residents asked to 'shelter in place' are ...</td>\n",
       "      <td>1</td>\n",
       "    </tr>\n",
       "    <tr>\n",
       "      <th>3</th>\n",
       "      <td>6</td>\n",
       "      <td>NaN</td>\n",
       "      <td>NaN</td>\n",
       "      <td>13,000 people receive #wildfires evacuation or...</td>\n",
       "      <td>1</td>\n",
       "    </tr>\n",
       "    <tr>\n",
       "      <th>4</th>\n",
       "      <td>7</td>\n",
       "      <td>NaN</td>\n",
       "      <td>NaN</td>\n",
       "      <td>Just got sent this photo from Ruby #Alaska as ...</td>\n",
       "      <td>1</td>\n",
       "    </tr>\n",
       "  </tbody>\n",
       "</table>\n",
       "</div>"
      ],
      "text/plain": [
       "   id keyword location                                               text  \\\n",
       "0   1     NaN      NaN  Our Deeds are the Reason of this #earthquake M...   \n",
       "1   4     NaN      NaN             Forest fire near La Ronge Sask. Canada   \n",
       "2   5     NaN      NaN  All residents asked to 'shelter in place' are ...   \n",
       "3   6     NaN      NaN  13,000 people receive #wildfires evacuation or...   \n",
       "4   7     NaN      NaN  Just got sent this photo from Ruby #Alaska as ...   \n",
       "\n",
       "   target  \n",
       "0       1  \n",
       "1       1  \n",
       "2       1  \n",
       "3       1  \n",
       "4       1  "
      ]
     },
     "execution_count": 4,
     "metadata": {},
     "output_type": "execute_result"
    }
   ],
   "source": [
    "train.info()\n",
    "train.head(5)"
   ]
  },
  {
   "cell_type": "code",
   "execution_count": 5,
   "id": "0cd7a219",
   "metadata": {
    "execution": {
     "iopub.execute_input": "2022-06-27T13:03:11.042096Z",
     "iopub.status.busy": "2022-06-27T13:03:11.041656Z",
     "iopub.status.idle": "2022-06-27T13:03:11.059862Z",
     "shell.execute_reply": "2022-06-27T13:03:11.058838Z"
    },
    "papermill": {
     "duration": 0.03368,
     "end_time": "2022-06-27T13:03:11.062485",
     "exception": false,
     "start_time": "2022-06-27T13:03:11.028805",
     "status": "completed"
    },
    "tags": []
   },
   "outputs": [
    {
     "name": "stdout",
     "output_type": "stream",
     "text": [
      "<class 'pandas.core.frame.DataFrame'>\n",
      "RangeIndex: 3263 entries, 0 to 3262\n",
      "Data columns (total 4 columns):\n",
      " #   Column    Non-Null Count  Dtype \n",
      "---  ------    --------------  ----- \n",
      " 0   id        3263 non-null   int64 \n",
      " 1   keyword   3237 non-null   object\n",
      " 2   location  2158 non-null   object\n",
      " 3   text      3263 non-null   object\n",
      "dtypes: int64(1), object(3)\n",
      "memory usage: 102.1+ KB\n"
     ]
    },
    {
     "data": {
      "text/html": [
       "<div>\n",
       "<style scoped>\n",
       "    .dataframe tbody tr th:only-of-type {\n",
       "        vertical-align: middle;\n",
       "    }\n",
       "\n",
       "    .dataframe tbody tr th {\n",
       "        vertical-align: top;\n",
       "    }\n",
       "\n",
       "    .dataframe thead th {\n",
       "        text-align: right;\n",
       "    }\n",
       "</style>\n",
       "<table border=\"1\" class=\"dataframe\">\n",
       "  <thead>\n",
       "    <tr style=\"text-align: right;\">\n",
       "      <th></th>\n",
       "      <th>id</th>\n",
       "      <th>keyword</th>\n",
       "      <th>location</th>\n",
       "      <th>text</th>\n",
       "    </tr>\n",
       "  </thead>\n",
       "  <tbody>\n",
       "    <tr>\n",
       "      <th>0</th>\n",
       "      <td>0</td>\n",
       "      <td>NaN</td>\n",
       "      <td>NaN</td>\n",
       "      <td>Just happened a terrible car crash</td>\n",
       "    </tr>\n",
       "    <tr>\n",
       "      <th>1</th>\n",
       "      <td>2</td>\n",
       "      <td>NaN</td>\n",
       "      <td>NaN</td>\n",
       "      <td>Heard about #earthquake is different cities, s...</td>\n",
       "    </tr>\n",
       "    <tr>\n",
       "      <th>2</th>\n",
       "      <td>3</td>\n",
       "      <td>NaN</td>\n",
       "      <td>NaN</td>\n",
       "      <td>there is a forest fire at spot pond, geese are...</td>\n",
       "    </tr>\n",
       "    <tr>\n",
       "      <th>3</th>\n",
       "      <td>9</td>\n",
       "      <td>NaN</td>\n",
       "      <td>NaN</td>\n",
       "      <td>Apocalypse lighting. #Spokane #wildfires</td>\n",
       "    </tr>\n",
       "    <tr>\n",
       "      <th>4</th>\n",
       "      <td>11</td>\n",
       "      <td>NaN</td>\n",
       "      <td>NaN</td>\n",
       "      <td>Typhoon Soudelor kills 28 in China and Taiwan</td>\n",
       "    </tr>\n",
       "  </tbody>\n",
       "</table>\n",
       "</div>"
      ],
      "text/plain": [
       "   id keyword location                                               text\n",
       "0   0     NaN      NaN                 Just happened a terrible car crash\n",
       "1   2     NaN      NaN  Heard about #earthquake is different cities, s...\n",
       "2   3     NaN      NaN  there is a forest fire at spot pond, geese are...\n",
       "3   9     NaN      NaN           Apocalypse lighting. #Spokane #wildfires\n",
       "4  11     NaN      NaN      Typhoon Soudelor kills 28 in China and Taiwan"
      ]
     },
     "execution_count": 5,
     "metadata": {},
     "output_type": "execute_result"
    }
   ],
   "source": [
    "test.info()\n",
    "test.head(5)"
   ]
  },
  {
   "cell_type": "markdown",
   "id": "c551cd43",
   "metadata": {
    "papermill": {
     "duration": 0.011913,
     "end_time": "2022-06-27T13:03:11.087723",
     "exception": false,
     "start_time": "2022-06-27T13:03:11.075810",
     "status": "completed"
    },
    "tags": []
   },
   "source": [
    "## **2.2 Column**"
   ]
  },
  {
   "cell_type": "markdown",
   "id": "70efc9b5",
   "metadata": {
    "execution": {
     "iopub.execute_input": "2022-06-09T13:02:36.701276Z",
     "iopub.status.busy": "2022-06-09T13:02:36.70088Z",
     "iopub.status.idle": "2022-06-09T13:02:36.707586Z",
     "shell.execute_reply": "2022-06-09T13:02:36.706409Z",
     "shell.execute_reply.started": "2022-06-09T13:02:36.701246Z"
    },
    "papermill": {
     "duration": 0.011856,
     "end_time": "2022-06-27T13:03:11.111578",
     "exception": false,
     "start_time": "2022-06-27T13:03:11.099722",
     "status": "completed"
    },
    "tags": []
   },
   "source": [
    "- `id` : text的鍵值\n",
    "- `text` : 從推特收錄的文本\n",
    "- `location` : 發文的位置\n",
    "- `keyword` : 某些出現在文本中的關鍵字\n",
    "- `target` : 只有trainset有這個列. 表示是否為與災難相關的文本,0為否1為是.\n",
    "\n",
    "實際上本次的項目基本上只會把text帶入模型之中<br>\n",
    "希望透過讓模型自己去了解文本的語意<br>\n",
    "而去預測與災難的關聯性<br>\n",
    "不過在這邊我們還是會嘗試著做基本的資料探討分析.<br>"
   ]
  },
  {
   "cell_type": "code",
   "execution_count": 6,
   "id": "978f366f",
   "metadata": {
    "execution": {
     "iopub.execute_input": "2022-06-27T13:03:11.136792Z",
     "iopub.status.busy": "2022-06-27T13:03:11.136487Z",
     "iopub.status.idle": "2022-06-27T13:03:11.141335Z",
     "shell.execute_reply": "2022-06-27T13:03:11.140495Z"
    },
    "papermill": {
     "duration": 0.019963,
     "end_time": "2022-06-27T13:03:11.143574",
     "exception": false,
     "start_time": "2022-06-27T13:03:11.123611",
     "status": "completed"
    },
    "tags": []
   },
   "outputs": [
    {
     "name": "stdout",
     "output_type": "stream",
     "text": [
      "\n",
      "traindata columns :\n",
      "Index(['id', 'keyword', 'location', 'text', 'target'], dtype='object')\n",
      "數量 : 5\n",
      "\n",
      "testdata columns :\n",
      "Index(['id', 'keyword', 'location', 'text'], dtype='object')\n",
      "數量 : 4\n",
      "\n"
     ]
    }
   ],
   "source": [
    "print(f'''\n",
    "traindata columns :\n",
    "{train.columns}\n",
    "數量 : {len(train.columns)}\n",
    "\n",
    "testdata columns :\n",
    "{test.columns}\n",
    "數量 : {len(test.columns)}\n",
    "''')"
   ]
  },
  {
   "cell_type": "markdown",
   "id": "44ca8d92",
   "metadata": {
    "papermill": {
     "duration": 0.012328,
     "end_time": "2022-06-27T13:03:11.168874",
     "exception": false,
     "start_time": "2022-06-27T13:03:11.156546",
     "status": "completed"
    },
    "tags": []
   },
   "source": [
    "### **2.2.1 id** "
   ]
  },
  {
   "cell_type": "markdown",
   "id": "dad8aa84",
   "metadata": {
    "papermill": {
     "duration": 0.012218,
     "end_time": "2022-06-27T13:03:11.193940",
     "exception": false,
     "start_time": "2022-06-27T13:03:11.181722",
     "status": "completed"
    },
    "tags": []
   },
   "source": [
    "id列為資料的鍵值"
   ]
  },
  {
   "cell_type": "code",
   "execution_count": 7,
   "id": "60af3d07",
   "metadata": {
    "execution": {
     "iopub.execute_input": "2022-06-27T13:03:11.219951Z",
     "iopub.status.busy": "2022-06-27T13:03:11.219503Z",
     "iopub.status.idle": "2022-06-27T13:03:11.231221Z",
     "shell.execute_reply": "2022-06-27T13:03:11.230083Z"
    },
    "papermill": {
     "duration": 0.02693,
     "end_time": "2022-06-27T13:03:11.233283",
     "exception": false,
     "start_time": "2022-06-27T13:03:11.206353",
     "status": "completed"
    },
    "tags": []
   },
   "outputs": [
    {
     "name": "stdout",
     "output_type": "stream",
     "text": [
      "id重複數 : 0\n"
     ]
    }
   ],
   "source": [
    "#確認鍵值是否有重複\n",
    "#若下面輸出不為0則別是有重複\n",
    "\n",
    "print('id重複數 : {}'.format(train.duplicated(keep=False).sum()))"
   ]
  },
  {
   "cell_type": "markdown",
   "id": "991f03fa",
   "metadata": {
    "papermill": {
     "duration": 0.012039,
     "end_time": "2022-06-27T13:03:11.258735",
     "exception": false,
     "start_time": "2022-06-27T13:03:11.246696",
     "status": "completed"
    },
    "tags": []
   },
   "source": [
    "### **2.2.2 keyword**"
   ]
  },
  {
   "cell_type": "markdown",
   "id": "18f1c26a",
   "metadata": {
    "papermill": {
     "duration": 0.01201,
     "end_time": "2022-06-27T13:03:11.283066",
     "exception": false,
     "start_time": "2022-06-27T13:03:11.271056",
     "status": "completed"
    },
    "tags": []
   },
   "source": [
    "keyword列的值大多是跟災難、糾紛、或是會帶來傷害性的事情有關的詞<br>\n",
    "在這邊類似文本的tag."
   ]
  },
  {
   "cell_type": "markdown",
   "id": "2d88c14f",
   "metadata": {
    "papermill": {
     "duration": 0.01194,
     "end_time": "2022-06-27T13:03:11.307269",
     "exception": false,
     "start_time": "2022-06-27T13:03:11.295329",
     "status": "completed"
    },
    "tags": []
   },
   "source": [
    "- 問題思考:\n",
    "    1. 有無關鍵字的資料分別為多少?\n",
    "    2. 有關鍵字的資料會更有可能跟災難有關嗎?\n",
    "    3. 是否有某些特定的值比較可能跟災難有關?\n",
    "\n",
    "\n",
    "- 觀察:\n",
    "    1. 資料中<br>\n",
    "    有keyword值的為7552筆<br>\n",
    "    沒有keyword值的為61筆(此處直接將值為nan的資料視為沒有值).<br>\n",
    "    而去對比target值<br>\n",
    "    值為0的有4342筆<br>\n",
    "    值為1的有3271筆<br>\n",
    "    2. 兩個列的數量相差太多<br>\n",
    "    因此這邊判斷keyword跟target比較沒有相關性.<br>\n",
    "    3. 從後面的比例圖來看<br>\n",
    "    有某些詞比較高比例的與災難有關<br>\n",
    "    不過有高比例的詞並不是少數<br>\n",
    "    並且也沒有特別突出的數值.<br>\n",
    "    另一方面<br>\n",
    "    keyword的實質語意以及是否與災難有關<br>\n",
    "    並沒有發現這之間具有明顯的關聯性.<br>"
   ]
  },
  {
   "cell_type": "code",
   "execution_count": 8,
   "id": "9297bff2",
   "metadata": {
    "execution": {
     "iopub.execute_input": "2022-06-27T13:03:11.333392Z",
     "iopub.status.busy": "2022-06-27T13:03:11.332823Z",
     "iopub.status.idle": "2022-06-27T13:03:11.345859Z",
     "shell.execute_reply": "2022-06-27T13:03:11.345112Z"
    },
    "papermill": {
     "duration": 0.028089,
     "end_time": "2022-06-27T13:03:11.347506",
     "exception": false,
     "start_time": "2022-06-27T13:03:11.319417",
     "status": "completed"
    },
    "tags": []
   },
   "outputs": [
    {
     "data": {
      "text/html": [
       "<div>\n",
       "<style scoped>\n",
       "    .dataframe tbody tr th:only-of-type {\n",
       "        vertical-align: middle;\n",
       "    }\n",
       "\n",
       "    .dataframe tbody tr th {\n",
       "        vertical-align: top;\n",
       "    }\n",
       "\n",
       "    .dataframe thead th {\n",
       "        text-align: right;\n",
       "    }\n",
       "</style>\n",
       "<table border=\"1\" class=\"dataframe\">\n",
       "  <thead>\n",
       "    <tr style=\"text-align: right;\">\n",
       "      <th></th>\n",
       "      <th>id</th>\n",
       "      <th>keyword</th>\n",
       "      <th>location</th>\n",
       "      <th>text</th>\n",
       "      <th>target</th>\n",
       "    </tr>\n",
       "  </thead>\n",
       "  <tbody>\n",
       "    <tr>\n",
       "      <th>31</th>\n",
       "      <td>48</td>\n",
       "      <td>ablaze</td>\n",
       "      <td>Birmingham</td>\n",
       "      <td>@bbcmtd Wholesale Markets ablaze http://t.co/l...</td>\n",
       "      <td>1</td>\n",
       "    </tr>\n",
       "    <tr>\n",
       "      <th>32</th>\n",
       "      <td>49</td>\n",
       "      <td>ablaze</td>\n",
       "      <td>Est. September 2012 - Bristol</td>\n",
       "      <td>We always try to bring the heavy. #metal #RT h...</td>\n",
       "      <td>0</td>\n",
       "    </tr>\n",
       "    <tr>\n",
       "      <th>33</th>\n",
       "      <td>50</td>\n",
       "      <td>ablaze</td>\n",
       "      <td>AFRICA</td>\n",
       "      <td>#AFRICANBAZE: Breaking news:Nigeria flag set a...</td>\n",
       "      <td>1</td>\n",
       "    </tr>\n",
       "    <tr>\n",
       "      <th>34</th>\n",
       "      <td>52</td>\n",
       "      <td>ablaze</td>\n",
       "      <td>Philadelphia, PA</td>\n",
       "      <td>Crying out for more! Set me ablaze</td>\n",
       "      <td>0</td>\n",
       "    </tr>\n",
       "    <tr>\n",
       "      <th>35</th>\n",
       "      <td>53</td>\n",
       "      <td>ablaze</td>\n",
       "      <td>London, UK</td>\n",
       "      <td>On plus side LOOK AT THE SKY LAST NIGHT IT WAS...</td>\n",
       "      <td>0</td>\n",
       "    </tr>\n",
       "    <tr>\n",
       "      <th>36</th>\n",
       "      <td>54</td>\n",
       "      <td>ablaze</td>\n",
       "      <td>Pretoria</td>\n",
       "      <td>@PhDSquares #mufc they've built so much hype a...</td>\n",
       "      <td>0</td>\n",
       "    </tr>\n",
       "  </tbody>\n",
       "</table>\n",
       "</div>"
      ],
      "text/plain": [
       "    id keyword                       location  \\\n",
       "31  48  ablaze                     Birmingham   \n",
       "32  49  ablaze  Est. September 2012 - Bristol   \n",
       "33  50  ablaze                         AFRICA   \n",
       "34  52  ablaze               Philadelphia, PA   \n",
       "35  53  ablaze                     London, UK   \n",
       "36  54  ablaze                       Pretoria   \n",
       "\n",
       "                                                 text  target  \n",
       "31  @bbcmtd Wholesale Markets ablaze http://t.co/l...       1  \n",
       "32  We always try to bring the heavy. #metal #RT h...       0  \n",
       "33  #AFRICANBAZE: Breaking news:Nigeria flag set a...       1  \n",
       "34                 Crying out for more! Set me ablaze       0  \n",
       "35  On plus side LOOK AT THE SKY LAST NIGHT IT WAS...       0  \n",
       "36  @PhDSquares #mufc they've built so much hype a...       0  "
      ]
     },
     "execution_count": 8,
     "metadata": {},
     "output_type": "execute_result"
    }
   ],
   "source": [
    "#排除掉keyword列值為nan的資料\n",
    "#並挑幾筆拿出來\n",
    "\n",
    "train[~train['keyword'].isna()].head(6)"
   ]
  },
  {
   "cell_type": "code",
   "execution_count": 9,
   "id": "c0232622",
   "metadata": {
    "execution": {
     "iopub.execute_input": "2022-06-27T13:03:11.374377Z",
     "iopub.status.busy": "2022-06-27T13:03:11.373738Z",
     "iopub.status.idle": "2022-06-27T13:03:11.383085Z",
     "shell.execute_reply": "2022-06-27T13:03:11.381700Z"
    },
    "papermill": {
     "duration": 0.024747,
     "end_time": "2022-06-27T13:03:11.385208",
     "exception": false,
     "start_time": "2022-06-27T13:03:11.360461",
     "status": "completed"
    },
    "tags": []
   },
   "outputs": [
    {
     "name": "stdout",
     "output_type": "stream",
     "text": [
      "keyword值    累計數量\n",
      "\n",
      "fatalities     45\n",
      "deluge         42\n",
      "armageddon     42\n",
      "sinking        41\n",
      "damage         41\n",
      "harm           41\n",
      "body%20bags    41\n",
      "outbreak       40\n",
      "evacuate       40\n",
      "fear           40\n",
      "collided       40\n",
      "siren          40\n",
      "twister        40\n",
      "windstorm      40\n",
      "sinkhole       39\n",
      "Name: keyword, dtype: int64\n",
      "\n",
      "--------------------------------------------------\n",
      "keyword值:\n",
      "[nan 'ablaze' 'accident' 'aftershock' 'airplane%20accident' 'ambulance'\n",
      " 'annihilated' 'annihilation' 'apocalypse' 'armageddon' 'army' 'arson'\n",
      " 'arsonist' 'attack' 'attacked' 'avalanche' 'battle' 'bioterror'\n",
      " 'bioterrorism' 'blaze' 'blazing' 'bleeding' 'blew%20up' 'blight'\n",
      " 'blizzard' 'blood' 'bloody' 'blown%20up' 'body%20bag' 'body%20bagging']\n"
     ]
    }
   ],
   "source": [
    "#了解keyword列包含哪些值以及其數量\n",
    "\n",
    "print(\"{0:12}{1:1}\".format('keyword值', '累計數量'))\n",
    "print('')\n",
    "print(train['keyword'].value_counts()[0:15])\n",
    "\n",
    "print('')\n",
    "print('-'*50) #為甚麼打印出來的東西前面會多一個空格?\n",
    "\n",
    "print('keyword值:')\n",
    "print(train['keyword'].unique()[0:30])"
   ]
  },
  {
   "cell_type": "code",
   "execution_count": 10,
   "id": "6a32b9bb",
   "metadata": {
    "execution": {
     "iopub.execute_input": "2022-06-27T13:03:11.412339Z",
     "iopub.status.busy": "2022-06-27T13:03:11.411812Z",
     "iopub.status.idle": "2022-06-27T13:03:11.422410Z",
     "shell.execute_reply": "2022-06-27T13:03:11.421296Z"
    },
    "papermill": {
     "duration": 0.025621,
     "end_time": "2022-06-27T13:03:11.424186",
     "exception": false,
     "start_time": "2022-06-27T13:03:11.398565",
     "status": "completed"
    },
    "tags": []
   },
   "outputs": [
    {
     "name": "stdout",
     "output_type": "stream",
     "text": [
      "keywordr值具有值的數量: 7552\n",
      "keyword值為nan的數量: 61\n",
      "\n",
      "target值為0和1分別的數量:\n",
      "0    4342\n",
      "1    3271\n",
      "Name: target, dtype: int64\n"
     ]
    }
   ],
   "source": [
    "\n",
    "#是否具有值的數量\n",
    "print('keywordr值具有值的數量: {}'.format(len(train[~train['keyword'].isna()])))\n",
    "print('keyword值為nan的數量: {}'.format(len(train[train['keyword'].isna()])))\n",
    "\n",
    "print('')\n",
    "\n",
    "#target的值及其對應數量\n",
    "print('target值為0和1分別的數量:')\n",
    "print(train['target'].value_counts())"
   ]
  },
  {
   "cell_type": "code",
   "execution_count": 11,
   "id": "3aba8e1b",
   "metadata": {
    "execution": {
     "iopub.execute_input": "2022-06-27T13:03:11.450851Z",
     "iopub.status.busy": "2022-06-27T13:03:11.450384Z",
     "iopub.status.idle": "2022-06-27T13:03:11.475350Z",
     "shell.execute_reply": "2022-06-27T13:03:11.474481Z"
    },
    "papermill": {
     "duration": 0.040371,
     "end_time": "2022-06-27T13:03:11.477587",
     "exception": false,
     "start_time": "2022-06-27T13:03:11.437216",
     "status": "completed"
    },
    "tags": []
   },
   "outputs": [
    {
     "name": "stdout",
     "output_type": "stream",
     "text": [
      "keyword總組別數: 221\n",
      "--------------------------------------------------\n"
     ]
    },
    {
     "data": {
      "text/html": [
       "<div>\n",
       "<style scoped>\n",
       "    .dataframe tbody tr th:only-of-type {\n",
       "        vertical-align: middle;\n",
       "    }\n",
       "\n",
       "    .dataframe tbody tr th {\n",
       "        vertical-align: top;\n",
       "    }\n",
       "\n",
       "    .dataframe thead th {\n",
       "        text-align: right;\n",
       "    }\n",
       "</style>\n",
       "<table border=\"1\" class=\"dataframe\">\n",
       "  <thead>\n",
       "    <tr style=\"text-align: right;\">\n",
       "      <th></th>\n",
       "      <th>totel</th>\n",
       "      <th>num of 1</th>\n",
       "      <th>占比</th>\n",
       "    </tr>\n",
       "    <tr>\n",
       "      <th>keyword</th>\n",
       "      <th></th>\n",
       "      <th></th>\n",
       "      <th></th>\n",
       "    </tr>\n",
       "  </thead>\n",
       "  <tbody>\n",
       "    <tr>\n",
       "      <th>debris</th>\n",
       "      <td>37</td>\n",
       "      <td>37.0</td>\n",
       "      <td>1.000000</td>\n",
       "    </tr>\n",
       "    <tr>\n",
       "      <th>wreckage</th>\n",
       "      <td>39</td>\n",
       "      <td>39.0</td>\n",
       "      <td>1.000000</td>\n",
       "    </tr>\n",
       "    <tr>\n",
       "      <th>derailment</th>\n",
       "      <td>39</td>\n",
       "      <td>39.0</td>\n",
       "      <td>1.000000</td>\n",
       "    </tr>\n",
       "    <tr>\n",
       "      <th>outbreak</th>\n",
       "      <td>40</td>\n",
       "      <td>39.0</td>\n",
       "      <td>0.975000</td>\n",
       "    </tr>\n",
       "    <tr>\n",
       "      <th>oil%20spill</th>\n",
       "      <td>38</td>\n",
       "      <td>37.0</td>\n",
       "      <td>0.973684</td>\n",
       "    </tr>\n",
       "    <tr>\n",
       "      <th>typhoon</th>\n",
       "      <td>38</td>\n",
       "      <td>37.0</td>\n",
       "      <td>0.973684</td>\n",
       "    </tr>\n",
       "    <tr>\n",
       "      <th>suicide%20bombing</th>\n",
       "      <td>33</td>\n",
       "      <td>32.0</td>\n",
       "      <td>0.969697</td>\n",
       "    </tr>\n",
       "    <tr>\n",
       "      <th>suicide%20bomber</th>\n",
       "      <td>31</td>\n",
       "      <td>30.0</td>\n",
       "      <td>0.967742</td>\n",
       "    </tr>\n",
       "    <tr>\n",
       "      <th>bombing</th>\n",
       "      <td>29</td>\n",
       "      <td>27.0</td>\n",
       "      <td>0.931034</td>\n",
       "    </tr>\n",
       "    <tr>\n",
       "      <th>rescuers</th>\n",
       "      <td>35</td>\n",
       "      <td>32.0</td>\n",
       "      <td>0.914286</td>\n",
       "    </tr>\n",
       "    <tr>\n",
       "      <th>suicide%20bomb</th>\n",
       "      <td>35</td>\n",
       "      <td>32.0</td>\n",
       "      <td>0.914286</td>\n",
       "    </tr>\n",
       "    <tr>\n",
       "      <th>nuclear%20disaster</th>\n",
       "      <td>34</td>\n",
       "      <td>31.0</td>\n",
       "      <td>0.911765</td>\n",
       "    </tr>\n",
       "    <tr>\n",
       "      <th>evacuated</th>\n",
       "      <td>36</td>\n",
       "      <td>32.0</td>\n",
       "      <td>0.888889</td>\n",
       "    </tr>\n",
       "    <tr>\n",
       "      <th>razed</th>\n",
       "      <td>35</td>\n",
       "      <td>31.0</td>\n",
       "      <td>0.885714</td>\n",
       "    </tr>\n",
       "    <tr>\n",
       "      <th>wildfire</th>\n",
       "      <td>33</td>\n",
       "      <td>29.0</td>\n",
       "      <td>0.878788</td>\n",
       "    </tr>\n",
       "  </tbody>\n",
       "</table>\n",
       "</div>"
      ],
      "text/plain": [
       "                    totel  num of 1        占比\n",
       "keyword                                      \n",
       "debris                 37      37.0  1.000000\n",
       "wreckage               39      39.0  1.000000\n",
       "derailment             39      39.0  1.000000\n",
       "outbreak               40      39.0  0.975000\n",
       "oil%20spill            38      37.0  0.973684\n",
       "typhoon                38      37.0  0.973684\n",
       "suicide%20bombing      33      32.0  0.969697\n",
       "suicide%20bomber       31      30.0  0.967742\n",
       "bombing                29      27.0  0.931034\n",
       "rescuers               35      32.0  0.914286\n",
       "suicide%20bomb         35      32.0  0.914286\n",
       "nuclear%20disaster     34      31.0  0.911765\n",
       "evacuated              36      32.0  0.888889\n",
       "razed                  35      31.0  0.885714\n",
       "wildfire               33      29.0  0.878788"
      ]
     },
     "execution_count": 11,
     "metadata": {},
     "output_type": "execute_result"
    }
   ],
   "source": [
    "# keyword為X,target為1的數量及其比例.\n",
    "\n",
    "#邏輯:\n",
    "#先建立擁有類別keyword個別數量\n",
    "#和其類別中target為1的數量的表\n",
    "#之後在另外補上計算占比的列\n",
    "\n",
    "\n",
    "testdf1=train[['keyword','target']].groupby('keyword').count()\n",
    "#這邊需要注意的是\n",
    "#因為可能有keyword根本沒有target為1的的資料\n",
    "#因此這樣挑出來的可能會有些keyword沒有被包含進去.\n",
    "testdf2=train[train['target']==1][['keyword','target']] \\\n",
    "    .groupby('keyword').count() \n",
    "#testdf2\n",
    "\n",
    "keyword_group=pd.concat([testdf1,testdf2],axis=1)\n",
    "keyword_group.columns=['totel','num of 1']\n",
    "#此處可以發現keyword_group中有值為空值的資料\n",
    "#因此必須用0去取代\n",
    "# keyword_group[keyword_group.isna().any(1)]\n",
    "keyword_group.fillna(0,inplace=True)\n",
    "keyword_group['占比']=keyword_group['num of 1']/keyword_group['totel']\n",
    "\n",
    "print('keyword總組別數: {}'.format(keyword_group.shape[0]))\n",
    "print('-'*50)\n",
    "#占比前15高的分組\n",
    "keyword_group.sort_values('占比',ascending=False).head(15)"
   ]
  },
  {
   "cell_type": "code",
   "execution_count": 12,
   "id": "adc10dd0",
   "metadata": {
    "execution": {
     "iopub.execute_input": "2022-06-27T13:03:11.505278Z",
     "iopub.status.busy": "2022-06-27T13:03:11.505009Z",
     "iopub.status.idle": "2022-06-27T13:03:12.018726Z",
     "shell.execute_reply": "2022-06-27T13:03:12.017964Z"
    },
    "papermill": {
     "duration": 0.52994,
     "end_time": "2022-06-27T13:03:12.020585",
     "exception": false,
     "start_time": "2022-06-27T13:03:11.490645",
     "status": "completed"
    },
    "tags": []
   },
   "outputs": [
    {
     "data": {
      "text/plain": [
       "[<matplotlib.axis.XTick at 0x7fe209abf650>,\n",
       " <matplotlib.axis.XTick at 0x7fe209a77050>,\n",
       " <matplotlib.axis.XTick at 0x7fe209a2a990>,\n",
       " <matplotlib.axis.XTick at 0x7fe209a2ad50>,\n",
       " <matplotlib.axis.XTick at 0x7fe209857c50>,\n",
       " <matplotlib.axis.XTick at 0x7fe2097ec390>,\n",
       " <matplotlib.axis.XTick at 0x7fe2097ec690>,\n",
       " <matplotlib.axis.XTick at 0x7fe2097ece50>,\n",
       " <matplotlib.axis.XTick at 0x7fe2097f5290>]"
      ]
     },
     "execution_count": 12,
     "metadata": {},
     "output_type": "execute_result"
    },
    {
     "data": {
      "image/png": "[encoded data removed]",
      "text/plain": [
       "<Figure size 1080x360 with 1 Axes>"
      ]
     },
     "metadata": {
      "needs_background": "light"
     },
     "output_type": "display_data"
    }
   ],
   "source": [
    "fig, ax = plt.subplots(figsize=(15, 5))\n",
    "\n",
    "ax.bar(keyword_group.sort_values('占比',ascending=False).index\n",
    "       ,keyword_group.sort_values('占比',ascending=False)['占比'])\n",
    "#輸出會跑出很多值\n",
    "#該如何處理?\n",
    "ax.set_xticks(np.arange(0, 220, 25))"
   ]
  },
  {
   "cell_type": "markdown",
   "id": "ef50e9d9",
   "metadata": {
    "papermill": {
     "duration": 0.01332,
     "end_time": "2022-06-27T13:03:12.047893",
     "exception": false,
     "start_time": "2022-06-27T13:03:12.034573",
     "status": "completed"
    },
    "tags": []
   },
   "source": [
    "### **2.2.3 location**"
   ]
  },
  {
   "cell_type": "markdown",
   "id": "eca0143c",
   "metadata": {
    "papermill": {
     "duration": 0.013129,
     "end_time": "2022-06-27T13:03:12.074739",
     "exception": false,
     "start_time": "2022-06-27T13:03:12.061610",
     "status": "completed"
    },
    "tags": []
   },
   "source": [
    "location列擁有的值<br>\n",
    "大多數是以國家名以及城市地區為主<br>\n",
    "不過其中仍然有些比較混雜的值<br>\n",
    "例如:網站名稱、無法理解的詞、亂碼.<br> "
   ]
  },
  {
   "cell_type": "markdown",
   "id": "11ef5df1",
   "metadata": {
    "papermill": {
     "duration": 0.013028,
     "end_time": "2022-06-27T13:03:12.101491",
     "exception": false,
     "start_time": "2022-06-27T13:03:12.088463",
     "status": "completed"
    },
    "tags": []
   },
   "source": [
    "- 問題思考:\n",
    "    1. 會不會有某些地區的留言與target值有關連性?"
   ]
  },
  {
   "cell_type": "code",
   "execution_count": 13,
   "id": "e6d45673",
   "metadata": {
    "execution": {
     "iopub.execute_input": "2022-06-27T13:03:12.129664Z",
     "iopub.status.busy": "2022-06-27T13:03:12.128993Z",
     "iopub.status.idle": "2022-06-27T13:03:12.141519Z",
     "shell.execute_reply": "2022-06-27T13:03:12.140811Z"
    },
    "papermill": {
     "duration": 0.028425,
     "end_time": "2022-06-27T13:03:12.143237",
     "exception": false,
     "start_time": "2022-06-27T13:03:12.114812",
     "status": "completed"
    },
    "tags": []
   },
   "outputs": [
    {
     "data": {
      "text/html": [
       "<div>\n",
       "<style scoped>\n",
       "    .dataframe tbody tr th:only-of-type {\n",
       "        vertical-align: middle;\n",
       "    }\n",
       "\n",
       "    .dataframe tbody tr th {\n",
       "        vertical-align: top;\n",
       "    }\n",
       "\n",
       "    .dataframe thead th {\n",
       "        text-align: right;\n",
       "    }\n",
       "</style>\n",
       "<table border=\"1\" class=\"dataframe\">\n",
       "  <thead>\n",
       "    <tr style=\"text-align: right;\">\n",
       "      <th></th>\n",
       "      <th>id</th>\n",
       "      <th>keyword</th>\n",
       "      <th>location</th>\n",
       "      <th>text</th>\n",
       "      <th>target</th>\n",
       "    </tr>\n",
       "  </thead>\n",
       "  <tbody>\n",
       "    <tr>\n",
       "      <th>31</th>\n",
       "      <td>48</td>\n",
       "      <td>ablaze</td>\n",
       "      <td>Birmingham</td>\n",
       "      <td>@bbcmtd Wholesale Markets ablaze http://t.co/l...</td>\n",
       "      <td>1</td>\n",
       "    </tr>\n",
       "    <tr>\n",
       "      <th>32</th>\n",
       "      <td>49</td>\n",
       "      <td>ablaze</td>\n",
       "      <td>Est. September 2012 - Bristol</td>\n",
       "      <td>We always try to bring the heavy. #metal #RT h...</td>\n",
       "      <td>0</td>\n",
       "    </tr>\n",
       "    <tr>\n",
       "      <th>33</th>\n",
       "      <td>50</td>\n",
       "      <td>ablaze</td>\n",
       "      <td>AFRICA</td>\n",
       "      <td>#AFRICANBAZE: Breaking news:Nigeria flag set a...</td>\n",
       "      <td>1</td>\n",
       "    </tr>\n",
       "    <tr>\n",
       "      <th>34</th>\n",
       "      <td>52</td>\n",
       "      <td>ablaze</td>\n",
       "      <td>Philadelphia, PA</td>\n",
       "      <td>Crying out for more! Set me ablaze</td>\n",
       "      <td>0</td>\n",
       "    </tr>\n",
       "    <tr>\n",
       "      <th>35</th>\n",
       "      <td>53</td>\n",
       "      <td>ablaze</td>\n",
       "      <td>London, UK</td>\n",
       "      <td>On plus side LOOK AT THE SKY LAST NIGHT IT WAS...</td>\n",
       "      <td>0</td>\n",
       "    </tr>\n",
       "    <tr>\n",
       "      <th>36</th>\n",
       "      <td>54</td>\n",
       "      <td>ablaze</td>\n",
       "      <td>Pretoria</td>\n",
       "      <td>@PhDSquares #mufc they've built so much hype a...</td>\n",
       "      <td>0</td>\n",
       "    </tr>\n",
       "  </tbody>\n",
       "</table>\n",
       "</div>"
      ],
      "text/plain": [
       "    id keyword                       location  \\\n",
       "31  48  ablaze                     Birmingham   \n",
       "32  49  ablaze  Est. September 2012 - Bristol   \n",
       "33  50  ablaze                         AFRICA   \n",
       "34  52  ablaze               Philadelphia, PA   \n",
       "35  53  ablaze                     London, UK   \n",
       "36  54  ablaze                       Pretoria   \n",
       "\n",
       "                                                 text  target  \n",
       "31  @bbcmtd Wholesale Markets ablaze http://t.co/l...       1  \n",
       "32  We always try to bring the heavy. #metal #RT h...       0  \n",
       "33  #AFRICANBAZE: Breaking news:Nigeria flag set a...       1  \n",
       "34                 Crying out for more! Set me ablaze       0  \n",
       "35  On plus side LOOK AT THE SKY LAST NIGHT IT WAS...       0  \n",
       "36  @PhDSquares #mufc they've built so much hype a...       0  "
      ]
     },
     "execution_count": 13,
     "metadata": {},
     "output_type": "execute_result"
    }
   ],
   "source": [
    "#排除掉location列值為nan的資料\n",
    "#並挑幾筆拿出來\n",
    "\n",
    "train[~train['location'].isna()].head(6)"
   ]
  },
  {
   "cell_type": "code",
   "execution_count": 14,
   "id": "5870f824",
   "metadata": {
    "execution": {
     "iopub.execute_input": "2022-06-27T13:03:12.171310Z",
     "iopub.status.busy": "2022-06-27T13:03:12.170780Z",
     "iopub.status.idle": "2022-06-27T13:03:12.181149Z",
     "shell.execute_reply": "2022-06-27T13:03:12.179793Z"
    },
    "papermill": {
     "duration": 0.026765,
     "end_time": "2022-06-27T13:03:12.183384",
     "exception": false,
     "start_time": "2022-06-27T13:03:12.156619",
     "status": "completed"
    },
    "tags": []
   },
   "outputs": [
    {
     "name": "stdout",
     "output_type": "stream",
     "text": [
      "location值       累計數量\n",
      "\n",
      "USA                104\n",
      "New York            71\n",
      "United States       50\n",
      "London              45\n",
      "Canada              29\n",
      "Nigeria             28\n",
      "UK                  27\n",
      "Los Angeles, CA     26\n",
      "India               24\n",
      "Mumbai              22\n",
      "Washington, DC      21\n",
      "Kenya               20\n",
      "Worldwide           19\n",
      "Australia           18\n",
      "Chicago, IL         18\n",
      "Name: location, dtype: int64\n",
      "\n",
      "--------------------------------------------------\n",
      "location值:\n",
      "[nan 'Birmingham' 'Est. September 2012 - Bristol' 'AFRICA'\n",
      " 'Philadelphia, PA' 'London, UK' 'Pretoria' 'World Wide!!'\n",
      " 'Paranaque City' 'Live On Webcam' 'milky way' 'GREENSBORO,NORTH CAROLINA'\n",
      " 'England.' 'Sheffield Township, Ohio' 'India' 'Barbados' 'Anaheim'\n",
      " 'Abuja' 'USA' 'South Africa' 'Sao Paulo, Brazil' 'hollywoodland '\n",
      " 'Edmonton, Alberta - Treaty 6' 'Inang Pamantasan'\n",
      " 'Twitter Lockout in progress' 'Concord, CA' 'Calgary, AB' 'San Francisco'\n",
      " 'CLVLND' 'Nashville, TN']\n"
     ]
    }
   ],
   "source": [
    "#了解location列包含哪些值以及其數量\n",
    "\n",
    "print(\"{0:16}{1:1}\".format('location值', '累計數量'))\n",
    "print('')\n",
    "print(train['location'].value_counts()[0:15])\n",
    "\n",
    "print('')\n",
    "print('-'*50)\n",
    "\n",
    "print('location值:')\n",
    "print(train['location'].unique()[0:30])"
   ]
  },
  {
   "cell_type": "markdown",
   "id": "26e7be14",
   "metadata": {
    "execution": {
     "iopub.execute_input": "2022-06-09T12:24:11.278411Z",
     "iopub.status.busy": "2022-06-09T12:24:11.278022Z",
     "iopub.status.idle": "2022-06-09T12:24:11.282379Z",
     "shell.execute_reply": "2022-06-09T12:24:11.28134Z",
     "shell.execute_reply.started": "2022-06-09T12:24:11.278378Z"
    },
    "papermill": {
     "duration": 0.013884,
     "end_time": "2022-06-27T13:03:12.211479",
     "exception": false,
     "start_time": "2022-06-27T13:03:12.197595",
     "status": "completed"
    },
    "tags": []
   },
   "source": [
    "### **2.2.4 text**"
   ]
  },
  {
   "cell_type": "markdown",
   "id": "9b81a121",
   "metadata": {
    "papermill": {
     "duration": 0.013324,
     "end_time": "2022-06-27T13:03:12.238330",
     "exception": false,
     "start_time": "2022-06-27T13:03:12.225006",
     "status": "completed"
    },
    "tags": []
   },
   "source": [
    "這邊加入文本每筆資料字和詞的數量會比較好<br>\n",
    "在之後可以用於判斷padding值該設定為多少.<br>"
   ]
  },
  {
   "cell_type": "code",
   "execution_count": 15,
   "id": "f2c78f07",
   "metadata": {
    "execution": {
     "iopub.execute_input": "2022-06-27T13:03:12.266881Z",
     "iopub.status.busy": "2022-06-27T13:03:12.266232Z",
     "iopub.status.idle": "2022-06-27T13:03:12.271188Z",
     "shell.execute_reply": "2022-06-27T13:03:12.270464Z"
    },
    "papermill": {
     "duration": 0.02146,
     "end_time": "2022-06-27T13:03:12.273394",
     "exception": false,
     "start_time": "2022-06-27T13:03:12.251934",
     "status": "completed"
    },
    "tags": []
   },
   "outputs": [
    {
     "name": "stdout",
     "output_type": "stream",
     "text": [
      "Our Deeds are the Reason of this #earthquake May ALLAH Forgive us all\n",
      "Forest fire near La Ronge Sask. Canada\n",
      "All residents asked to 'shelter in place' are being notified by officers. No other evacuation or shelter in place orders are expected\n",
      "13,000 people receive #wildfires evacuation orders in California \n",
      "Just got sent this photo from Ruby #Alaska as smoke from #wildfires pours into a school \n",
      "#RockyFire Update => California Hwy. 20 closed in both directions due to Lake County fire - #CAfire #wildfires\n",
      "#flood #disaster Heavy rain causes flash flooding of streets in Manitou, Colorado Springs areas\n",
      "I'm on top of the hill and I can see a fire in the woods...\n",
      "There's an emergency evacuation happening now in the building across the street\n",
      "I'm afraid that the tornado is coming to our area...\n",
      "Three people died from the heat wave so far\n",
      "Haha South Tampa is getting flooded hah- WAIT A SECOND I LIVE IN SOUTH TAMPA WHAT AM I GONNA DO WHAT AM I GONNA DO FVCK #flooding\n",
      "#raining #flooding #Florida #TampaBay #Tampa 18 or 19 days. I've lost count \n",
      "#Flood in Bago Myanmar #We arrived Bago\n",
      "Damage to school bus on 80 in multi car crash #BREAKING \n",
      "What's up man?\n",
      "I love fruits\n",
      "Summer is lovely\n",
      "My car is so fast\n",
      "What a goooooooaaaaaal!!!!!!\n"
     ]
    }
   ],
   "source": [
    "#前20筆text\n",
    "\n",
    "text=train['text'].values\n",
    "num=0\n",
    "\n",
    "for n in text:\n",
    "    num+=1\n",
    "    print(n)\n",
    "    if num==20:\n",
    "        break"
   ]
  },
  {
   "cell_type": "markdown",
   "id": "ee7e4c12",
   "metadata": {
    "papermill": {
     "duration": 0.013673,
     "end_time": "2022-06-27T13:03:12.300914",
     "exception": false,
     "start_time": "2022-06-27T13:03:12.287241",
     "status": "completed"
    },
    "tags": []
   },
   "source": [
    "### **2.2.5 target**"
   ]
  },
  {
   "cell_type": "markdown",
   "id": "3ad1a5f4",
   "metadata": {
    "papermill": {
     "duration": 0.013467,
     "end_time": "2022-06-27T13:03:12.328642",
     "exception": false,
     "start_time": "2022-06-27T13:03:12.315175",
     "status": "completed"
    },
    "tags": []
   },
   "source": [
    "target用於表示text是否與災難有關"
   ]
  },
  {
   "cell_type": "code",
   "execution_count": 16,
   "id": "465e3b79",
   "metadata": {
    "execution": {
     "iopub.execute_input": "2022-06-27T13:03:12.357304Z",
     "iopub.status.busy": "2022-06-27T13:03:12.356666Z",
     "iopub.status.idle": "2022-06-27T13:03:12.364782Z",
     "shell.execute_reply": "2022-06-27T13:03:12.363557Z"
    },
    "papermill": {
     "duration": 0.024642,
     "end_time": "2022-06-27T13:03:12.366905",
     "exception": false,
     "start_time": "2022-06-27T13:03:12.342263",
     "status": "completed"
    },
    "tags": []
   },
   "outputs": [
    {
     "name": "stdout",
     "output_type": "stream",
     "text": [
      "0和1個別總數:\n"
     ]
    },
    {
     "data": {
      "text/plain": [
       "target\n",
       "0    4342\n",
       "1    3271\n",
       "Name: target, dtype: int64"
      ]
     },
     "execution_count": 16,
     "metadata": {},
     "output_type": "execute_result"
    }
   ],
   "source": [
    "print('0和1個別總數:')\n",
    "train.groupby('target')['target'].count()"
   ]
  },
  {
   "cell_type": "markdown",
   "id": "919889f5",
   "metadata": {
    "papermill": {
     "duration": 0.013614,
     "end_time": "2022-06-27T13:03:12.394796",
     "exception": false,
     "start_time": "2022-06-27T13:03:12.381182",
     "status": "completed"
    },
    "tags": []
   },
   "source": [
    "# **3. Data Preprocessing(資料前處理)**"
   ]
  },
  {
   "cell_type": "markdown",
   "id": "586ef62f",
   "metadata": {
    "papermill": {
     "duration": 0.013685,
     "end_time": "2022-06-27T13:03:12.422174",
     "exception": false,
     "start_time": "2022-06-27T13:03:12.408489",
     "status": "completed"
    },
    "tags": []
   },
   "source": [
    "經過上面的探索式分析<br>\n",
    "判斷資料中大部分的列都不會是我們這次要帶入模型的資訊<br>\n",
    "而這次會使用到的列有: text、target.<br>\n",
    "我們需要對這些資料進行前處理.<br>\n",
    "\n",
    "另外一點<br>\n",
    "我們需要的columns中<br>\n",
    "並沒有缺失值<br>\n",
    "因此並不需要進行相關的處理.<br>"
   ]
  },
  {
   "cell_type": "code",
   "execution_count": 17,
   "id": "ee8cd259",
   "metadata": {
    "execution": {
     "iopub.execute_input": "2022-06-27T13:03:12.451093Z",
     "iopub.status.busy": "2022-06-27T13:03:12.450435Z",
     "iopub.status.idle": "2022-06-27T13:03:12.453981Z",
     "shell.execute_reply": "2022-06-27T13:03:12.453239Z"
    },
    "papermill": {
     "duration": 0.019626,
     "end_time": "2022-06-27T13:03:12.455557",
     "exception": false,
     "start_time": "2022-06-27T13:03:12.435931",
     "status": "completed"
    },
    "tags": []
   },
   "outputs": [],
   "source": [
    "#超參數設定\n",
    "\n",
    "max_length=70    #padding值"
   ]
  },
  {
   "cell_type": "markdown",
   "id": "2a64a177",
   "metadata": {
    "papermill": {
     "duration": 0.013631,
     "end_time": "2022-06-27T13:03:12.482834",
     "exception": false,
     "start_time": "2022-06-27T13:03:12.469203",
     "status": "completed"
    },
    "tags": []
   },
   "source": [
    "## **載入bert語言模型**"
   ]
  },
  {
   "cell_type": "code",
   "execution_count": 18,
   "id": "4ee7aeb2",
   "metadata": {
    "execution": {
     "iopub.execute_input": "2022-06-27T13:03:12.512179Z",
     "iopub.status.busy": "2022-06-27T13:03:12.511398Z",
     "iopub.status.idle": "2022-06-27T13:03:21.644999Z",
     "shell.execute_reply": "2022-06-27T13:03:21.643849Z"
    },
    "papermill": {
     "duration": 9.150216,
     "end_time": "2022-06-27T13:03:21.646800",
     "exception": false,
     "start_time": "2022-06-27T13:03:12.496584",
     "status": "completed"
    },
    "tags": []
   },
   "outputs": [
    {
     "name": "stdout",
     "output_type": "stream",
     "text": [
      "--------------------\n",
      "##holders      17794\n",
      "##wal          13476\n",
      "##bby          14075\n",
      "##ٹ            29838\n",
      "whispers       11054\n",
      "elsewhere      6974\n",
      "huey           29503\n",
      "pulitzer       17618\n",
      "ರ              1401\n",
      "chihuahua      28480\n",
      "--------------------\n",
      "tokenizer轉換測試:\n",
      "[101, 2196, 2404, 2125, 2054, 2017, 2064, 2079, 2651, 2127, 4826, 102]\n",
      "['[CLS]', 'never', 'put', 'off', 'what', 'you', 'can', 'do', 'today', 'until', 'tomorrow', '[SEP]']\n"
     ]
    }
   ],
   "source": [
    "#導入berttokernizer並簡單測試\n",
    "\n",
    "tokenizer=BertTokenizer.from_pretrained('bert-base-uncased')\n",
    "test_text='Never put off what you can do today until tomorrow' \n",
    "clear_output()\n",
    "\n",
    "#tokenizer其中10個tokens對應ids\n",
    "print('-'*20)\n",
    "for n in np.random.randint(0,len(tokenizer.get_vocab()),10):\n",
    "    n=list(tokenizer.get_vocab().keys())[n] \n",
    "    print('{0:15}{1:1}'.format(n,tokenizer.get_vocab()[n]))\n",
    "\n",
    "#tokenizer轉換測試\n",
    "print('-'*20)\n",
    "print('tokenizer轉換測試:')\n",
    "print(tokenizer.encode(test_text))\n",
    "print(tokenizer.convert_ids_to_tokens(tokenizer.encode(test_text)))"
   ]
  },
  {
   "cell_type": "code",
   "execution_count": 19,
   "id": "e01bd8b8",
   "metadata": {
    "execution": {
     "iopub.execute_input": "2022-06-27T13:03:21.676853Z",
     "iopub.status.busy": "2022-06-27T13:03:21.676495Z",
     "iopub.status.idle": "2022-06-27T13:03:27.317454Z",
     "shell.execute_reply": "2022-06-27T13:03:27.316604Z"
    },
    "papermill": {
     "duration": 5.658372,
     "end_time": "2022-06-27T13:03:27.319513",
     "exception": false,
     "start_time": "2022-06-27T13:03:21.661141",
     "status": "completed"
    },
    "tags": []
   },
   "outputs": [
    {
     "name": "stdout",
     "output_type": "stream",
     "text": [
      "16 [101, 2256, 15616, 2024, 1996, 3114, 1997, 2023, 1001, 8372, 2089, 16455, 9641, 2149, 2035, 102] ...\n",
      "12 [101, 3224, 2543, 2379, 2474, 6902, 3351, 21871, 2243, 1012, 2710, 102] ...\n",
      "27 [101, 2035, 3901, 2356, 2000, 1005, 7713, 1999, 2173, 1005, 2024, 2108, 19488, 2011, 3738, 1012, 2053, 2060, 13982, 2030] ...\n",
      "14 [101, 2410, 1010, 2199, 2111, 4374, 1001, 3748, 26332, 13982, 4449, 1999, 2662, 102] ...\n",
      "22 [101, 2074, 2288, 2741, 2023, 6302, 2013, 10090, 1001, 7397, 2004, 5610, 2013, 1001, 3748, 26332, 10364, 2015, 2046, 1037] ...\n",
      "29 [101, 1001, 6857, 10273, 10651, 1027, 1028, 2662, 1044, 18418, 1012, 2322, 2701, 1999, 2119, 7826, 2349, 2000, 2697, 2221] ...\n",
      "20 [101, 1001, 7186, 1001, 7071, 3082, 4542, 5320, 5956, 9451, 1997, 4534, 1999, 23624, 24826, 1010, 5169, 6076, 2752, 102] ...\n",
      "22 [101, 1045, 1005, 1049, 2006, 2327, 1997, 1996, 2940, 1998, 1045, 2064, 2156, 1037, 2543, 1999, 1996, 5249, 1012, 1012] ...\n",
      "16 [101, 2045, 1005, 1055, 2019, 5057, 13982, 6230, 2085, 1999, 1996, 2311, 2408, 1996, 2395, 102] ...\n",
      "17 [101, 1045, 1005, 1049, 4452, 2008, 1996, 11352, 2003, 2746, 2000, 2256, 2181, 1012, 1012, 1012, 102] ...\n",
      "句子最大tokens數:  84\n"
     ]
    }
   ],
   "source": [
    "#觀察文本轉換後的各別token總數\n",
    "\n",
    "tokens=[]\n",
    "for n in range(len(train['text'])):\n",
    "    n=tokenizer.encode(train['text'][n])\n",
    "    tokens.append(n)   \n",
    "#len(tokens)\n",
    "\n",
    "#可能會需要視覺化句子token數量\n",
    "#這樣可以比較知道padding數值要設為多少\n",
    "#這邊可以用隨機取樣的方式\n",
    "for n in tokens[:10]:\n",
    "    print(len(n), n[:20],'...')\n",
    "    \n",
    "max_seq_len = max([len(n) for n in tokens])\n",
    "print('句子最大tokens數: ',max_seq_len)\n",
    "    "
   ]
  },
  {
   "cell_type": "markdown",
   "id": "727e3923",
   "metadata": {
    "papermill": {
     "duration": 0.015167,
     "end_time": "2022-06-27T13:03:27.351293",
     "exception": false,
     "start_time": "2022-06-27T13:03:27.336126",
     "status": "completed"
    },
    "tags": []
   },
   "source": [
    "## **轉換文本資料**"
   ]
  },
  {
   "cell_type": "code",
   "execution_count": 20,
   "id": "41bd64c2",
   "metadata": {
    "execution": {
     "iopub.execute_input": "2022-06-27T13:03:27.380569Z",
     "iopub.status.busy": "2022-06-27T13:03:27.380276Z",
     "iopub.status.idle": "2022-06-27T13:03:36.384243Z",
     "shell.execute_reply": "2022-06-27T13:03:36.383435Z"
    },
    "papermill": {
     "duration": 9.021121,
     "end_time": "2022-06-27T13:03:36.386506",
     "exception": false,
     "start_time": "2022-06-27T13:03:27.365385",
     "status": "completed"
    },
    "tags": []
   },
   "outputs": [
    {
     "name": "stdout",
     "output_type": "stream",
     "text": [
      "input_ids:\n",
      "[  101  2256 15616  2024  1996  3114  1997  2023  1001  8372  2089 16455\n",
      "  9641  2149  2035   102     0     0     0     0] ...\n",
      "[  101  3224  2543  2379  2474  6902  3351 21871  2243  1012  2710   102\n",
      "     0     0     0     0     0     0     0     0] ...\n",
      "[  101  2035  3901  2356  2000  1005  7713  1999  2173  1005  2024  2108\n",
      " 19488  2011  3738  1012  2053  2060 13982  2030] ...\n",
      "[  101  2410  1010  2199  2111  4374  1001  3748 26332 13982  4449  1999\n",
      "  2662   102     0     0     0     0     0     0] ...\n",
      "[  101  2074  2288  2741  2023  6302  2013 10090  1001  7397  2004  5610\n",
      "  2013  1001  3748 26332 10364  2015  2046  1037] ...\n",
      "[  101  1001  6857 10273 10651  1027  1028  2662  1044 18418  1012  2322\n",
      "  2701  1999  2119  7826  2349  2000  2697  2221] ...\n",
      "[  101  1001  7186  1001  7071  3082  4542  5320  5956  9451  1997  4534\n",
      "  1999 23624 24826  1010  5169  6076  2752   102] ...\n",
      "[ 101 1045 1005 1049 2006 2327 1997 1996 2940 1998 1045 2064 2156 1037\n",
      " 2543 1999 1996 5249 1012 1012] ...\n",
      "[  101  2045  1005  1055  2019  5057 13982  6230  2085  1999  1996  2311\n",
      "  2408  1996  2395   102     0     0     0     0] ...\n",
      "[  101  1045  1005  1049  4452  2008  1996 11352  2003  2746  2000  2256\n",
      "  2181  1012  1012  1012   102     0     0     0] ...\n",
      "attention_masks:\n",
      "[1 1 1 1 1 1 1 1 1 1 1 1 1 1 1 1 0 0 0 0] ...\n",
      "[1 1 1 1 1 1 1 1 1 1 1 1 0 0 0 0 0 0 0 0] ...\n",
      "[1 1 1 1 1 1 1 1 1 1 1 1 1 1 1 1 1 1 1 1] ...\n",
      "[1 1 1 1 1 1 1 1 1 1 1 1 1 1 0 0 0 0 0 0] ...\n",
      "[1 1 1 1 1 1 1 1 1 1 1 1 1 1 1 1 1 1 1 1] ...\n",
      "[1 1 1 1 1 1 1 1 1 1 1 1 1 1 1 1 1 1 1 1] ...\n",
      "[1 1 1 1 1 1 1 1 1 1 1 1 1 1 1 1 1 1 1 1] ...\n",
      "[1 1 1 1 1 1 1 1 1 1 1 1 1 1 1 1 1 1 1 1] ...\n",
      "[1 1 1 1 1 1 1 1 1 1 1 1 1 1 1 1 0 0 0 0] ...\n",
      "[1 1 1 1 1 1 1 1 1 1 1 1 1 1 1 1 1 0 0 0] ...\n"
     ]
    }
   ],
   "source": [
    "#轉換資料成model的input\n",
    "\n",
    "#bert encoder.\n",
    "#定義轉換資料的函式\n",
    "#此函式將會把dataset轉換成model input\n",
    "def encode(data):\n",
    "    \n",
    "    input_ids=[]\n",
    "    attention_masks=[]\n",
    "\n",
    "    for n in range(len(data)):\n",
    "        #tokenizer.encode_plus 參數:\n",
    "        #max_length 指定被補足的token數量\n",
    "        #truncation 設定是否刪除超過max_length數量的token \n",
    "        input=tokenizer.encode_plus(data.text[n],\n",
    "                                    add_special_tokens=True,\n",
    "                                    padding='max_length',\n",
    "                                    max_length=max_length,\n",
    "                                    truncation=True,\n",
    "                                    return_attention_mask=True,)\n",
    "\n",
    "        input_ids.append(input['input_ids'])\n",
    "        attention_masks.append(input['attention_mask'])\n",
    "    return np.array(input_ids), np.array(attention_masks)\n",
    "        \n",
    "#轉換資料        \n",
    "input_ids, attention_masks=encode(train)\n",
    "test_input_ids, test_attention_masks=encode(test)\n",
    "\n",
    "#顯示處理後的資料\n",
    "#model input\n",
    "print('input_ids:')\n",
    "for n in range(10):\n",
    "    print(input_ids[n][:20],'...')\n",
    "print('attention_masks:')\n",
    "for n in range(10):\n",
    "    print(attention_masks[n][:20],'...')"
   ]
  },
  {
   "cell_type": "markdown",
   "id": "525ab019",
   "metadata": {
    "execution": {
     "iopub.execute_input": "2022-06-15T12:54:12.081649Z",
     "iopub.status.busy": "2022-06-15T12:54:12.080972Z",
     "iopub.status.idle": "2022-06-15T12:54:12.086885Z",
     "shell.execute_reply": "2022-06-15T12:54:12.086246Z",
     "shell.execute_reply.started": "2022-06-15T12:54:12.081612Z"
    },
    "papermill": {
     "duration": 0.014009,
     "end_time": "2022-06-27T13:03:36.415156",
     "exception": false,
     "start_time": "2022-06-27T13:03:36.401147",
     "status": "completed"
    },
    "tags": []
   },
   "source": [
    "# **4. Model**"
   ]
  },
  {
   "cell_type": "markdown",
   "id": "bba47522",
   "metadata": {
    "papermill": {
     "duration": 0.014427,
     "end_time": "2022-06-27T13:03:36.443901",
     "exception": false,
     "start_time": "2022-06-27T13:03:36.429474",
     "status": "completed"
    },
    "tags": []
   },
   "source": [
    "在本次項目當中<br>\n",
    "會使用三種不同的模型進行測試<br>\n",
    "最後會挑出準確度最好的模型為test資料進行預測.<br>"
   ]
  },
  {
   "cell_type": "markdown",
   "id": "5ebfd254",
   "metadata": {
    "papermill": {
     "duration": 0.014513,
     "end_time": "2022-06-27T13:03:36.472512",
     "exception": false,
     "start_time": "2022-06-27T13:03:36.457999",
     "status": "completed"
    },
    "tags": []
   },
   "source": [
    "問題思考:<br>\n",
    "- 與範例的名行架構不同<br>\n",
    "少了一個DENSE層<br>\n",
    "這樣會有甚麼差別?<br>\n",
    "準確度差異看起來並不是很大<br>\n",
    "- 不同的batch size和epoch會分別有甚麼差別?<br>\n",
    "epoch值設定的越大<br>\n",
    "模型會更加的擬合traindata<br>\n",
    "traindata準確度會變高<br>\n",
    "不過即使如此<br>\n",
    "在其他data上卻也不見得有如此的準確度.<br>\n",
    "- 各個層的意義是甚麼?<br>\n",
    "- activation有哪些差異?<br>\n",
    "- 要如何套用TFBertForSequenceClassification到模型架構當中?<br>\n",
    "如同model3的操作<br>\n",
    "- 要如何紀錄模型訓練過程的checkpoint?<br>\n",
    "印象中還有相關的蠻重要的用法<br>\n",
    "那個是甚麼?<br>\n",
    "- 原先的準確度大約在0.80~0.84間<br>\n",
    "我應該做甚麼調整以提升準確度?<br>\n",
    "如果修改drop可以提升valdata的準確度嗎?<br>\n",
    "- 當batch_size超過一定值以後<br>\n",
    "就會無法訓練<br>\n",
    "這是為甚麼?<br>\n",
    "- 三個模型的準確度分別為0.80140、0.82562、0.84247<br>\n",
    "是模型的那些部分造成這些差異?<br>\n",
    "\n",
    "\n",
    "觀察:\n",
    "- 訓練的次數越多時<br>\n",
    "訓練資料及的準確度會慢慢提升<br>\n",
    "但是測試資料及的準確度並沒有提升.<br>\n",
    "- 我有嘗試調整batch_size<br>\n",
    "不過當超過一定值以後<br>\n",
    "就會無法運行<br>\n",
    "這是為甚麼?<br>\n",
    "- 在這次定義的模型的訓練過程中<br>\n",
    "提升訓練次數只有單獨提升traindata準確度<br>\n",
    "而valdata並不會<br>\n",
    "甚至是會降低.<br>"
   ]
  },
  {
   "cell_type": "markdown",
   "id": "6a941fb8",
   "metadata": {
    "papermill": {
     "duration": 0.01392,
     "end_time": "2022-06-27T13:03:36.500834",
     "exception": false,
     "start_time": "2022-06-27T13:03:36.486914",
     "status": "completed"
    },
    "tags": []
   },
   "source": [
    "## **BERT模型導入**"
   ]
  },
  {
   "cell_type": "code",
   "execution_count": 21,
   "id": "44d25e4d",
   "metadata": {
    "execution": {
     "iopub.execute_input": "2022-06-27T13:03:36.531780Z",
     "iopub.status.busy": "2022-06-27T13:03:36.530981Z",
     "iopub.status.idle": "2022-06-27T13:04:35.965097Z",
     "shell.execute_reply": "2022-06-27T13:04:35.963702Z"
    },
    "papermill": {
     "duration": 59.452512,
     "end_time": "2022-06-27T13:04:35.967471",
     "exception": false,
     "start_time": "2022-06-27T13:03:36.514959",
     "status": "completed"
    },
    "tags": []
   },
   "outputs": [
    {
     "data": {
      "application/vnd.jupyter.widget-view+json": {
       "model_id": "b5ace2a924bd43318a6f19ff9c8a525a",
       "version_major": 2,
       "version_minor": 0
      },
      "text/plain": [
       "Downloading:   0%|          | 0.00/511M [00:00<?, ?B/s]"
      ]
     },
     "metadata": {},
     "output_type": "display_data"
    },
    {
     "name": "stderr",
     "output_type": "stream",
     "text": [
      "2022-06-27 13:04:29.209137: I tensorflow/stream_executor/cuda/cuda_gpu_executor.cc:937] successful NUMA node read from SysFS had negative value (-1), but there must be at least one NUMA node, so returning NUMA node zero\n",
      "2022-06-27 13:04:29.210313: I tensorflow/stream_executor/cuda/cuda_gpu_executor.cc:937] successful NUMA node read from SysFS had negative value (-1), but there must be at least one NUMA node, so returning NUMA node zero\n",
      "2022-06-27 13:04:29.211001: I tensorflow/stream_executor/cuda/cuda_gpu_executor.cc:937] successful NUMA node read from SysFS had negative value (-1), but there must be at least one NUMA node, so returning NUMA node zero\n",
      "2022-06-27 13:04:29.211987: I tensorflow/core/platform/cpu_feature_guard.cc:142] This TensorFlow binary is optimized with oneAPI Deep Neural Network Library (oneDNN) to use the following CPU instructions in performance-critical operations:  AVX2 AVX512F FMA\n",
      "To enable them in other operations, rebuild TensorFlow with the appropriate compiler flags.\n",
      "2022-06-27 13:04:29.212343: I tensorflow/stream_executor/cuda/cuda_gpu_executor.cc:937] successful NUMA node read from SysFS had negative value (-1), but there must be at least one NUMA node, so returning NUMA node zero\n",
      "2022-06-27 13:04:29.213060: I tensorflow/stream_executor/cuda/cuda_gpu_executor.cc:937] successful NUMA node read from SysFS had negative value (-1), but there must be at least one NUMA node, so returning NUMA node zero\n",
      "2022-06-27 13:04:29.213728: I tensorflow/stream_executor/cuda/cuda_gpu_executor.cc:937] successful NUMA node read from SysFS had negative value (-1), but there must be at least one NUMA node, so returning NUMA node zero\n",
      "2022-06-27 13:04:33.664888: I tensorflow/stream_executor/cuda/cuda_gpu_executor.cc:937] successful NUMA node read from SysFS had negative value (-1), but there must be at least one NUMA node, so returning NUMA node zero\n",
      "2022-06-27 13:04:33.665738: I tensorflow/stream_executor/cuda/cuda_gpu_executor.cc:937] successful NUMA node read from SysFS had negative value (-1), but there must be at least one NUMA node, so returning NUMA node zero\n",
      "2022-06-27 13:04:33.666425: I tensorflow/stream_executor/cuda/cuda_gpu_executor.cc:937] successful NUMA node read from SysFS had negative value (-1), but there must be at least one NUMA node, so returning NUMA node zero\n",
      "2022-06-27 13:04:33.667189: I tensorflow/core/common_runtime/gpu/gpu_device.cc:1510] Created device /job:localhost/replica:0/task:0/device:GPU:0 with 15047 MB memory:  -> device: 0, name: Tesla P100-PCIE-16GB, pci bus id: 0000:00:04.0, compute capability: 6.0\n",
      "Some layers from the model checkpoint at bert-base-uncased were not used when initializing TFBertModel: ['nsp___cls', 'mlm___cls']\n",
      "- This IS expected if you are initializing TFBertModel from the checkpoint of a model trained on another task or with another architecture (e.g. initializing a BertForSequenceClassification model from a BertForPreTraining model).\n",
      "- This IS NOT expected if you are initializing TFBertModel from the checkpoint of a model that you expect to be exactly identical (initializing a BertForSequenceClassification model from a BertForSequenceClassification model).\n",
      "All the layers of TFBertModel were initialized from the model checkpoint at bert-base-uncased.\n",
      "If your task is similar to the task the model of the checkpoint was trained on, you can already use TFBertModel for predictions without further training.\n"
     ]
    },
    {
     "name": "stdout",
     "output_type": "stream",
     "text": [
      "--------------------\n",
      "BertConfig {\n",
      "  \"_name_or_path\": \"bert-base-uncased\",\n",
      "  \"architectures\": [\n",
      "    \"BertForMaskedLM\"\n",
      "  ],\n",
      "  \"attention_probs_dropout_prob\": 0.1,\n",
      "  \"classifier_dropout\": null,\n",
      "  \"gradient_checkpointing\": false,\n",
      "  \"hidden_act\": \"gelu\",\n",
      "  \"hidden_dropout_prob\": 0.1,\n",
      "  \"hidden_size\": 768,\n",
      "  \"initializer_range\": 0.02,\n",
      "  \"intermediate_size\": 3072,\n",
      "  \"layer_norm_eps\": 1e-12,\n",
      "  \"max_position_embeddings\": 512,\n",
      "  \"model_type\": \"bert\",\n",
      "  \"num_attention_heads\": 12,\n",
      "  \"num_hidden_layers\": 12,\n",
      "  \"pad_token_id\": 0,\n",
      "  \"position_embedding_type\": \"absolute\",\n",
      "  \"transformers_version\": \"4.18.0\",\n",
      "  \"type_vocab_size\": 2,\n",
      "  \"use_cache\": true,\n",
      "  \"vocab_size\": 30522\n",
      "}\n",
      "\n",
      "--------------------\n"
     ]
    },
    {
     "data": {
      "text/plain": [
       "[<transformers.models.bert.modeling_tf_bert.TFBertMainLayer at 0x7fe2ea770e50>]"
      ]
     },
     "execution_count": 21,
     "metadata": {},
     "output_type": "execute_result"
    }
   ],
   "source": [
    "#bert模型1\n",
    "\n",
    "bertmodel1 = TFBertModel.from_pretrained('bert-base-uncased')\n",
    "\n",
    "\n",
    "#顯示bertmodel配置\n",
    "print('-'*20)\n",
    "print(bertmodel1.config)\n",
    "#顯示bert隱藏層\n",
    "print('-'*20)\n",
    "bertmodel1.layers\n",
    "\n",
    "#顯示bertmodel 選定的隱藏層的配置\n",
    "#bertmodel1.layers[n].get_config()\n",
    "# bertmodel1.layers[0].get_config()\n",
    "\n",
    "#顯示用bertmodel轉換後的值\n",
    "# x1=tf.convert_to_tensor(input_ids)\n",
    "# x2=tf.convert_to_tensor(attention_masks)\n",
    "# bertmodel([x1,x2])"
   ]
  },
  {
   "cell_type": "code",
   "execution_count": 22,
   "id": "a90ae63f",
   "metadata": {
    "execution": {
     "iopub.execute_input": "2022-06-27T13:04:35.998631Z",
     "iopub.status.busy": "2022-06-27T13:04:35.998050Z",
     "iopub.status.idle": "2022-06-27T13:04:39.021220Z",
     "shell.execute_reply": "2022-06-27T13:04:39.020475Z"
    },
    "papermill": {
     "duration": 3.040511,
     "end_time": "2022-06-27T13:04:39.023076",
     "exception": false,
     "start_time": "2022-06-27T13:04:35.982565",
     "status": "completed"
    },
    "tags": []
   },
   "outputs": [
    {
     "name": "stderr",
     "output_type": "stream",
     "text": [
      "All model checkpoint layers were used when initializing TFBertForSequenceClassification.\n",
      "\n",
      "Some layers of TFBertForSequenceClassification were not initialized from the model checkpoint at bert-base-uncased and are newly initialized: ['classifier']\n",
      "You should probably TRAIN this model on a down-stream task to be able to use it for predictions and inference.\n"
     ]
    },
    {
     "name": "stdout",
     "output_type": "stream",
     "text": [
      "--------------------\n",
      "BertConfig {\n",
      "  \"_name_or_path\": \"bert-base-uncased\",\n",
      "  \"architectures\": [\n",
      "    \"BertForMaskedLM\"\n",
      "  ],\n",
      "  \"attention_probs_dropout_prob\": 0.1,\n",
      "  \"classifier_dropout\": null,\n",
      "  \"gradient_checkpointing\": false,\n",
      "  \"hidden_act\": \"gelu\",\n",
      "  \"hidden_dropout_prob\": 0.1,\n",
      "  \"hidden_size\": 768,\n",
      "  \"id2label\": {\n",
      "    \"0\": \"LABEL_0\"\n",
      "  },\n",
      "  \"initializer_range\": 0.02,\n",
      "  \"intermediate_size\": 3072,\n",
      "  \"label2id\": {\n",
      "    \"LABEL_0\": 0\n",
      "  },\n",
      "  \"layer_norm_eps\": 1e-12,\n",
      "  \"max_position_embeddings\": 512,\n",
      "  \"model_type\": \"bert\",\n",
      "  \"num_attention_heads\": 12,\n",
      "  \"num_hidden_layers\": 12,\n",
      "  \"pad_token_id\": 0,\n",
      "  \"position_embedding_type\": \"absolute\",\n",
      "  \"transformers_version\": \"4.18.0\",\n",
      "  \"type_vocab_size\": 2,\n",
      "  \"use_cache\": true,\n",
      "  \"vocab_size\": 30522\n",
      "}\n",
      "\n",
      "--------------------\n"
     ]
    },
    {
     "data": {
      "text/plain": [
       "[<transformers.models.bert.modeling_tf_bert.TFBertMainLayer at 0x7fe209741790>,\n",
       " <keras.layers.core.Dropout at 0x7fe1fd52ae10>,\n",
       " <keras.layers.core.Dense at 0x7fe1fd533210>]"
      ]
     },
     "execution_count": 22,
     "metadata": {},
     "output_type": "execute_result"
    }
   ],
   "source": [
    "#bert模型2\n",
    "\n",
    "#這邊需要注意\n",
    "#在本次的案例中\n",
    "#是要判斷文本'是'(1)或'否'(0)符合某個條件\n",
    "#即為2元分類(應該是這個名字)\n",
    "#因此最後的輸出的結果只要一個介於0到1之間的值.\n",
    "#此處呼叫bert分類模型時需要加入參數num_labels設定\n",
    "#參數值則為模型輸出值的數量\n",
    "\n",
    "bertmodel2 = TFBertForSequenceClassification.from_pretrained('bert-base-uncased',num_labels=1)\n",
    "\n",
    "\n",
    "\n",
    "#顯示bertmodel配置\n",
    "print('-'*20)\n",
    "print(bertmodel2.config)\n",
    "#顯示bert隱藏層\n",
    "print('-'*20)\n",
    "bertmodel2.layers\n",
    "\n",
    "#顯示bertmodel 選定的隱藏層的配置\n",
    "#bertmodel2.layers[n].get_config()\n",
    "# bertmodel2.layers[0].get_config()\n",
    "\n",
    "#顯示用bertmodel轉換後的值\n",
    "# x1=tf.convert_to_tensor(input_ids)\n",
    "# x2=tf.convert_to_tensor(attention_masks)\n",
    "# y=bertmodel2([x1[:50],x2[:50]])\n",
    "# y"
   ]
  },
  {
   "cell_type": "markdown",
   "id": "d407c201",
   "metadata": {
    "papermill": {
     "duration": 0.015118,
     "end_time": "2022-06-27T13:04:39.055754",
     "exception": false,
     "start_time": "2022-06-27T13:04:39.040636",
     "status": "completed"
    },
    "tags": []
   },
   "source": [
    "##  **模型定義**"
   ]
  },
  {
   "cell_type": "code",
   "execution_count": 23,
   "id": "775b2324",
   "metadata": {
    "execution": {
     "iopub.execute_input": "2022-06-27T13:04:39.087837Z",
     "iopub.status.busy": "2022-06-27T13:04:39.087182Z",
     "iopub.status.idle": "2022-06-27T13:04:45.753348Z",
     "shell.execute_reply": "2022-06-27T13:04:45.752158Z"
    },
    "papermill": {
     "duration": 6.685474,
     "end_time": "2022-06-27T13:04:45.756682",
     "exception": false,
     "start_time": "2022-06-27T13:04:39.071208",
     "status": "completed"
    },
    "tags": []
   },
   "outputs": [
    {
     "name": "stdout",
     "output_type": "stream",
     "text": [
      "Model: \"model\"\n",
      "__________________________________________________________________________________________________\n",
      "Layer (type)                    Output Shape         Param #     Connected to                     \n",
      "==================================================================================================\n",
      "input_1 (InputLayer)            [(None, 70)]         0                                            \n",
      "__________________________________________________________________________________________________\n",
      "input_2 (InputLayer)            [(None, 70)]         0                                            \n",
      "__________________________________________________________________________________________________\n",
      "tf_bert_model (TFBertModel)     TFBaseModelOutputWit 109482240   input_1[0][0]                    \n",
      "                                                                 input_2[0][0]                    \n",
      "__________________________________________________________________________________________________\n",
      "dense (Dense)                   (None, 32)           24608       tf_bert_model[0][1]              \n",
      "__________________________________________________________________________________________________\n",
      "dropout_75 (Dropout)            (None, 32)           0           dense[0][0]                      \n",
      "__________________________________________________________________________________________________\n",
      "dense_1 (Dense)                 (None, 1)            33          dropout_75[0][0]                 \n",
      "==================================================================================================\n",
      "Total params: 109,506,881\n",
      "Trainable params: 109,506,881\n",
      "Non-trainable params: 0\n",
      "__________________________________________________________________________________________________\n"
     ]
    },
    {
     "name": "stderr",
     "output_type": "stream",
     "text": [
      "/opt/conda/lib/python3.7/site-packages/keras/optimizer_v2/optimizer_v2.py:356: UserWarning: The `lr` argument is deprecated, use `learning_rate` instead.\n",
      "  \"The `lr` argument is deprecated, use `learning_rate` instead.\")\n"
     ]
    }
   ],
   "source": [
    "#模型1\n",
    "\n",
    "def model1(bertmodel):\n",
    "    \n",
    "    #模型架構\n",
    "    \n",
    "    #模型輸入有兩個\n",
    "    #因此設定兩個input\n",
    "    input_ids = tf.keras.Input(shape=(70,),dtype='int64')\n",
    "    attention_masks = tf.keras.Input(shape=(70,),dtype='int64')\n",
    "    input=[input_ids,attention_masks]\n",
    "    \n",
    "    #bert_model\n",
    "    output = bertmodel(input)    \n",
    "    output = output[1]\n",
    "    output = tf.keras.layers.Dense(32,activation=\"relu\")(output)\n",
    "    output = tf.keras.layers.Dropout(0.2)(output)\n",
    "    output = tf.keras.layers.Dense(1,activation=\"sigmoid\")(output)\n",
    "    \n",
    "    #最終的模型定義\n",
    "    model = tf.keras.models.Model(inputs = input,outputs = output)\n",
    "    #模型參數更新方式定義\n",
    "    model.compile(Adam(lr=6e-6), loss='binary_crossentropy', metrics=['accuracy'])\n",
    "    return model\n",
    "\n",
    "\n",
    "model1 = model1(bertmodel1)\n",
    "model1.summary()"
   ]
  },
  {
   "cell_type": "code",
   "execution_count": 24,
   "id": "b34c9e2f",
   "metadata": {
    "execution": {
     "iopub.execute_input": "2022-06-27T13:04:45.812248Z",
     "iopub.status.busy": "2022-06-27T13:04:45.811524Z",
     "iopub.status.idle": "2022-06-27T13:04:47.208305Z",
     "shell.execute_reply": "2022-06-27T13:04:47.207503Z"
    },
    "papermill": {
     "duration": 1.426748,
     "end_time": "2022-06-27T13:04:47.210756",
     "exception": false,
     "start_time": "2022-06-27T13:04:45.784008",
     "status": "completed"
    },
    "tags": []
   },
   "outputs": [
    {
     "name": "stdout",
     "output_type": "stream",
     "text": [
      "Model: \"model_1\"\n",
      "__________________________________________________________________________________________________\n",
      "Layer (type)                    Output Shape         Param #     Connected to                     \n",
      "==================================================================================================\n",
      "input_3 (InputLayer)            [(None, 70)]         0                                            \n",
      "__________________________________________________________________________________________________\n",
      "input_4 (InputLayer)            [(None, 70)]         0                                            \n",
      "__________________________________________________________________________________________________\n",
      "tf_bert_model (TFBertModel)     TFBaseModelOutputWit 109482240   input_3[0][0]                    \n",
      "                                                                 input_4[0][0]                    \n",
      "__________________________________________________________________________________________________\n",
      "dropout_76 (Dropout)            (None, 768)          0           tf_bert_model[1][1]              \n",
      "__________________________________________________________________________________________________\n",
      "dense_2 (Dense)                 (None, 1)            769         dropout_76[0][0]                 \n",
      "==================================================================================================\n",
      "Total params: 109,483,009\n",
      "Trainable params: 109,483,009\n",
      "Non-trainable params: 0\n",
      "__________________________________________________________________________________________________\n"
     ]
    }
   ],
   "source": [
    "#模型2\n",
    "#模型1架構少一個Dense層\n",
    "\n",
    "def model2(bertmodel):\n",
    "\n",
    "    #模型架構\n",
    "    \n",
    "    ids = tf.keras.Input(shape=(70,),dtype='int64')\n",
    "    masks = tf.keras.Input(shape=(70,),dtype='int64')\n",
    "    input=[ids,masks]\n",
    "\n",
    "    output=bertmodel([ids,masks]) \n",
    "    output=output[1]\n",
    "    output=tf.keras.layers.Dropout(0.2)(output)\n",
    "    output=tf.keras.layers.Dense(1, activation='sigmoid')(output)   \n",
    "    \n",
    "    #最終的模型定義\n",
    "    model=tf.keras.models.Model(inputs = input,outputs = output)\n",
    "    #模型參數更新方式定義\n",
    "    model.compile(Adam(lr=6e-6), loss='binary_crossentropy', metrics=['accuracy'])\n",
    "    return model\n",
    "    \n",
    "\n",
    "model2=model2(bertmodel1)\n",
    "model2.summary()"
   ]
  },
  {
   "cell_type": "code",
   "execution_count": 25,
   "id": "a74ed49f",
   "metadata": {
    "execution": {
     "iopub.execute_input": "2022-06-27T13:04:47.243970Z",
     "iopub.status.busy": "2022-06-27T13:04:47.243685Z",
     "iopub.status.idle": "2022-06-27T13:04:49.113774Z",
     "shell.execute_reply": "2022-06-27T13:04:49.112949Z"
    },
    "papermill": {
     "duration": 1.888539,
     "end_time": "2022-06-27T13:04:49.116112",
     "exception": false,
     "start_time": "2022-06-27T13:04:47.227573",
     "status": "completed"
    },
    "tags": []
   },
   "outputs": [
    {
     "name": "stdout",
     "output_type": "stream",
     "text": [
      "Model: \"model_2\"\n",
      "__________________________________________________________________________________________________\n",
      "Layer (type)                    Output Shape         Param #     Connected to                     \n",
      "==================================================================================================\n",
      "input_5 (InputLayer)            [(None, 70)]         0                                            \n",
      "__________________________________________________________________________________________________\n",
      "input_6 (InputLayer)            [(None, 70)]         0                                            \n",
      "__________________________________________________________________________________________________\n",
      "tf_bert_for_sequence_classifica TFSequenceClassifier 109483009   input_5[0][0]                    \n",
      "                                                                 input_6[0][0]                    \n",
      "==================================================================================================\n",
      "Total params: 109,483,009\n",
      "Trainable params: 109,483,009\n",
      "Non-trainable params: 0\n",
      "__________________________________________________________________________________________________\n"
     ]
    }
   ],
   "source": [
    "#模型3\n",
    "#利用TFBertForSequenceClassification建構的模型\n",
    "\n",
    "def model3(bertmodel):\n",
    "    \n",
    "    #模型架構\n",
    "    \n",
    "    ids = tf.keras.Input(shape=(70,),dtype='int64')\n",
    "    masks = tf.keras.Input(shape=(70,),dtype='int64')\n",
    "    input=[ids,masks]\n",
    "\n",
    "    output=bertmodel([ids,masks])#輸出應該是word embedding. \n",
    "    output=output[0]\n",
    "    \n",
    "    #最終的模型定義\n",
    "    model=tf.keras.models.Model(inputs = input,outputs = output)\n",
    "    #模型參數更新方式定義\n",
    "    model.compile(Adam(lr=6e-6), loss='binary_crossentropy', metrics=['accuracy'])   \n",
    "    return model\n",
    "    \n",
    "\n",
    "model3=model3(bertmodel2)\n",
    "model3.summary()"
   ]
  },
  {
   "cell_type": "markdown",
   "id": "e0fd71f3",
   "metadata": {
    "papermill": {
     "duration": 0.014996,
     "end_time": "2022-06-27T13:04:49.148859",
     "exception": false,
     "start_time": "2022-06-27T13:04:49.133863",
     "status": "completed"
    },
    "tags": []
   },
   "source": [
    "\n",
    "\n",
    "\n"
   ]
  },
  {
   "cell_type": "markdown",
   "id": "4b0621c8",
   "metadata": {
    "papermill": {
     "duration": 0.014854,
     "end_time": "2022-06-27T13:04:49.178855",
     "exception": false,
     "start_time": "2022-06-27T13:04:49.164001",
     "status": "completed"
    },
    "tags": []
   },
   "source": [
    "## **模型訓練**"
   ]
  },
  {
   "cell_type": "code",
   "execution_count": 26,
   "id": "efc4b42a",
   "metadata": {
    "execution": {
     "iopub.execute_input": "2022-06-27T13:04:49.211062Z",
     "iopub.status.busy": "2022-06-27T13:04:49.210754Z",
     "iopub.status.idle": "2022-06-27T13:12:31.192769Z",
     "shell.execute_reply": "2022-06-27T13:12:31.191818Z"
    },
    "papermill": {
     "duration": 462.233328,
     "end_time": "2022-06-27T13:12:31.427434",
     "exception": false,
     "start_time": "2022-06-27T13:04:49.194106",
     "status": "completed"
    },
    "tags": []
   },
   "outputs": [
    {
     "name": "stderr",
     "output_type": "stream",
     "text": [
      "2022-06-27 13:04:49.280071: I tensorflow/compiler/mlir/mlir_graph_optimization_pass.cc:185] None of the MLIR Optimization Passes are enabled (registered 2)\n"
     ]
    },
    {
     "name": "stdout",
     "output_type": "stream",
     "text": [
      "Epoch 1/2\n",
      "609/609 [==============================] - 83s 121ms/step - loss: 0.4879 - accuracy: 0.7777 - val_loss: 0.3771 - val_accuracy: 0.8418\n",
      "Epoch 2/2\n",
      "609/609 [==============================] - 71s 117ms/step - loss: 0.3620 - accuracy: 0.8534 - val_loss: 0.3676 - val_accuracy: 0.8359\n",
      "Epoch 1/2\n",
      "609/609 [==============================] - 83s 121ms/step - loss: 0.3293 - accuracy: 0.8768 - val_loss: 0.3897 - val_accuracy: 0.8385\n",
      "Epoch 2/2\n",
      "609/609 [==============================] - 71s 116ms/step - loss: 0.2571 - accuracy: 0.9041 - val_loss: 0.4006 - val_accuracy: 0.8359\n",
      "Epoch 1/2\n",
      "609/609 [==============================] - 83s 121ms/step - loss: 0.6160 - accuracy: 0.7284 - val_loss: 0.6131 - val_accuracy: 0.8293\n",
      "Epoch 2/2\n",
      "609/609 [==============================] - 71s 117ms/step - loss: 0.4832 - accuracy: 0.8213 - val_loss: 0.6531 - val_accuracy: 0.8418\n",
      "CPU times: user 6min 57s, sys: 51.9 s, total: 7min 49s\n",
      "Wall time: 7min 41s\n"
     ]
    }
   ],
   "source": [
    "%%time\n",
    "#訓練模型\n",
    "\n",
    "history1 = model1.fit(\n",
    "    [input_ids,attention_masks],\n",
    "    train['target'],\n",
    "    validation_split=0.2,\n",
    "    epochs=2,\n",
    "    batch_size=10)\n",
    "\n",
    "history2 = model2.fit(\n",
    "    [input_ids,attention_masks],\n",
    "    train['target'],\n",
    "    validation_split=0.2,\n",
    "    epochs=2,\n",
    "    batch_size=10)\n",
    "\n",
    "history3 = model3.fit(\n",
    "    [input_ids,attention_masks],\n",
    "    train['target'],\n",
    "    validation_split=0.2,\n",
    "    epochs=2,\n",
    "    batch_size=10)"
   ]
  },
  {
   "cell_type": "code",
   "execution_count": 27,
   "id": "590ce9f4",
   "metadata": {
    "execution": {
     "iopub.execute_input": "2022-06-27T13:12:31.895459Z",
     "iopub.status.busy": "2022-06-27T13:12:31.894601Z",
     "iopub.status.idle": "2022-06-27T13:12:31.901716Z",
     "shell.execute_reply": "2022-06-27T13:12:31.900912Z"
    },
    "papermill": {
     "duration": 0.244315,
     "end_time": "2022-06-27T13:12:31.904213",
     "exception": false,
     "start_time": "2022-06-27T13:12:31.659898",
     "status": "completed"
    },
    "tags": []
   },
   "outputs": [
    {
     "name": "stdout",
     "output_type": "stream",
     "text": [
      "------------------------------\n",
      "model1\n",
      "loss: [0.4879293441772461, 0.36200445890426636]\n",
      "accuracy: [0.777668297290802, 0.8533661961555481]\n",
      "val_loss: [0.377141535282135, 0.3675609230995178]\n",
      "val_accuracy: [0.8417596817016602, 0.8358502984046936]\n",
      "------------------------------\n",
      "model2\n",
      "loss: [0.32930463552474976, 0.2570752203464508]\n",
      "accuracy: [0.8768472671508789, 0.9041050672531128]\n",
      "val_loss: [0.3896868824958801, 0.4006107747554779]\n",
      "val_accuracy: [0.8384767174720764, 0.8358502984046936]\n",
      "------------------------------\n",
      "model3\n",
      "loss: [0.6160247921943665, 0.4832397997379303]\n",
      "accuracy: [0.7284072041511536, 0.8213464617729187]\n",
      "val_loss: [0.6130563020706177, 0.6530736684799194]\n",
      "val_accuracy: [0.8292843103408813, 0.8417596817016602]\n"
     ]
    }
   ],
   "source": [
    "print('-'*30)\n",
    "print('model1')\n",
    "for n in history1.history:\n",
    "    print('{}: {}'.format(n,history1.history[n]))\n",
    "    \n",
    "print('-'*30)\n",
    "print('model2')\n",
    "for n in history2.history:\n",
    "    print('{}: {}'.format(n,history2.history[n]))\n",
    "    \n",
    "print('-'*30)\n",
    "print('model3')\n",
    "for n in history3.history:\n",
    "    print('{}: {}'.format(n,history3.history[n]))"
   ]
  },
  {
   "cell_type": "markdown",
   "id": "7b18e4ff",
   "metadata": {
    "papermill": {
     "duration": 0.271172,
     "end_time": "2022-06-27T13:12:32.406298",
     "exception": false,
     "start_time": "2022-06-27T13:12:32.135126",
     "status": "completed"
    },
    "tags": []
   },
   "source": [
    "# **submission**"
   ]
  },
  {
   "cell_type": "markdown",
   "id": "0746952d",
   "metadata": {
    "papermill": {
     "duration": 0.227179,
     "end_time": "2022-06-27T13:12:32.860739",
     "exception": false,
     "start_time": "2022-06-27T13:12:32.633560",
     "status": "completed"
    },
    "tags": []
   },
   "source": [
    "經過數次從頭訓練模型的過程<br>\n",
    "發現定義的這三個模型最後的準確度<br>\n",
    "都差不多在0.80~0.84這個區間<br>\n",
    "也並沒有一定是哪個模型有更高的準確度.<br>\n",
    "\n",
    "這邊猜測<br>\n",
    "應該是三個模型的架構和配置都太接近了<br>\n",
    "之後可以嘗試差異更大的架構和配置.<br>"
   ]
  },
  {
   "cell_type": "code",
   "execution_count": 28,
   "id": "fc050544",
   "metadata": {
    "execution": {
     "iopub.execute_input": "2022-06-27T13:12:33.319464Z",
     "iopub.status.busy": "2022-06-27T13:12:33.319105Z",
     "iopub.status.idle": "2022-06-27T13:13:11.003400Z",
     "shell.execute_reply": "2022-06-27T13:13:11.002526Z"
    },
    "papermill": {
     "duration": 37.915207,
     "end_time": "2022-06-27T13:13:11.005613",
     "exception": false,
     "start_time": "2022-06-27T13:12:33.090406",
     "status": "completed"
    },
    "tags": []
   },
   "outputs": [],
   "source": [
    "#以testdatset進行預測結果\n",
    "test_y1=model1.predict([test_input_ids,test_attention_masks]) \n",
    "test_y2=model2.predict([test_input_ids,test_attention_masks]) \n",
    "test_y3=model3.predict([test_input_ids,test_attention_masks]) "
   ]
  },
  {
   "cell_type": "code",
   "execution_count": 29,
   "id": "c6ba7f2b",
   "metadata": {
    "execution": {
     "iopub.execute_input": "2022-06-27T13:13:11.589753Z",
     "iopub.status.busy": "2022-06-27T13:13:11.589206Z",
     "iopub.status.idle": "2022-06-27T13:13:11.652329Z",
     "shell.execute_reply": "2022-06-27T13:13:11.651454Z"
    },
    "papermill": {
     "duration": 0.41831,
     "end_time": "2022-06-27T13:13:11.654202",
     "exception": false,
     "start_time": "2022-06-27T13:13:11.235892",
     "status": "completed"
    },
    "tags": []
   },
   "outputs": [
    {
     "data": {
      "text/html": [
       "<div>\n",
       "<style scoped>\n",
       "    .dataframe tbody tr th:only-of-type {\n",
       "        vertical-align: middle;\n",
       "    }\n",
       "\n",
       "    .dataframe tbody tr th {\n",
       "        vertical-align: top;\n",
       "    }\n",
       "\n",
       "    .dataframe thead th {\n",
       "        text-align: right;\n",
       "    }\n",
       "</style>\n",
       "<table border=\"1\" class=\"dataframe\">\n",
       "  <thead>\n",
       "    <tr style=\"text-align: right;\">\n",
       "      <th></th>\n",
       "      <th>id</th>\n",
       "      <th>target</th>\n",
       "    </tr>\n",
       "  </thead>\n",
       "  <tbody>\n",
       "    <tr>\n",
       "      <th>0</th>\n",
       "      <td>0</td>\n",
       "      <td>1</td>\n",
       "    </tr>\n",
       "    <tr>\n",
       "      <th>1</th>\n",
       "      <td>2</td>\n",
       "      <td>1</td>\n",
       "    </tr>\n",
       "    <tr>\n",
       "      <th>2</th>\n",
       "      <td>3</td>\n",
       "      <td>1</td>\n",
       "    </tr>\n",
       "    <tr>\n",
       "      <th>3</th>\n",
       "      <td>9</td>\n",
       "      <td>1</td>\n",
       "    </tr>\n",
       "    <tr>\n",
       "      <th>4</th>\n",
       "      <td>11</td>\n",
       "      <td>1</td>\n",
       "    </tr>\n",
       "    <tr>\n",
       "      <th>5</th>\n",
       "      <td>12</td>\n",
       "      <td>1</td>\n",
       "    </tr>\n",
       "    <tr>\n",
       "      <th>6</th>\n",
       "      <td>21</td>\n",
       "      <td>0</td>\n",
       "    </tr>\n",
       "    <tr>\n",
       "      <th>7</th>\n",
       "      <td>22</td>\n",
       "      <td>0</td>\n",
       "    </tr>\n",
       "    <tr>\n",
       "      <th>8</th>\n",
       "      <td>27</td>\n",
       "      <td>0</td>\n",
       "    </tr>\n",
       "    <tr>\n",
       "      <th>9</th>\n",
       "      <td>29</td>\n",
       "      <td>0</td>\n",
       "    </tr>\n",
       "  </tbody>\n",
       "</table>\n",
       "</div>"
      ],
      "text/plain": [
       "   id  target\n",
       "0   0       1\n",
       "1   2       1\n",
       "2   3       1\n",
       "3   9       1\n",
       "4  11       1\n",
       "5  12       1\n",
       "6  21       0\n",
       "7  22       0\n",
       "8  27       0\n",
       "9  29       0"
      ]
     },
     "execution_count": 29,
     "metadata": {},
     "output_type": "execute_result"
    }
   ],
   "source": [
    "#把預測結果製作競賽的格式\n",
    "\n",
    "submission1=pd.read_csv('../input/nlp-getting-started/sample_submission.csv') \n",
    "submission2=pd.read_csv('../input/nlp-getting-started/sample_submission.csv') \n",
    "submission3=pd.read_csv('../input/nlp-getting-started/sample_submission.csv') \n",
    "for n,m,num in zip([submission1,submission2,submission3],[test_y1,test_y2,test_y3],[1,2,3]):\n",
    "    n['target']=np.round(m).astype('int')\n",
    "    n.to_csv('submission{}'.format(num),index=False)  \n",
    "\n",
    "submission1.head(10)"
   ]
  },
  {
   "cell_type": "code",
   "execution_count": null,
   "id": "82cbd904",
   "metadata": {
    "papermill": {
     "duration": 0.27044,
     "end_time": "2022-06-27T13:13:12.244159",
     "exception": false,
     "start_time": "2022-06-27T13:13:11.973719",
     "status": "completed"
    },
    "tags": []
   },
   "outputs": [],
   "source": []
  }
 ],
 "metadata": {
  "kernelspec": {
   "display_name": "Python 3",
   "language": "python",
   "name": "python3"
  },
  "language_info": {
   "codemirror_mode": {
    "name": "ipython",
    "version": 3
   },
   "file_extension": ".py",
   "mimetype": "text/x-python",
   "name": "python",
   "nbconvert_exporter": "python",
   "pygments_lexer": "ipython3",
   "version": "3.7.12"
  },
  "papermill": {
   "default_parameters": {},
   "duration": 620.840943,
   "end_time": "2022-06-27T13:13:15.376730",
   "environment_variables": {},
   "exception": null,
   "input_path": "__notebook__.ipynb",
   "output_path": "__notebook__.ipynb",
   "parameters": {},
   "start_time": "2022-06-27T13:02:54.535787",
   "version": "2.3.4"
  },
  "widgets": {
   "application/vnd.jupyter.widget-state+json": {
    "state": {
     "024dc75d310744a08051a7208865d053": {
      "model_module": "@jupyter-widgets/base",
      "model_module_version": "1.2.0",
      "model_name": "LayoutModel",
      "state": {
       "_model_module": "@jupyter-widgets/base",
       "_model_module_version": "1.2.0",
       "_model_name": "LayoutModel",
       "_view_count": null,
       "_view_module": "@jupyter-widgets/base",
       "_view_module_version": "1.2.0",
       "_view_name": "LayoutView",
       "align_content": null,
       "align_items": null,
       "align_self": null,
       "border": null,
       "bottom": null,
       "display": null,
       "flex": null,
       "flex_flow": null,
       "grid_area": null,
       "grid_auto_columns": null,
       "grid_auto_flow": null,
       "grid_auto_rows": null,
       "grid_column": null,
       "grid_gap": null,
       "grid_row": null,
       "grid_template_areas": null,
       "grid_template_columns": null,
       "grid_template_rows": null,
       "height": null,
       "justify_content": null,
       "justify_items": null,
       "left": null,
       "margin": null,
       "max_height": null,
       "max_width": null,
       "min_height": null,
       "min_width": null,
       "object_fit": null,
       "object_position": null,
       "order": null,
       "overflow": null,
       "overflow_x": null,
       "overflow_y": null,
       "padding": null,
       "right": null,
       "top": null,
       "visibility": null,
       "width": null
      }
     },
     "097414ad33634e54bbe18de36787e5c5": {
      "model_module": "@jupyter-widgets/controls",
      "model_module_version": "1.5.0",
      "model_name": "ProgressStyleModel",
      "state": {
       "_model_module": "@jupyter-widgets/controls",
       "_model_module_version": "1.5.0",
       "_model_name": "ProgressStyleModel",
       "_view_count": null,
       "_view_module": "@jupyter-widgets/base",
       "_view_module_version": "1.2.0",
       "_view_name": "StyleView",
       "bar_color": null,
       "description_width": ""
      }
     },
     "0d6927732f6e49b392d41ac29c19630d": {
      "model_module": "@jupyter-widgets/controls",
      "model_module_version": "1.5.0",
      "model_name": "ProgressStyleModel",
      "state": {
       "_model_module": "@jupyter-widgets/controls",
       "_model_module_version": "1.5.0",
       "_model_name": "ProgressStyleModel",
       "_view_count": null,
       "_view_module": "@jupyter-widgets/base",
       "_view_module_version": "1.2.0",
       "_view_name": "StyleView",
       "bar_color": null,
       "description_width": ""
      }
     },
     "0e782234455e4a18a572d62e399179c6": {
      "model_module": "@jupyter-widgets/controls",
      "model_module_version": "1.5.0",
      "model_name": "HTMLModel",
      "state": {
       "_dom_classes": [],
       "_model_module": "@jupyter-widgets/controls",
       "_model_module_version": "1.5.0",
       "_model_name": "HTMLModel",
       "_view_count": null,
       "_view_module": "@jupyter-widgets/controls",
       "_view_module_version": "1.5.0",
       "_view_name": "HTMLView",
       "description": "",
       "description_tooltip": null,
       "layout": "IPY_MODEL_e78c136074f84bf2a03703b66f6ab25b",
       "placeholder": "​",
       "style": "IPY_MODEL_db1829476b524627962c8cdc49fd4af4",
       "value": "Downloading: 100%"
      }
     },
     "2162beb3c9354c43b70c9268c9199a51": {
      "model_module": "@jupyter-widgets/controls",
      "model_module_version": "1.5.0",
      "model_name": "HTMLModel",
      "state": {
       "_dom_classes": [],
       "_model_module": "@jupyter-widgets/controls",
       "_model_module_version": "1.5.0",
       "_model_name": "HTMLModel",
       "_view_count": null,
       "_view_module": "@jupyter-widgets/controls",
       "_view_module_version": "1.5.0",
       "_view_name": "HTMLView",
       "description": "",
       "description_tooltip": null,
       "layout": "IPY_MODEL_52338fa848f345d6823f323725b3b291",
       "placeholder": "​",
       "style": "IPY_MODEL_3f8b717dbfb84198b15d1881c678fbef",
       "value": " 226k/226k [00:00&lt;00:00, 316kB/s]"
      }
     },
     "234ad7b66811403696ffa8975a4b48bf": {
      "model_module": "@jupyter-widgets/base",
      "model_module_version": "1.2.0",
      "model_name": "LayoutModel",
      "state": {
       "_model_module": "@jupyter-widgets/base",
       "_model_module_version": "1.2.0",
       "_model_name": "LayoutModel",
       "_view_count": null,
       "_view_module": "@jupyter-widgets/base",
       "_view_module_version": "1.2.0",
       "_view_name": "LayoutView",
       "align_content": null,
       "align_items": null,
       "align_self": null,
       "border": null,
       "bottom": null,
       "display": null,
       "flex": null,
       "flex_flow": null,
       "grid_area": null,
       "grid_auto_columns": null,
       "grid_auto_flow": null,
       "grid_auto_rows": null,
       "grid_column": null,
       "grid_gap": null,
       "grid_row": null,
       "grid_template_areas": null,
       "grid_template_columns": null,
       "grid_template_rows": null,
       "height": null,
       "justify_content": null,
       "justify_items": null,
       "left": null,
       "margin": null,
       "max_height": null,
       "max_width": null,
       "min_height": null,
       "min_width": null,
       "object_fit": null,
       "object_position": null,
       "order": null,
       "overflow": null,
       "overflow_x": null,
       "overflow_y": null,
       "padding": null,
       "right": null,
       "top": null,
       "visibility": null,
       "width": null
      }
     },
     "2f9dbcadc2ba40f3b291d524d01f90c2": {
      "model_module": "@jupyter-widgets/controls",
      "model_module_version": "1.5.0",
      "model_name": "HTMLModel",
      "state": {
       "_dom_classes": [],
       "_model_module": "@jupyter-widgets/controls",
       "_model_module_version": "1.5.0",
       "_model_name": "HTMLModel",
       "_view_count": null,
       "_view_module": "@jupyter-widgets/controls",
       "_view_module_version": "1.5.0",
       "_view_name": "HTMLView",
       "description": "",
       "description_tooltip": null,
       "layout": "IPY_MODEL_750caefd8b5d4efd802d2f520bff756a",
       "placeholder": "​",
       "style": "IPY_MODEL_5b5ed70b7c8f49868a344a0b32dc7eae",
       "value": "Downloading: 100%"
      }
     },
     "30448780879246eabb86b6312bdc5f36": {
      "model_module": "@jupyter-widgets/controls",
      "model_module_version": "1.5.0",
      "model_name": "ProgressStyleModel",
      "state": {
       "_model_module": "@jupyter-widgets/controls",
       "_model_module_version": "1.5.0",
       "_model_name": "ProgressStyleModel",
       "_view_count": null,
       "_view_module": "@jupyter-widgets/base",
       "_view_module_version": "1.2.0",
       "_view_name": "StyleView",
       "bar_color": null,
       "description_width": ""
      }
     },
     "3f8b717dbfb84198b15d1881c678fbef": {
      "model_module": "@jupyter-widgets/controls",
      "model_module_version": "1.5.0",
      "model_name": "DescriptionStyleModel",
      "state": {
       "_model_module": "@jupyter-widgets/controls",
       "_model_module_version": "1.5.0",
       "_model_name": "DescriptionStyleModel",
       "_view_count": null,
       "_view_module": "@jupyter-widgets/base",
       "_view_module_version": "1.2.0",
       "_view_name": "StyleView",
       "description_width": ""
      }
     },
     "4099e41f3a384a67a15deaea29d57006": {
      "model_module": "@jupyter-widgets/base",
      "model_module_version": "1.2.0",
      "model_name": "LayoutModel",
      "state": {
       "_model_module": "@jupyter-widgets/base",
       "_model_module_version": "1.2.0",
       "_model_name": "LayoutModel",
       "_view_count": null,
       "_view_module": "@jupyter-widgets/base",
       "_view_module_version": "1.2.0",
       "_view_name": "LayoutView",
       "align_content": null,
       "align_items": null,
       "align_self": null,
       "border": null,
       "bottom": null,
       "display": null,
       "flex": null,
       "flex_flow": null,
       "grid_area": null,
       "grid_auto_columns": null,
       "grid_auto_flow": null,
       "grid_auto_rows": null,
       "grid_column": null,
       "grid_gap": null,
       "grid_row": null,
       "grid_template_areas": null,
       "grid_template_columns": null,
       "grid_template_rows": null,
       "height": null,
       "justify_content": null,
       "justify_items": null,
       "left": null,
       "margin": null,
       "max_height": null,
       "max_width": null,
       "min_height": null,
       "min_width": null,
       "object_fit": null,
       "object_position": null,
       "order": null,
       "overflow": null,
       "overflow_x": null,
       "overflow_y": null,
       "padding": null,
       "right": null,
       "top": null,
       "visibility": null,
       "width": null
      }
     },
     "4c6c01cbc39e41149bc403d636b3b6e9": {
      "model_module": "@jupyter-widgets/controls",
      "model_module_version": "1.5.0",
      "model_name": "HTMLModel",
      "state": {
       "_dom_classes": [],
       "_model_module": "@jupyter-widgets/controls",
       "_model_module_version": "1.5.0",
       "_model_name": "HTMLModel",
       "_view_count": null,
       "_view_module": "@jupyter-widgets/controls",
       "_view_module_version": "1.5.0",
       "_view_name": "HTMLView",
       "description": "",
       "description_tooltip": null,
       "layout": "IPY_MODEL_85b3b613019f49c081925a04737e04e3",
       "placeholder": "​",
       "style": "IPY_MODEL_d4b51eee12ae472c996176c7ad2fd9e0",
       "value": " 28.0/28.0 [00:00&lt;00:00, 1.11kB/s]"
      }
     },
     "4f8c25c0a96d429f8253ccc43500dc4d": {
      "model_module": "@jupyter-widgets/controls",
      "model_module_version": "1.5.0",
      "model_name": "HBoxModel",
      "state": {
       "_dom_classes": [],
       "_model_module": "@jupyter-widgets/controls",
       "_model_module_version": "1.5.0",
       "_model_name": "HBoxModel",
       "_view_count": null,
       "_view_module": "@jupyter-widgets/controls",
       "_view_module_version": "1.5.0",
       "_view_name": "HBoxView",
       "box_style": "",
       "children": [
        "IPY_MODEL_2f9dbcadc2ba40f3b291d524d01f90c2",
        "IPY_MODEL_8c03535981ed453f9c5232142598cc26",
        "IPY_MODEL_2162beb3c9354c43b70c9268c9199a51"
       ],
       "layout": "IPY_MODEL_6833fc3aa92048bea7151f1c2e3425d1"
      }
     },
     "52338fa848f345d6823f323725b3b291": {
      "model_module": "@jupyter-widgets/base",
      "model_module_version": "1.2.0",
      "model_name": "LayoutModel",
      "state": {
       "_model_module": "@jupyter-widgets/base",
       "_model_module_version": "1.2.0",
       "_model_name": "LayoutModel",
       "_view_count": null,
       "_view_module": "@jupyter-widgets/base",
       "_view_module_version": "1.2.0",
       "_view_name": "LayoutView",
       "align_content": null,
       "align_items": null,
       "align_self": null,
       "border": null,
       "bottom": null,
       "display": null,
       "flex": null,
       "flex_flow": null,
       "grid_area": null,
       "grid_auto_columns": null,
       "grid_auto_flow": null,
       "grid_auto_rows": null,
       "grid_column": null,
       "grid_gap": null,
       "grid_row": null,
       "grid_template_areas": null,
       "grid_template_columns": null,
       "grid_template_rows": null,
       "height": null,
       "justify_content": null,
       "justify_items": null,
       "left": null,
       "margin": null,
       "max_height": null,
       "max_width": null,
       "min_height": null,
       "min_width": null,
       "object_fit": null,
       "object_position": null,
       "order": null,
       "overflow": null,
       "overflow_x": null,
       "overflow_y": null,
       "padding": null,
       "right": null,
       "top": null,
       "visibility": null,
       "width": null
      }
     },
     "59442949eeeb48f5a04c448823070d35": {
      "model_module": "@jupyter-widgets/controls",
      "model_module_version": "1.5.0",
      "model_name": "HBoxModel",
      "state": {
       "_dom_classes": [],
       "_model_module": "@jupyter-widgets/controls",
       "_model_module_version": "1.5.0",
       "_model_name": "HBoxModel",
       "_view_count": null,
       "_view_module": "@jupyter-widgets/controls",
       "_view_module_version": "1.5.0",
       "_view_name": "HBoxView",
       "box_style": "",
       "children": [
        "IPY_MODEL_0e782234455e4a18a572d62e399179c6",
        "IPY_MODEL_b036de965cd44ddea3d02e5510b82832",
        "IPY_MODEL_4c6c01cbc39e41149bc403d636b3b6e9"
       ],
       "layout": "IPY_MODEL_a7da7ccc62db449eb627766d9baf614d"
      }
     },
     "5ad4171a36ad4c11bcbf4fc7fef7ed42": {
      "model_module": "@jupyter-widgets/base",
      "model_module_version": "1.2.0",
      "model_name": "LayoutModel",
      "state": {
       "_model_module": "@jupyter-widgets/base",
       "_model_module_version": "1.2.0",
       "_model_name": "LayoutModel",
       "_view_count": null,
       "_view_module": "@jupyter-widgets/base",
       "_view_module_version": "1.2.0",
       "_view_name": "LayoutView",
       "align_content": null,
       "align_items": null,
       "align_self": null,
       "border": null,
       "bottom": null,
       "display": null,
       "flex": null,
       "flex_flow": null,
       "grid_area": null,
       "grid_auto_columns": null,
       "grid_auto_flow": null,
       "grid_auto_rows": null,
       "grid_column": null,
       "grid_gap": null,
       "grid_row": null,
       "grid_template_areas": null,
       "grid_template_columns": null,
       "grid_template_rows": null,
       "height": null,
       "justify_content": null,
       "justify_items": null,
       "left": null,
       "margin": null,
       "max_height": null,
       "max_width": null,
       "min_height": null,
       "min_width": null,
       "object_fit": null,
       "object_position": null,
       "order": null,
       "overflow": null,
       "overflow_x": null,
       "overflow_y": null,
       "padding": null,
       "right": null,
       "top": null,
       "visibility": null,
       "width": null
      }
     },
     "5b5ed70b7c8f49868a344a0b32dc7eae": {
      "model_module": "@jupyter-widgets/controls",
      "model_module_version": "1.5.0",
      "model_name": "DescriptionStyleModel",
      "state": {
       "_model_module": "@jupyter-widgets/controls",
       "_model_module_version": "1.5.0",
       "_model_name": "DescriptionStyleModel",
       "_view_count": null,
       "_view_module": "@jupyter-widgets/base",
       "_view_module_version": "1.2.0",
       "_view_name": "StyleView",
       "description_width": ""
      }
     },
     "5e83ad358ae9422b8bb10e1898064a39": {
      "model_module": "@jupyter-widgets/base",
      "model_module_version": "1.2.0",
      "model_name": "LayoutModel",
      "state": {
       "_model_module": "@jupyter-widgets/base",
       "_model_module_version": "1.2.0",
       "_model_name": "LayoutModel",
       "_view_count": null,
       "_view_module": "@jupyter-widgets/base",
       "_view_module_version": "1.2.0",
       "_view_name": "LayoutView",
       "align_content": null,
       "align_items": null,
       "align_self": null,
       "border": null,
       "bottom": null,
       "display": null,
       "flex": null,
       "flex_flow": null,
       "grid_area": null,
       "grid_auto_columns": null,
       "grid_auto_flow": null,
       "grid_auto_rows": null,
       "grid_column": null,
       "grid_gap": null,
       "grid_row": null,
       "grid_template_areas": null,
       "grid_template_columns": null,
       "grid_template_rows": null,
       "height": null,
       "justify_content": null,
       "justify_items": null,
       "left": null,
       "margin": null,
       "max_height": null,
       "max_width": null,
       "min_height": null,
       "min_width": null,
       "object_fit": null,
       "object_position": null,
       "order": null,
       "overflow": null,
       "overflow_x": null,
       "overflow_y": null,
       "padding": null,
       "right": null,
       "top": null,
       "visibility": null,
       "width": null
      }
     },
     "6078cd9afca94ba99adc773d89fad683": {
      "model_module": "@jupyter-widgets/controls",
      "model_module_version": "1.5.0",
      "model_name": "HTMLModel",
      "state": {
       "_dom_classes": [],
       "_model_module": "@jupyter-widgets/controls",
       "_model_module_version": "1.5.0",
       "_model_name": "HTMLModel",
       "_view_count": null,
       "_view_module": "@jupyter-widgets/controls",
       "_view_module_version": "1.5.0",
       "_view_name": "HTMLView",
       "description": "",
       "description_tooltip": null,
       "layout": "IPY_MODEL_7f39796a6cb8458fb0bbf1c0c8d93e06",
       "placeholder": "​",
       "style": "IPY_MODEL_c8fbf7c9d2f84d4a896e37249734abc0",
       "value": " 570/570 [00:00&lt;00:00, 20.9kB/s]"
      }
     },
     "66fcf78d5f5e49feb3099c7c6dbce21e": {
      "model_module": "@jupyter-widgets/controls",
      "model_module_version": "1.5.0",
      "model_name": "DescriptionStyleModel",
      "state": {
       "_model_module": "@jupyter-widgets/controls",
       "_model_module_version": "1.5.0",
       "_model_name": "DescriptionStyleModel",
       "_view_count": null,
       "_view_module": "@jupyter-widgets/base",
       "_view_module_version": "1.2.0",
       "_view_name": "StyleView",
       "description_width": ""
      }
     },
     "6833fc3aa92048bea7151f1c2e3425d1": {
      "model_module": "@jupyter-widgets/base",
      "model_module_version": "1.2.0",
      "model_name": "LayoutModel",
      "state": {
       "_model_module": "@jupyter-widgets/base",
       "_model_module_version": "1.2.0",
       "_model_name": "LayoutModel",
       "_view_count": null,
       "_view_module": "@jupyter-widgets/base",
       "_view_module_version": "1.2.0",
       "_view_name": "LayoutView",
       "align_content": null,
       "align_items": null,
       "align_self": null,
       "border": null,
       "bottom": null,
       "display": null,
       "flex": null,
       "flex_flow": null,
       "grid_area": null,
       "grid_auto_columns": null,
       "grid_auto_flow": null,
       "grid_auto_rows": null,
       "grid_column": null,
       "grid_gap": null,
       "grid_row": null,
       "grid_template_areas": null,
       "grid_template_columns": null,
       "grid_template_rows": null,
       "height": null,
       "justify_content": null,
       "justify_items": null,
       "left": null,
       "margin": null,
       "max_height": null,
       "max_width": null,
       "min_height": null,
       "min_width": null,
       "object_fit": null,
       "object_position": null,
       "order": null,
       "overflow": null,
       "overflow_x": null,
       "overflow_y": null,
       "padding": null,
       "right": null,
       "top": null,
       "visibility": null,
       "width": null
      }
     },
     "74913900390644b2b03571b56f7aa605": {
      "model_module": "@jupyter-widgets/controls",
      "model_module_version": "1.5.0",
      "model_name": "HTMLModel",
      "state": {
       "_dom_classes": [],
       "_model_module": "@jupyter-widgets/controls",
       "_model_module_version": "1.5.0",
       "_model_name": "HTMLModel",
       "_view_count": null,
       "_view_module": "@jupyter-widgets/controls",
       "_view_module_version": "1.5.0",
       "_view_name": "HTMLView",
       "description": "",
       "description_tooltip": null,
       "layout": "IPY_MODEL_c25e6657c45f40329953f47bdd2924bb",
       "placeholder": "​",
       "style": "IPY_MODEL_f175ab0ae5df4994aadf4d31b7274a9d",
       "value": " 511M/511M [00:49&lt;00:00, 11.5MB/s]"
      }
     },
     "750caefd8b5d4efd802d2f520bff756a": {
      "model_module": "@jupyter-widgets/base",
      "model_module_version": "1.2.0",
      "model_name": "LayoutModel",
      "state": {
       "_model_module": "@jupyter-widgets/base",
       "_model_module_version": "1.2.0",
       "_model_name": "LayoutModel",
       "_view_count": null,
       "_view_module": "@jupyter-widgets/base",
       "_view_module_version": "1.2.0",
       "_view_name": "LayoutView",
       "align_content": null,
       "align_items": null,
       "align_self": null,
       "border": null,
       "bottom": null,
       "display": null,
       "flex": null,
       "flex_flow": null,
       "grid_area": null,
       "grid_auto_columns": null,
       "grid_auto_flow": null,
       "grid_auto_rows": null,
       "grid_column": null,
       "grid_gap": null,
       "grid_row": null,
       "grid_template_areas": null,
       "grid_template_columns": null,
       "grid_template_rows": null,
       "height": null,
       "justify_content": null,
       "justify_items": null,
       "left": null,
       "margin": null,
       "max_height": null,
       "max_width": null,
       "min_height": null,
       "min_width": null,
       "object_fit": null,
       "object_position": null,
       "order": null,
       "overflow": null,
       "overflow_x": null,
       "overflow_y": null,
       "padding": null,
       "right": null,
       "top": null,
       "visibility": null,
       "width": null
      }
     },
     "75e844ce64f44343bb30df70fd6eff7d": {
      "model_module": "@jupyter-widgets/controls",
      "model_module_version": "1.5.0",
      "model_name": "FloatProgressModel",
      "state": {
       "_dom_classes": [],
       "_model_module": "@jupyter-widgets/controls",
       "_model_module_version": "1.5.0",
       "_model_name": "FloatProgressModel",
       "_view_count": null,
       "_view_module": "@jupyter-widgets/controls",
       "_view_module_version": "1.5.0",
       "_view_name": "ProgressView",
       "bar_style": "success",
       "description": "",
       "description_tooltip": null,
       "layout": "IPY_MODEL_ab973c966ea84f78bf3d34129c40c7c2",
       "max": 570.0,
       "min": 0.0,
       "orientation": "horizontal",
       "style": "IPY_MODEL_097414ad33634e54bbe18de36787e5c5",
       "value": 570.0
      }
     },
     "7c586d5d2ee647f0a9b30ce0f268965a": {
      "model_module": "@jupyter-widgets/base",
      "model_module_version": "1.2.0",
      "model_name": "LayoutModel",
      "state": {
       "_model_module": "@jupyter-widgets/base",
       "_model_module_version": "1.2.0",
       "_model_name": "LayoutModel",
       "_view_count": null,
       "_view_module": "@jupyter-widgets/base",
       "_view_module_version": "1.2.0",
       "_view_name": "LayoutView",
       "align_content": null,
       "align_items": null,
       "align_self": null,
       "border": null,
       "bottom": null,
       "display": null,
       "flex": null,
       "flex_flow": null,
       "grid_area": null,
       "grid_auto_columns": null,
       "grid_auto_flow": null,
       "grid_auto_rows": null,
       "grid_column": null,
       "grid_gap": null,
       "grid_row": null,
       "grid_template_areas": null,
       "grid_template_columns": null,
       "grid_template_rows": null,
       "height": null,
       "justify_content": null,
       "justify_items": null,
       "left": null,
       "margin": null,
       "max_height": null,
       "max_width": null,
       "min_height": null,
       "min_width": null,
       "object_fit": null,
       "object_position": null,
       "order": null,
       "overflow": null,
       "overflow_x": null,
       "overflow_y": null,
       "padding": null,
       "right": null,
       "top": null,
       "visibility": null,
       "width": null
      }
     },
     "7f39796a6cb8458fb0bbf1c0c8d93e06": {
      "model_module": "@jupyter-widgets/base",
      "model_module_version": "1.2.0",
      "model_name": "LayoutModel",
      "state": {
       "_model_module": "@jupyter-widgets/base",
       "_model_module_version": "1.2.0",
       "_model_name": "LayoutModel",
       "_view_count": null,
       "_view_module": "@jupyter-widgets/base",
       "_view_module_version": "1.2.0",
       "_view_name": "LayoutView",
       "align_content": null,
       "align_items": null,
       "align_self": null,
       "border": null,
       "bottom": null,
       "display": null,
       "flex": null,
       "flex_flow": null,
       "grid_area": null,
       "grid_auto_columns": null,
       "grid_auto_flow": null,
       "grid_auto_rows": null,
       "grid_column": null,
       "grid_gap": null,
       "grid_row": null,
       "grid_template_areas": null,
       "grid_template_columns": null,
       "grid_template_rows": null,
       "height": null,
       "justify_content": null,
       "justify_items": null,
       "left": null,
       "margin": null,
       "max_height": null,
       "max_width": null,
       "min_height": null,
       "min_width": null,
       "object_fit": null,
       "object_position": null,
       "order": null,
       "overflow": null,
       "overflow_x": null,
       "overflow_y": null,
       "padding": null,
       "right": null,
       "top": null,
       "visibility": null,
       "width": null
      }
     },
     "85b3b613019f49c081925a04737e04e3": {
      "model_module": "@jupyter-widgets/base",
      "model_module_version": "1.2.0",
      "model_name": "LayoutModel",
      "state": {
       "_model_module": "@jupyter-widgets/base",
       "_model_module_version": "1.2.0",
       "_model_name": "LayoutModel",
       "_view_count": null,
       "_view_module": "@jupyter-widgets/base",
       "_view_module_version": "1.2.0",
       "_view_name": "LayoutView",
       "align_content": null,
       "align_items": null,
       "align_self": null,
       "border": null,
       "bottom": null,
       "display": null,
       "flex": null,
       "flex_flow": null,
       "grid_area": null,
       "grid_auto_columns": null,
       "grid_auto_flow": null,
       "grid_auto_rows": null,
       "grid_column": null,
       "grid_gap": null,
       "grid_row": null,
       "grid_template_areas": null,
       "grid_template_columns": null,
       "grid_template_rows": null,
       "height": null,
       "justify_content": null,
       "justify_items": null,
       "left": null,
       "margin": null,
       "max_height": null,
       "max_width": null,
       "min_height": null,
       "min_width": null,
       "object_fit": null,
       "object_position": null,
       "order": null,
       "overflow": null,
       "overflow_x": null,
       "overflow_y": null,
       "padding": null,
       "right": null,
       "top": null,
       "visibility": null,
       "width": null
      }
     },
     "8c03535981ed453f9c5232142598cc26": {
      "model_module": "@jupyter-widgets/controls",
      "model_module_version": "1.5.0",
      "model_name": "FloatProgressModel",
      "state": {
       "_dom_classes": [],
       "_model_module": "@jupyter-widgets/controls",
       "_model_module_version": "1.5.0",
       "_model_name": "FloatProgressModel",
       "_view_count": null,
       "_view_module": "@jupyter-widgets/controls",
       "_view_module_version": "1.5.0",
       "_view_name": "ProgressView",
       "bar_style": "success",
       "description": "",
       "description_tooltip": null,
       "layout": "IPY_MODEL_7c586d5d2ee647f0a9b30ce0f268965a",
       "max": 231508.0,
       "min": 0.0,
       "orientation": "horizontal",
       "style": "IPY_MODEL_30448780879246eabb86b6312bdc5f36",
       "value": 231508.0
      }
     },
     "97448dd98fb3436794d24dc8651cc59a": {
      "model_module": "@jupyter-widgets/base",
      "model_module_version": "1.2.0",
      "model_name": "LayoutModel",
      "state": {
       "_model_module": "@jupyter-widgets/base",
       "_model_module_version": "1.2.0",
       "_model_name": "LayoutModel",
       "_view_count": null,
       "_view_module": "@jupyter-widgets/base",
       "_view_module_version": "1.2.0",
       "_view_name": "LayoutView",
       "align_content": null,
       "align_items": null,
       "align_self": null,
       "border": null,
       "bottom": null,
       "display": null,
       "flex": null,
       "flex_flow": null,
       "grid_area": null,
       "grid_auto_columns": null,
       "grid_auto_flow": null,
       "grid_auto_rows": null,
       "grid_column": null,
       "grid_gap": null,
       "grid_row": null,
       "grid_template_areas": null,
       "grid_template_columns": null,
       "grid_template_rows": null,
       "height": null,
       "justify_content": null,
       "justify_items": null,
       "left": null,
       "margin": null,
       "max_height": null,
       "max_width": null,
       "min_height": null,
       "min_width": null,
       "object_fit": null,
       "object_position": null,
       "order": null,
       "overflow": null,
       "overflow_x": null,
       "overflow_y": null,
       "padding": null,
       "right": null,
       "top": null,
       "visibility": null,
       "width": null
      }
     },
     "a1bbb0bf28be45b8a3a80c50fee6b2ad": {
      "model_module": "@jupyter-widgets/controls",
      "model_module_version": "1.5.0",
      "model_name": "ProgressStyleModel",
      "state": {
       "_model_module": "@jupyter-widgets/controls",
       "_model_module_version": "1.5.0",
       "_model_name": "ProgressStyleModel",
       "_view_count": null,
       "_view_module": "@jupyter-widgets/base",
       "_view_module_version": "1.2.0",
       "_view_name": "StyleView",
       "bar_color": null,
       "description_width": ""
      }
     },
     "a7da7ccc62db449eb627766d9baf614d": {
      "model_module": "@jupyter-widgets/base",
      "model_module_version": "1.2.0",
      "model_name": "LayoutModel",
      "state": {
       "_model_module": "@jupyter-widgets/base",
       "_model_module_version": "1.2.0",
       "_model_name": "LayoutModel",
       "_view_count": null,
       "_view_module": "@jupyter-widgets/base",
       "_view_module_version": "1.2.0",
       "_view_name": "LayoutView",
       "align_content": null,
       "align_items": null,
       "align_self": null,
       "border": null,
       "bottom": null,
       "display": null,
       "flex": null,
       "flex_flow": null,
       "grid_area": null,
       "grid_auto_columns": null,
       "grid_auto_flow": null,
       "grid_auto_rows": null,
       "grid_column": null,
       "grid_gap": null,
       "grid_row": null,
       "grid_template_areas": null,
       "grid_template_columns": null,
       "grid_template_rows": null,
       "height": null,
       "justify_content": null,
       "justify_items": null,
       "left": null,
       "margin": null,
       "max_height": null,
       "max_width": null,
       "min_height": null,
       "min_width": null,
       "object_fit": null,
       "object_position": null,
       "order": null,
       "overflow": null,
       "overflow_x": null,
       "overflow_y": null,
       "padding": null,
       "right": null,
       "top": null,
       "visibility": null,
       "width": null
      }
     },
     "ab973c966ea84f78bf3d34129c40c7c2": {
      "model_module": "@jupyter-widgets/base",
      "model_module_version": "1.2.0",
      "model_name": "LayoutModel",
      "state": {
       "_model_module": "@jupyter-widgets/base",
       "_model_module_version": "1.2.0",
       "_model_name": "LayoutModel",
       "_view_count": null,
       "_view_module": "@jupyter-widgets/base",
       "_view_module_version": "1.2.0",
       "_view_name": "LayoutView",
       "align_content": null,
       "align_items": null,
       "align_self": null,
       "border": null,
       "bottom": null,
       "display": null,
       "flex": null,
       "flex_flow": null,
       "grid_area": null,
       "grid_auto_columns": null,
       "grid_auto_flow": null,
       "grid_auto_rows": null,
       "grid_column": null,
       "grid_gap": null,
       "grid_row": null,
       "grid_template_areas": null,
       "grid_template_columns": null,
       "grid_template_rows": null,
       "height": null,
       "justify_content": null,
       "justify_items": null,
       "left": null,
       "margin": null,
       "max_height": null,
       "max_width": null,
       "min_height": null,
       "min_width": null,
       "object_fit": null,
       "object_position": null,
       "order": null,
       "overflow": null,
       "overflow_x": null,
       "overflow_y": null,
       "padding": null,
       "right": null,
       "top": null,
       "visibility": null,
       "width": null
      }
     },
     "b036de965cd44ddea3d02e5510b82832": {
      "model_module": "@jupyter-widgets/controls",
      "model_module_version": "1.5.0",
      "model_name": "FloatProgressModel",
      "state": {
       "_dom_classes": [],
       "_model_module": "@jupyter-widgets/controls",
       "_model_module_version": "1.5.0",
       "_model_name": "FloatProgressModel",
       "_view_count": null,
       "_view_module": "@jupyter-widgets/controls",
       "_view_module_version": "1.5.0",
       "_view_name": "ProgressView",
       "bar_style": "success",
       "description": "",
       "description_tooltip": null,
       "layout": "IPY_MODEL_234ad7b66811403696ffa8975a4b48bf",
       "max": 28.0,
       "min": 0.0,
       "orientation": "horizontal",
       "style": "IPY_MODEL_0d6927732f6e49b392d41ac29c19630d",
       "value": 28.0
      }
     },
     "b5ace2a924bd43318a6f19ff9c8a525a": {
      "model_module": "@jupyter-widgets/controls",
      "model_module_version": "1.5.0",
      "model_name": "HBoxModel",
      "state": {
       "_dom_classes": [],
       "_model_module": "@jupyter-widgets/controls",
       "_model_module_version": "1.5.0",
       "_model_name": "HBoxModel",
       "_view_count": null,
       "_view_module": "@jupyter-widgets/controls",
       "_view_module_version": "1.5.0",
       "_view_name": "HBoxView",
       "box_style": "",
       "children": [
        "IPY_MODEL_e24788f3c495467d8eb6c099c5393728",
        "IPY_MODEL_c1e763af0ce242e88810e5cd575bdcff",
        "IPY_MODEL_74913900390644b2b03571b56f7aa605"
       ],
       "layout": "IPY_MODEL_4099e41f3a384a67a15deaea29d57006"
      }
     },
     "c0d96a63991e46e5939a9b3cafe260c0": {
      "model_module": "@jupyter-widgets/controls",
      "model_module_version": "1.5.0",
      "model_name": "HBoxModel",
      "state": {
       "_dom_classes": [],
       "_model_module": "@jupyter-widgets/controls",
       "_model_module_version": "1.5.0",
       "_model_name": "HBoxModel",
       "_view_count": null,
       "_view_module": "@jupyter-widgets/controls",
       "_view_module_version": "1.5.0",
       "_view_name": "HBoxView",
       "box_style": "",
       "children": [
        "IPY_MODEL_d4794bb40b824785b588687e89b57377",
        "IPY_MODEL_75e844ce64f44343bb30df70fd6eff7d",
        "IPY_MODEL_6078cd9afca94ba99adc773d89fad683"
       ],
       "layout": "IPY_MODEL_5e83ad358ae9422b8bb10e1898064a39"
      }
     },
     "c1e763af0ce242e88810e5cd575bdcff": {
      "model_module": "@jupyter-widgets/controls",
      "model_module_version": "1.5.0",
      "model_name": "FloatProgressModel",
      "state": {
       "_dom_classes": [],
       "_model_module": "@jupyter-widgets/controls",
       "_model_module_version": "1.5.0",
       "_model_name": "FloatProgressModel",
       "_view_count": null,
       "_view_module": "@jupyter-widgets/controls",
       "_view_module_version": "1.5.0",
       "_view_name": "ProgressView",
       "bar_style": "success",
       "description": "",
       "description_tooltip": null,
       "layout": "IPY_MODEL_5ad4171a36ad4c11bcbf4fc7fef7ed42",
       "max": 536063208.0,
       "min": 0.0,
       "orientation": "horizontal",
       "style": "IPY_MODEL_a1bbb0bf28be45b8a3a80c50fee6b2ad",
       "value": 536063208.0
      }
     },
     "c25e6657c45f40329953f47bdd2924bb": {
      "model_module": "@jupyter-widgets/base",
      "model_module_version": "1.2.0",
      "model_name": "LayoutModel",
      "state": {
       "_model_module": "@jupyter-widgets/base",
       "_model_module_version": "1.2.0",
       "_model_name": "LayoutModel",
       "_view_count": null,
       "_view_module": "@jupyter-widgets/base",
       "_view_module_version": "1.2.0",
       "_view_name": "LayoutView",
       "align_content": null,
       "align_items": null,
       "align_self": null,
       "border": null,
       "bottom": null,
       "display": null,
       "flex": null,
       "flex_flow": null,
       "grid_area": null,
       "grid_auto_columns": null,
       "grid_auto_flow": null,
       "grid_auto_rows": null,
       "grid_column": null,
       "grid_gap": null,
       "grid_row": null,
       "grid_template_areas": null,
       "grid_template_columns": null,
       "grid_template_rows": null,
       "height": null,
       "justify_content": null,
       "justify_items": null,
       "left": null,
       "margin": null,
       "max_height": null,
       "max_width": null,
       "min_height": null,
       "min_width": null,
       "object_fit": null,
       "object_position": null,
       "order": null,
       "overflow": null,
       "overflow_x": null,
       "overflow_y": null,
       "padding": null,
       "right": null,
       "top": null,
       "visibility": null,
       "width": null
      }
     },
     "c8fbf7c9d2f84d4a896e37249734abc0": {
      "model_module": "@jupyter-widgets/controls",
      "model_module_version": "1.5.0",
      "model_name": "DescriptionStyleModel",
      "state": {
       "_model_module": "@jupyter-widgets/controls",
       "_model_module_version": "1.5.0",
       "_model_name": "DescriptionStyleModel",
       "_view_count": null,
       "_view_module": "@jupyter-widgets/base",
       "_view_module_version": "1.2.0",
       "_view_name": "StyleView",
       "description_width": ""
      }
     },
     "d4794bb40b824785b588687e89b57377": {
      "model_module": "@jupyter-widgets/controls",
      "model_module_version": "1.5.0",
      "model_name": "HTMLModel",
      "state": {
       "_dom_classes": [],
       "_model_module": "@jupyter-widgets/controls",
       "_model_module_version": "1.5.0",
       "_model_name": "HTMLModel",
       "_view_count": null,
       "_view_module": "@jupyter-widgets/controls",
       "_view_module_version": "1.5.0",
       "_view_name": "HTMLView",
       "description": "",
       "description_tooltip": null,
       "layout": "IPY_MODEL_024dc75d310744a08051a7208865d053",
       "placeholder": "​",
       "style": "IPY_MODEL_66fcf78d5f5e49feb3099c7c6dbce21e",
       "value": "Downloading: 100%"
      }
     },
     "d4b51eee12ae472c996176c7ad2fd9e0": {
      "model_module": "@jupyter-widgets/controls",
      "model_module_version": "1.5.0",
      "model_name": "DescriptionStyleModel",
      "state": {
       "_model_module": "@jupyter-widgets/controls",
       "_model_module_version": "1.5.0",
       "_model_name": "DescriptionStyleModel",
       "_view_count": null,
       "_view_module": "@jupyter-widgets/base",
       "_view_module_version": "1.2.0",
       "_view_name": "StyleView",
       "description_width": ""
      }
     },
     "d738db5c40d64ece8d0cb73e206363eb": {
      "model_module": "@jupyter-widgets/controls",
      "model_module_version": "1.5.0",
      "model_name": "DescriptionStyleModel",
      "state": {
       "_model_module": "@jupyter-widgets/controls",
       "_model_module_version": "1.5.0",
       "_model_name": "DescriptionStyleModel",
       "_view_count": null,
       "_view_module": "@jupyter-widgets/base",
       "_view_module_version": "1.2.0",
       "_view_name": "StyleView",
       "description_width": ""
      }
     },
     "db1829476b524627962c8cdc49fd4af4": {
      "model_module": "@jupyter-widgets/controls",
      "model_module_version": "1.5.0",
      "model_name": "DescriptionStyleModel",
      "state": {
       "_model_module": "@jupyter-widgets/controls",
       "_model_module_version": "1.5.0",
       "_model_name": "DescriptionStyleModel",
       "_view_count": null,
       "_view_module": "@jupyter-widgets/base",
       "_view_module_version": "1.2.0",
       "_view_name": "StyleView",
       "description_width": ""
      }
     },
     "e24788f3c495467d8eb6c099c5393728": {
      "model_module": "@jupyter-widgets/controls",
      "model_module_version": "1.5.0",
      "model_name": "HTMLModel",
      "state": {
       "_dom_classes": [],
       "_model_module": "@jupyter-widgets/controls",
       "_model_module_version": "1.5.0",
       "_model_name": "HTMLModel",
       "_view_count": null,
       "_view_module": "@jupyter-widgets/controls",
       "_view_module_version": "1.5.0",
       "_view_name": "HTMLView",
       "description": "",
       "description_tooltip": null,
       "layout": "IPY_MODEL_97448dd98fb3436794d24dc8651cc59a",
       "placeholder": "​",
       "style": "IPY_MODEL_d738db5c40d64ece8d0cb73e206363eb",
       "value": "Downloading: 100%"
      }
     },
     "e78c136074f84bf2a03703b66f6ab25b": {
      "model_module": "@jupyter-widgets/base",
      "model_module_version": "1.2.0",
      "model_name": "LayoutModel",
      "state": {
       "_model_module": "@jupyter-widgets/base",
       "_model_module_version": "1.2.0",
       "_model_name": "LayoutModel",
       "_view_count": null,
       "_view_module": "@jupyter-widgets/base",
       "_view_module_version": "1.2.0",
       "_view_name": "LayoutView",
       "align_content": null,
       "align_items": null,
       "align_self": null,
       "border": null,
       "bottom": null,
       "display": null,
       "flex": null,
       "flex_flow": null,
       "grid_area": null,
       "grid_auto_columns": null,
       "grid_auto_flow": null,
       "grid_auto_rows": null,
       "grid_column": null,
       "grid_gap": null,
       "grid_row": null,
       "grid_template_areas": null,
       "grid_template_columns": null,
       "grid_template_rows": null,
       "height": null,
       "justify_content": null,
       "justify_items": null,
       "left": null,
       "margin": null,
       "max_height": null,
       "max_width": null,
       "min_height": null,
       "min_width": null,
       "object_fit": null,
       "object_position": null,
       "order": null,
       "overflow": null,
       "overflow_x": null,
       "overflow_y": null,
       "padding": null,
       "right": null,
       "top": null,
       "visibility": null,
       "width": null
      }
     },
     "f175ab0ae5df4994aadf4d31b7274a9d": {
      "model_module": "@jupyter-widgets/controls",
      "model_module_version": "1.5.0",
      "model_name": "DescriptionStyleModel",
      "state": {
       "_model_module": "@jupyter-widgets/controls",
       "_model_module_version": "1.5.0",
       "_model_name": "DescriptionStyleModel",
       "_view_count": null,
       "_view_module": "@jupyter-widgets/base",
       "_view_module_version": "1.2.0",
       "_view_name": "StyleView",
       "description_width": ""
      }
     }
    },
    "version_major": 2,
    "version_minor": 0
   }
  }
 },
 "nbformat": 4,
 "nbformat_minor": 5
}
