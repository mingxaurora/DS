{
 "cells": [
  {
   "cell_type": "markdown",
   "id": "29be57ab",
   "metadata": {
    "papermill": {
     "duration": 0.022765,
     "end_time": "2022-07-21T03:51:54.767899",
     "exception": false,
     "start_time": "2022-07-21T03:51:54.745134",
     "status": "completed"
    },
    "tags": []
   },
   "source": [
    "# **競賽說明**\n",
    "\n",
    "本次的項目是要預測句子所帶有的情緒.<br>\n",
    "\n",
    "本次項目為NLP–單一文本多元分類任務<br>\n",
    "\n",
    "競賽網址:<br>\n",
    "https://www.kaggle.com/competitions/sentiment-analysis-on-movie-reviews/overview"
   ]
  },
  {
   "cell_type": "markdown",
   "id": "12c6b634",
   "metadata": {
    "papermill": {
     "duration": 0.018385,
     "end_time": "2022-07-21T03:51:54.810659",
     "exception": false,
     "start_time": "2022-07-21T03:51:54.792274",
     "status": "completed"
    },
    "tags": []
   },
   "source": [
    "## **kernel架構:**\n",
    "\n",
    "1. 讀取套件及載入資料\n",
    "2. EDA \n",
    "3. Data Preprocessing(資料前處理) \n",
    "4. 模型建構 "
   ]
  },
  {
   "cell_type": "markdown",
   "id": "7b3d9ee7",
   "metadata": {
    "papermill": {
     "duration": 0.012594,
     "end_time": "2022-07-21T03:51:54.836002",
     "exception": false,
     "start_time": "2022-07-21T03:51:54.823408",
     "status": "completed"
    },
    "tags": []
   },
   "source": [
    "問題思考和想法:<br>\n",
    "\n",
    "- x"
   ]
  },
  {
   "cell_type": "code",
   "execution_count": 1,
   "id": "18cc953d",
   "metadata": {
    "_cell_guid": "b1076dfc-b9ad-4769-8c92-a6c4dae69d19",
    "_uuid": "8f2839f25d086af736a60e9eeb907d3b93b6e0e5",
    "execution": {
     "iopub.execute_input": "2022-07-21T03:51:54.863467Z",
     "iopub.status.busy": "2022-07-21T03:51:54.862874Z",
     "iopub.status.idle": "2022-07-21T03:51:54.877404Z",
     "shell.execute_reply": "2022-07-21T03:51:54.876497Z"
    },
    "papermill": {
     "duration": 0.031276,
     "end_time": "2022-07-21T03:51:54.879465",
     "exception": false,
     "start_time": "2022-07-21T03:51:54.848189",
     "status": "completed"
    },
    "tags": []
   },
   "outputs": [
    {
     "name": "stdout",
     "output_type": "stream",
     "text": [
      "/kaggle/input/sentiment-analysis-on-movie-reviews/sampleSubmission.csv\n",
      "/kaggle/input/sentiment-analysis-on-movie-reviews/train.tsv.zip\n",
      "/kaggle/input/sentiment-analysis-on-movie-reviews/test.tsv.zip\n"
     ]
    }
   ],
   "source": [
    "# This Python 3 environment comes with many helpful analytics libraries installed\n",
    "# It is defined by the kaggle/python Docker image: https://github.com/kaggle/docker-python\n",
    "# For example, here's several helpful packages to load\n",
    "\n",
    "import numpy as np # linear algebra\n",
    "import pandas as pd # data processing, CSV file I/O (e.g. pd.read_csv)\n",
    "\n",
    "# Input data files are available in the read-only \"../input/\" directory\n",
    "# For example, running this (by clicking run or pressing Shift+Enter) will list all files under the input directory\n",
    "\n",
    "import os\n",
    "for dirname, _, filenames in os.walk('/kaggle/input'):\n",
    "    for filename in filenames:\n",
    "        print(os.path.join(dirname, filename))\n",
    "\n",
    "# You can write up to 20GB to the current directory (/kaggle/working/) that gets preserved as output when you create a version using \"Save & Run All\" \n",
    "# You can also write temporary files to /kaggle/temp/, but they won't be saved outside of the current session"
   ]
  },
  {
   "cell_type": "markdown",
   "id": "8292dea4",
   "metadata": {
    "papermill": {
     "duration": 0.012521,
     "end_time": "2022-07-21T03:51:54.904312",
     "exception": false,
     "start_time": "2022-07-21T03:51:54.891791",
     "status": "completed"
    },
    "tags": []
   },
   "source": [
    "# **1. 讀取套件及載入資料**"
   ]
  },
  {
   "cell_type": "code",
   "execution_count": 2,
   "id": "1e335e81",
   "metadata": {
    "execution": {
     "iopub.execute_input": "2022-07-21T03:51:54.945218Z",
     "iopub.status.busy": "2022-07-21T03:51:54.944850Z",
     "iopub.status.idle": "2022-07-21T03:52:03.049393Z",
     "shell.execute_reply": "2022-07-21T03:52:03.048334Z"
    },
    "papermill": {
     "duration": 8.127763,
     "end_time": "2022-07-21T03:52:03.051779",
     "exception": false,
     "start_time": "2022-07-21T03:51:54.924016",
     "status": "completed"
    },
    "tags": []
   },
   "outputs": [],
   "source": [
    "import numpy as np\n",
    "import pandas as pd\n",
    "from matplotlib import pyplot as plt\n",
    "\n",
    "#skleran\n",
    "#from sklearn.model_selection import train_test_split\n",
    "from sklearn.metrics import confusion_matrix\n",
    "\n",
    "#transformers \n",
    "from transformers import RobertaTokenizer\n",
    "from transformers import TFRobertaModel\n",
    "\n",
    "#tensorflow\n",
    "import tensorflow as tf\n",
    "from tensorflow.keras.optimizers import Adam\n",
    "from tensorflow.keras.utils import to_categorical,plot_model \n",
    "#from keras.models import Sequential\n",
    "#from keras.layers import Dense,Activation,Dropout\n",
    "import keras_tuner as kt\n",
    "\n",
    "#other\n",
    "#import missingno as msno\n",
    "from IPython.display import clear_output"
   ]
  },
  {
   "cell_type": "code",
   "execution_count": 3,
   "id": "5d8722a2",
   "metadata": {
    "execution": {
     "iopub.execute_input": "2022-07-21T03:52:03.078620Z",
     "iopub.status.busy": "2022-07-21T03:52:03.078152Z",
     "iopub.status.idle": "2022-07-21T03:52:03.381717Z",
     "shell.execute_reply": "2022-07-21T03:52:03.380741Z"
    },
    "papermill": {
     "duration": 0.319099,
     "end_time": "2022-07-21T03:52:03.384151",
     "exception": false,
     "start_time": "2022-07-21T03:52:03.065052",
     "status": "completed"
    },
    "tags": []
   },
   "outputs": [],
   "source": [
    "#tsv檔的間隔符與csv檔不同\n",
    "#此處讀取檔案時需修改參數sep(間隔符)值\n",
    "train=pd.read_csv('/kaggle/input/sentiment-analysis-on-movie-reviews/train.tsv.zip',sep='\\t')\n",
    "test=pd.read_csv('/kaggle/input/sentiment-analysis-on-movie-reviews/test.tsv.zip',sep='\\t')"
   ]
  },
  {
   "cell_type": "markdown",
   "id": "3c04c6e8",
   "metadata": {
    "papermill": {
     "duration": 0.012114,
     "end_time": "2022-07-21T03:52:03.408926",
     "exception": false,
     "start_time": "2022-07-21T03:52:03.396812",
     "status": "completed"
    },
    "tags": []
   },
   "source": [
    "# **2. EDA**"
   ]
  },
  {
   "cell_type": "markdown",
   "id": "68b5ec80",
   "metadata": {
    "execution": {
     "iopub.execute_input": "2022-06-28T10:41:55.952671Z",
     "iopub.status.busy": "2022-06-28T10:41:55.952258Z",
     "iopub.status.idle": "2022-06-28T10:41:55.958685Z",
     "shell.execute_reply": "2022-06-28T10:41:55.957023Z",
     "shell.execute_reply.started": "2022-06-28T10:41:55.952634Z"
    },
    "papermill": {
     "duration": 0.012408,
     "end_time": "2022-07-21T03:52:03.434129",
     "exception": false,
     "start_time": "2022-07-21T03:52:03.421721",
     "status": "completed"
    },
    "tags": []
   },
   "source": [
    "## **2.1 資料概述**"
   ]
  },
  {
   "cell_type": "code",
   "execution_count": 4,
   "id": "8122bd99",
   "metadata": {
    "execution": {
     "iopub.execute_input": "2022-07-21T03:52:03.459747Z",
     "iopub.status.busy": "2022-07-21T03:52:03.459436Z",
     "iopub.status.idle": "2022-07-21T03:52:03.508380Z",
     "shell.execute_reply": "2022-07-21T03:52:03.506787Z"
    },
    "papermill": {
     "duration": 0.064558,
     "end_time": "2022-07-21T03:52:03.510818",
     "exception": false,
     "start_time": "2022-07-21T03:52:03.446260",
     "status": "completed"
    },
    "tags": []
   },
   "outputs": [
    {
     "name": "stdout",
     "output_type": "stream",
     "text": [
      "<class 'pandas.core.frame.DataFrame'>\n",
      "RangeIndex: 156060 entries, 0 to 156059\n",
      "Data columns (total 4 columns):\n",
      " #   Column      Non-Null Count   Dtype \n",
      "---  ------      --------------   ----- \n",
      " 0   PhraseId    156060 non-null  int64 \n",
      " 1   SentenceId  156060 non-null  int64 \n",
      " 2   Phrase      156060 non-null  object\n",
      " 3   Sentiment   156060 non-null  int64 \n",
      "dtypes: int64(3), object(1)\n",
      "memory usage: 4.8+ MB\n",
      "None\n"
     ]
    },
    {
     "data": {
      "text/html": [
       "<div>\n",
       "<style scoped>\n",
       "    .dataframe tbody tr th:only-of-type {\n",
       "        vertical-align: middle;\n",
       "    }\n",
       "\n",
       "    .dataframe tbody tr th {\n",
       "        vertical-align: top;\n",
       "    }\n",
       "\n",
       "    .dataframe thead th {\n",
       "        text-align: right;\n",
       "    }\n",
       "</style>\n",
       "<table border=\"1\" class=\"dataframe\">\n",
       "  <thead>\n",
       "    <tr style=\"text-align: right;\">\n",
       "      <th></th>\n",
       "      <th>PhraseId</th>\n",
       "      <th>SentenceId</th>\n",
       "      <th>Phrase</th>\n",
       "      <th>Sentiment</th>\n",
       "    </tr>\n",
       "  </thead>\n",
       "  <tbody>\n",
       "    <tr>\n",
       "      <th>0</th>\n",
       "      <td>1</td>\n",
       "      <td>1</td>\n",
       "      <td>A series of escapades demonstrating the adage ...</td>\n",
       "      <td>1</td>\n",
       "    </tr>\n",
       "    <tr>\n",
       "      <th>1</th>\n",
       "      <td>2</td>\n",
       "      <td>1</td>\n",
       "      <td>A series of escapades demonstrating the adage ...</td>\n",
       "      <td>2</td>\n",
       "    </tr>\n",
       "    <tr>\n",
       "      <th>2</th>\n",
       "      <td>3</td>\n",
       "      <td>1</td>\n",
       "      <td>A series</td>\n",
       "      <td>2</td>\n",
       "    </tr>\n",
       "    <tr>\n",
       "      <th>3</th>\n",
       "      <td>4</td>\n",
       "      <td>1</td>\n",
       "      <td>A</td>\n",
       "      <td>2</td>\n",
       "    </tr>\n",
       "    <tr>\n",
       "      <th>4</th>\n",
       "      <td>5</td>\n",
       "      <td>1</td>\n",
       "      <td>series</td>\n",
       "      <td>2</td>\n",
       "    </tr>\n",
       "    <tr>\n",
       "      <th>5</th>\n",
       "      <td>6</td>\n",
       "      <td>1</td>\n",
       "      <td>of escapades demonstrating the adage that what...</td>\n",
       "      <td>2</td>\n",
       "    </tr>\n",
       "    <tr>\n",
       "      <th>6</th>\n",
       "      <td>7</td>\n",
       "      <td>1</td>\n",
       "      <td>of</td>\n",
       "      <td>2</td>\n",
       "    </tr>\n",
       "    <tr>\n",
       "      <th>7</th>\n",
       "      <td>8</td>\n",
       "      <td>1</td>\n",
       "      <td>escapades demonstrating the adage that what is...</td>\n",
       "      <td>2</td>\n",
       "    </tr>\n",
       "    <tr>\n",
       "      <th>8</th>\n",
       "      <td>9</td>\n",
       "      <td>1</td>\n",
       "      <td>escapades</td>\n",
       "      <td>2</td>\n",
       "    </tr>\n",
       "    <tr>\n",
       "      <th>9</th>\n",
       "      <td>10</td>\n",
       "      <td>1</td>\n",
       "      <td>demonstrating the adage that what is good for ...</td>\n",
       "      <td>2</td>\n",
       "    </tr>\n",
       "  </tbody>\n",
       "</table>\n",
       "</div>"
      ],
      "text/plain": [
       "   PhraseId  SentenceId                                             Phrase  \\\n",
       "0         1           1  A series of escapades demonstrating the adage ...   \n",
       "1         2           1  A series of escapades demonstrating the adage ...   \n",
       "2         3           1                                           A series   \n",
       "3         4           1                                                  A   \n",
       "4         5           1                                             series   \n",
       "5         6           1  of escapades demonstrating the adage that what...   \n",
       "6         7           1                                                 of   \n",
       "7         8           1  escapades demonstrating the adage that what is...   \n",
       "8         9           1                                          escapades   \n",
       "9        10           1  demonstrating the adage that what is good for ...   \n",
       "\n",
       "   Sentiment  \n",
       "0          1  \n",
       "1          2  \n",
       "2          2  \n",
       "3          2  \n",
       "4          2  \n",
       "5          2  \n",
       "6          2  \n",
       "7          2  \n",
       "8          2  \n",
       "9          2  "
      ]
     },
     "execution_count": 4,
     "metadata": {},
     "output_type": "execute_result"
    }
   ],
   "source": [
    "print(train.info())\n",
    "train.head(10)"
   ]
  },
  {
   "cell_type": "code",
   "execution_count": 5,
   "id": "76732cd5",
   "metadata": {
    "execution": {
     "iopub.execute_input": "2022-07-21T03:52:03.538081Z",
     "iopub.status.busy": "2022-07-21T03:52:03.537363Z",
     "iopub.status.idle": "2022-07-21T03:52:03.559470Z",
     "shell.execute_reply": "2022-07-21T03:52:03.557966Z"
    },
    "papermill": {
     "duration": 0.038201,
     "end_time": "2022-07-21T03:52:03.561962",
     "exception": false,
     "start_time": "2022-07-21T03:52:03.523761",
     "status": "completed"
    },
    "tags": []
   },
   "outputs": [
    {
     "name": "stdout",
     "output_type": "stream",
     "text": [
      "<class 'pandas.core.frame.DataFrame'>\n",
      "RangeIndex: 66292 entries, 0 to 66291\n",
      "Data columns (total 3 columns):\n",
      " #   Column      Non-Null Count  Dtype \n",
      "---  ------      --------------  ----- \n",
      " 0   PhraseId    66292 non-null  int64 \n",
      " 1   SentenceId  66292 non-null  int64 \n",
      " 2   Phrase      66292 non-null  object\n",
      "dtypes: int64(2), object(1)\n",
      "memory usage: 1.5+ MB\n",
      "None\n"
     ]
    },
    {
     "data": {
      "text/html": [
       "<div>\n",
       "<style scoped>\n",
       "    .dataframe tbody tr th:only-of-type {\n",
       "        vertical-align: middle;\n",
       "    }\n",
       "\n",
       "    .dataframe tbody tr th {\n",
       "        vertical-align: top;\n",
       "    }\n",
       "\n",
       "    .dataframe thead th {\n",
       "        text-align: right;\n",
       "    }\n",
       "</style>\n",
       "<table border=\"1\" class=\"dataframe\">\n",
       "  <thead>\n",
       "    <tr style=\"text-align: right;\">\n",
       "      <th></th>\n",
       "      <th>PhraseId</th>\n",
       "      <th>SentenceId</th>\n",
       "      <th>Phrase</th>\n",
       "    </tr>\n",
       "  </thead>\n",
       "  <tbody>\n",
       "    <tr>\n",
       "      <th>0</th>\n",
       "      <td>156061</td>\n",
       "      <td>8545</td>\n",
       "      <td>An intermittently pleasing but mostly routine ...</td>\n",
       "    </tr>\n",
       "    <tr>\n",
       "      <th>1</th>\n",
       "      <td>156062</td>\n",
       "      <td>8545</td>\n",
       "      <td>An intermittently pleasing but mostly routine ...</td>\n",
       "    </tr>\n",
       "    <tr>\n",
       "      <th>2</th>\n",
       "      <td>156063</td>\n",
       "      <td>8545</td>\n",
       "      <td>An</td>\n",
       "    </tr>\n",
       "    <tr>\n",
       "      <th>3</th>\n",
       "      <td>156064</td>\n",
       "      <td>8545</td>\n",
       "      <td>intermittently pleasing but mostly routine effort</td>\n",
       "    </tr>\n",
       "    <tr>\n",
       "      <th>4</th>\n",
       "      <td>156065</td>\n",
       "      <td>8545</td>\n",
       "      <td>intermittently pleasing but mostly routine</td>\n",
       "    </tr>\n",
       "    <tr>\n",
       "      <th>5</th>\n",
       "      <td>156066</td>\n",
       "      <td>8545</td>\n",
       "      <td>intermittently pleasing but</td>\n",
       "    </tr>\n",
       "    <tr>\n",
       "      <th>6</th>\n",
       "      <td>156067</td>\n",
       "      <td>8545</td>\n",
       "      <td>intermittently pleasing</td>\n",
       "    </tr>\n",
       "    <tr>\n",
       "      <th>7</th>\n",
       "      <td>156068</td>\n",
       "      <td>8545</td>\n",
       "      <td>intermittently</td>\n",
       "    </tr>\n",
       "    <tr>\n",
       "      <th>8</th>\n",
       "      <td>156069</td>\n",
       "      <td>8545</td>\n",
       "      <td>pleasing</td>\n",
       "    </tr>\n",
       "    <tr>\n",
       "      <th>9</th>\n",
       "      <td>156070</td>\n",
       "      <td>8545</td>\n",
       "      <td>but</td>\n",
       "    </tr>\n",
       "  </tbody>\n",
       "</table>\n",
       "</div>"
      ],
      "text/plain": [
       "   PhraseId  SentenceId                                             Phrase\n",
       "0    156061        8545  An intermittently pleasing but mostly routine ...\n",
       "1    156062        8545  An intermittently pleasing but mostly routine ...\n",
       "2    156063        8545                                                 An\n",
       "3    156064        8545  intermittently pleasing but mostly routine effort\n",
       "4    156065        8545         intermittently pleasing but mostly routine\n",
       "5    156066        8545                        intermittently pleasing but\n",
       "6    156067        8545                            intermittently pleasing\n",
       "7    156068        8545                                     intermittently\n",
       "8    156069        8545                                           pleasing\n",
       "9    156070        8545                                                but"
      ]
     },
     "execution_count": 5,
     "metadata": {},
     "output_type": "execute_result"
    }
   ],
   "source": [
    "print(test.info())\n",
    "test.head(10)"
   ]
  },
  {
   "cell_type": "markdown",
   "id": "2413847c",
   "metadata": {
    "papermill": {
     "duration": 0.013004,
     "end_time": "2022-07-21T03:52:03.588019",
     "exception": false,
     "start_time": "2022-07-21T03:52:03.575015",
     "status": "completed"
    },
    "tags": []
   },
   "source": [
    "## **2.2 Columns**"
   ]
  },
  {
   "cell_type": "markdown",
   "id": "8cee0f96",
   "metadata": {
    "papermill": {
     "duration": 0.012571,
     "end_time": "2022-07-21T03:52:03.613374",
     "exception": false,
     "start_time": "2022-07-21T03:52:03.600803",
     "status": "completed"
    },
    "tags": []
   },
   "source": [
    "- `PhraseId` : dataset序列. 鍵值.<br>\n",
    "- `SentenceId` : 針對句子產生的序列編號.<br>\n",
    "- `Phrase` : 文本資料.<br>\n",
    "- `Sentiment` : 表示文本所帶有的情緒.只有traindata有這個列.<br>\n",
    "\n",
    "在本次的項目當中<br>\n",
    "將需要預測testdata的句子(Phrase)所帶有的情緒.<br>"
   ]
  },
  {
   "cell_type": "code",
   "execution_count": 6,
   "id": "7956b37f",
   "metadata": {
    "execution": {
     "iopub.execute_input": "2022-07-21T03:52:03.640793Z",
     "iopub.status.busy": "2022-07-21T03:52:03.640532Z",
     "iopub.status.idle": "2022-07-21T03:52:03.645711Z",
     "shell.execute_reply": "2022-07-21T03:52:03.644768Z"
    },
    "papermill": {
     "duration": 0.021563,
     "end_time": "2022-07-21T03:52:03.648470",
     "exception": false,
     "start_time": "2022-07-21T03:52:03.626907",
     "status": "completed"
    },
    "tags": []
   },
   "outputs": [
    {
     "name": "stdout",
     "output_type": "stream",
     "text": [
      "\n",
      "traindata columns :\n",
      "Index(['PhraseId', 'SentenceId', 'Phrase', 'Sentiment'], dtype='object')\n",
      "數量 : 4\n",
      "\n",
      "testdata columns :\n",
      "Index(['PhraseId', 'SentenceId', 'Phrase'], dtype='object')\n",
      "數量 : 3\n",
      "\n"
     ]
    }
   ],
   "source": [
    "#顯示資料的columns\n",
    "\n",
    "print(f'''\n",
    "traindata columns :\n",
    "{train.columns}\n",
    "數量 : {len(train.columns)}\n",
    "\n",
    "testdata columns :\n",
    "{test.columns}\n",
    "數量 : {len(test.columns)}\n",
    "''')"
   ]
  },
  {
   "cell_type": "markdown",
   "id": "626205eb",
   "metadata": {
    "papermill": {
     "duration": 0.013159,
     "end_time": "2022-07-21T03:52:03.675593",
     "exception": false,
     "start_time": "2022-07-21T03:52:03.662434",
     "status": "completed"
    },
    "tags": []
   },
   "source": [
    "### **2.2.1 PhraseId**"
   ]
  },
  {
   "cell_type": "markdown",
   "id": "3cebdaea",
   "metadata": {
    "papermill": {
     "duration": 0.012717,
     "end_time": "2022-07-21T03:52:03.701198",
     "exception": false,
     "start_time": "2022-07-21T03:52:03.688481",
     "status": "completed"
    },
    "tags": []
   },
   "source": [
    "PhraseId為dataset的鍵值.\n"
   ]
  },
  {
   "cell_type": "markdown",
   "id": "53a8da6f",
   "metadata": {
    "papermill": {
     "duration": 0.012714,
     "end_time": "2022-07-21T03:52:03.726669",
     "exception": false,
     "start_time": "2022-07-21T03:52:03.713955",
     "status": "completed"
    },
    "tags": []
   },
   "source": [
    "### **2.2.2 SentenceId**"
   ]
  },
  {
   "cell_type": "markdown",
   "id": "ccf87c9b",
   "metadata": {
    "papermill": {
     "duration": 0.012593,
     "end_time": "2022-07-21T03:52:03.752262",
     "exception": false,
     "start_time": "2022-07-21T03:52:03.739669",
     "status": "completed"
    },
    "tags": []
   },
   "source": [
    "SentenceId用於分類PharseId是屬於出自哪個序號的句子.<br>\n",
    "經觀察後發現<br>\n",
    "每個SentenceId除了包含最初始完整的句子<br>\n",
    "同時也包含了同個SentenceId經過切割劃分的句子片段<br>\n",
    "因此同時會有數筆資料屬於同個SentenceId.<br>"
   ]
  },
  {
   "cell_type": "code",
   "execution_count": 7,
   "id": "915505df",
   "metadata": {
    "execution": {
     "iopub.execute_input": "2022-07-21T03:52:03.780217Z",
     "iopub.status.busy": "2022-07-21T03:52:03.779962Z",
     "iopub.status.idle": "2022-07-21T03:52:03.817453Z",
     "shell.execute_reply": "2022-07-21T03:52:03.816459Z"
    },
    "papermill": {
     "duration": 0.053461,
     "end_time": "2022-07-21T03:52:03.819660",
     "exception": false,
     "start_time": "2022-07-21T03:52:03.766199",
     "status": "completed"
    },
    "tags": []
   },
   "outputs": [
    {
     "name": "stdout",
     "output_type": "stream",
     "text": [
      "SentenceId and Pharase:\n",
      "--------------------\n",
      "[1] A series of escapades demonstrating the adage that what is good for the goose is also good for the gander , some of which occasionally amuses but none of which amounts to much of a story .\n",
      "--------------------\n",
      "[2] This quiet , introspective and entertaining independent is worth seeking .\n",
      "--------------------\n",
      "[3] Even fans of Ismail Merchant 's work , I suspect , would have a hard time sitting through this one .\n",
      "--------------------\n",
      "[4] A positively thrilling combination of ethnography and all the intrigue , betrayal , deceit and murder of a Shakespearean tragedy or a juicy soap opera .\n",
      "--------------------\n",
      "[5] Aggressive self-glorification and a manipulative whitewash .\n",
      "--------------------\n",
      "[6] A comedy-drama of nearly epic proportions rooted in a sincere performance by the title character undergoing midlife crisis .\n",
      "--------------------\n",
      "[7] Narratively , Trouble Every Day is a plodding mess .\n",
      "--------------------\n",
      "[8] The Importance of Being Earnest , so thick with wit it plays like a reading from Bartlett 's Familiar Quotations\n",
      "--------------------\n",
      "[9] But it does n't leave you with much .\n",
      "--------------------\n",
      "[10] You could hate it for the same reason .\n"
     ]
    },
    {
     "data": {
      "text/html": [
       "<div>\n",
       "<style scoped>\n",
       "    .dataframe tbody tr th:only-of-type {\n",
       "        vertical-align: middle;\n",
       "    }\n",
       "\n",
       "    .dataframe tbody tr th {\n",
       "        vertical-align: top;\n",
       "    }\n",
       "\n",
       "    .dataframe thead th {\n",
       "        text-align: right;\n",
       "    }\n",
       "</style>\n",
       "<table border=\"1\" class=\"dataframe\">\n",
       "  <thead>\n",
       "    <tr style=\"text-align: right;\">\n",
       "      <th></th>\n",
       "      <th>PhraseId</th>\n",
       "      <th>SentenceId</th>\n",
       "      <th>Phrase</th>\n",
       "      <th>Sentiment</th>\n",
       "    </tr>\n",
       "  </thead>\n",
       "  <tbody>\n",
       "    <tr>\n",
       "      <th>81</th>\n",
       "      <td>82</td>\n",
       "      <td>3</td>\n",
       "      <td>Even fans of Ismail Merchant 's work , I suspe...</td>\n",
       "      <td>1</td>\n",
       "    </tr>\n",
       "    <tr>\n",
       "      <th>82</th>\n",
       "      <td>83</td>\n",
       "      <td>3</td>\n",
       "      <td>Even fans of Ismail Merchant 's work</td>\n",
       "      <td>2</td>\n",
       "    </tr>\n",
       "    <tr>\n",
       "      <th>83</th>\n",
       "      <td>84</td>\n",
       "      <td>3</td>\n",
       "      <td>Even fans</td>\n",
       "      <td>2</td>\n",
       "    </tr>\n",
       "    <tr>\n",
       "      <th>84</th>\n",
       "      <td>85</td>\n",
       "      <td>3</td>\n",
       "      <td>Even</td>\n",
       "      <td>2</td>\n",
       "    </tr>\n",
       "    <tr>\n",
       "      <th>85</th>\n",
       "      <td>86</td>\n",
       "      <td>3</td>\n",
       "      <td>fans</td>\n",
       "      <td>3</td>\n",
       "    </tr>\n",
       "    <tr>\n",
       "      <th>86</th>\n",
       "      <td>87</td>\n",
       "      <td>3</td>\n",
       "      <td>of Ismail Merchant 's work</td>\n",
       "      <td>2</td>\n",
       "    </tr>\n",
       "    <tr>\n",
       "      <th>87</th>\n",
       "      <td>88</td>\n",
       "      <td>3</td>\n",
       "      <td>Ismail Merchant 's work</td>\n",
       "      <td>2</td>\n",
       "    </tr>\n",
       "    <tr>\n",
       "      <th>88</th>\n",
       "      <td>89</td>\n",
       "      <td>3</td>\n",
       "      <td>Ismail Merchant 's</td>\n",
       "      <td>2</td>\n",
       "    </tr>\n",
       "    <tr>\n",
       "      <th>89</th>\n",
       "      <td>90</td>\n",
       "      <td>3</td>\n",
       "      <td>Ismail</td>\n",
       "      <td>2</td>\n",
       "    </tr>\n",
       "    <tr>\n",
       "      <th>90</th>\n",
       "      <td>91</td>\n",
       "      <td>3</td>\n",
       "      <td>Merchant 's</td>\n",
       "      <td>2</td>\n",
       "    </tr>\n",
       "    <tr>\n",
       "      <th>91</th>\n",
       "      <td>92</td>\n",
       "      <td>3</td>\n",
       "      <td>Merchant</td>\n",
       "      <td>2</td>\n",
       "    </tr>\n",
       "    <tr>\n",
       "      <th>92</th>\n",
       "      <td>93</td>\n",
       "      <td>3</td>\n",
       "      <td>'s</td>\n",
       "      <td>2</td>\n",
       "    </tr>\n",
       "    <tr>\n",
       "      <th>93</th>\n",
       "      <td>94</td>\n",
       "      <td>3</td>\n",
       "      <td>work</td>\n",
       "      <td>2</td>\n",
       "    </tr>\n",
       "    <tr>\n",
       "      <th>94</th>\n",
       "      <td>95</td>\n",
       "      <td>3</td>\n",
       "      <td>, I suspect , would have a hard time sitting t...</td>\n",
       "      <td>1</td>\n",
       "    </tr>\n",
       "    <tr>\n",
       "      <th>95</th>\n",
       "      <td>96</td>\n",
       "      <td>3</td>\n",
       "      <td>, I suspect ,</td>\n",
       "      <td>2</td>\n",
       "    </tr>\n",
       "    <tr>\n",
       "      <th>96</th>\n",
       "      <td>97</td>\n",
       "      <td>3</td>\n",
       "      <td>I suspect ,</td>\n",
       "      <td>2</td>\n",
       "    </tr>\n",
       "    <tr>\n",
       "      <th>97</th>\n",
       "      <td>98</td>\n",
       "      <td>3</td>\n",
       "      <td>I suspect</td>\n",
       "      <td>2</td>\n",
       "    </tr>\n",
       "    <tr>\n",
       "      <th>98</th>\n",
       "      <td>99</td>\n",
       "      <td>3</td>\n",
       "      <td>I</td>\n",
       "      <td>2</td>\n",
       "    </tr>\n",
       "    <tr>\n",
       "      <th>99</th>\n",
       "      <td>100</td>\n",
       "      <td>3</td>\n",
       "      <td>suspect</td>\n",
       "      <td>2</td>\n",
       "    </tr>\n",
       "    <tr>\n",
       "      <th>100</th>\n",
       "      <td>101</td>\n",
       "      <td>3</td>\n",
       "      <td>would have a hard time sitting through this one .</td>\n",
       "      <td>1</td>\n",
       "    </tr>\n",
       "    <tr>\n",
       "      <th>101</th>\n",
       "      <td>102</td>\n",
       "      <td>3</td>\n",
       "      <td>would have a hard time sitting through this one</td>\n",
       "      <td>0</td>\n",
       "    </tr>\n",
       "    <tr>\n",
       "      <th>102</th>\n",
       "      <td>103</td>\n",
       "      <td>3</td>\n",
       "      <td>would</td>\n",
       "      <td>2</td>\n",
       "    </tr>\n",
       "    <tr>\n",
       "      <th>103</th>\n",
       "      <td>104</td>\n",
       "      <td>3</td>\n",
       "      <td>have a hard time sitting through this one</td>\n",
       "      <td>0</td>\n",
       "    </tr>\n",
       "    <tr>\n",
       "      <th>104</th>\n",
       "      <td>105</td>\n",
       "      <td>3</td>\n",
       "      <td>have</td>\n",
       "      <td>2</td>\n",
       "    </tr>\n",
       "    <tr>\n",
       "      <th>105</th>\n",
       "      <td>106</td>\n",
       "      <td>3</td>\n",
       "      <td>a hard time sitting through this one</td>\n",
       "      <td>1</td>\n",
       "    </tr>\n",
       "    <tr>\n",
       "      <th>106</th>\n",
       "      <td>107</td>\n",
       "      <td>3</td>\n",
       "      <td>a hard time</td>\n",
       "      <td>1</td>\n",
       "    </tr>\n",
       "    <tr>\n",
       "      <th>107</th>\n",
       "      <td>108</td>\n",
       "      <td>3</td>\n",
       "      <td>hard time</td>\n",
       "      <td>1</td>\n",
       "    </tr>\n",
       "    <tr>\n",
       "      <th>108</th>\n",
       "      <td>109</td>\n",
       "      <td>3</td>\n",
       "      <td>hard</td>\n",
       "      <td>2</td>\n",
       "    </tr>\n",
       "    <tr>\n",
       "      <th>109</th>\n",
       "      <td>110</td>\n",
       "      <td>3</td>\n",
       "      <td>time</td>\n",
       "      <td>2</td>\n",
       "    </tr>\n",
       "    <tr>\n",
       "      <th>110</th>\n",
       "      <td>111</td>\n",
       "      <td>3</td>\n",
       "      <td>sitting through this one</td>\n",
       "      <td>1</td>\n",
       "    </tr>\n",
       "    <tr>\n",
       "      <th>111</th>\n",
       "      <td>112</td>\n",
       "      <td>3</td>\n",
       "      <td>sitting</td>\n",
       "      <td>2</td>\n",
       "    </tr>\n",
       "    <tr>\n",
       "      <th>112</th>\n",
       "      <td>113</td>\n",
       "      <td>3</td>\n",
       "      <td>through this one</td>\n",
       "      <td>2</td>\n",
       "    </tr>\n",
       "    <tr>\n",
       "      <th>113</th>\n",
       "      <td>114</td>\n",
       "      <td>3</td>\n",
       "      <td>through</td>\n",
       "      <td>2</td>\n",
       "    </tr>\n",
       "    <tr>\n",
       "      <th>114</th>\n",
       "      <td>115</td>\n",
       "      <td>3</td>\n",
       "      <td>this one</td>\n",
       "      <td>2</td>\n",
       "    </tr>\n",
       "    <tr>\n",
       "      <th>115</th>\n",
       "      <td>116</td>\n",
       "      <td>3</td>\n",
       "      <td>one</td>\n",
       "      <td>2</td>\n",
       "    </tr>\n",
       "  </tbody>\n",
       "</table>\n",
       "</div>"
      ],
      "text/plain": [
       "     PhraseId  SentenceId                                             Phrase  \\\n",
       "81         82           3  Even fans of Ismail Merchant 's work , I suspe...   \n",
       "82         83           3               Even fans of Ismail Merchant 's work   \n",
       "83         84           3                                          Even fans   \n",
       "84         85           3                                               Even   \n",
       "85         86           3                                               fans   \n",
       "86         87           3                         of Ismail Merchant 's work   \n",
       "87         88           3                            Ismail Merchant 's work   \n",
       "88         89           3                                 Ismail Merchant 's   \n",
       "89         90           3                                             Ismail   \n",
       "90         91           3                                        Merchant 's   \n",
       "91         92           3                                           Merchant   \n",
       "92         93           3                                                 's   \n",
       "93         94           3                                               work   \n",
       "94         95           3  , I suspect , would have a hard time sitting t...   \n",
       "95         96           3                                      , I suspect ,   \n",
       "96         97           3                                        I suspect ,   \n",
       "97         98           3                                          I suspect   \n",
       "98         99           3                                                  I   \n",
       "99        100           3                                            suspect   \n",
       "100       101           3  would have a hard time sitting through this one .   \n",
       "101       102           3    would have a hard time sitting through this one   \n",
       "102       103           3                                              would   \n",
       "103       104           3          have a hard time sitting through this one   \n",
       "104       105           3                                               have   \n",
       "105       106           3               a hard time sitting through this one   \n",
       "106       107           3                                        a hard time   \n",
       "107       108           3                                          hard time   \n",
       "108       109           3                                               hard   \n",
       "109       110           3                                               time   \n",
       "110       111           3                           sitting through this one   \n",
       "111       112           3                                            sitting   \n",
       "112       113           3                                   through this one   \n",
       "113       114           3                                            through   \n",
       "114       115           3                                           this one   \n",
       "115       116           3                                                one   \n",
       "\n",
       "     Sentiment  \n",
       "81           1  \n",
       "82           2  \n",
       "83           2  \n",
       "84           2  \n",
       "85           3  \n",
       "86           2  \n",
       "87           2  \n",
       "88           2  \n",
       "89           2  \n",
       "90           2  \n",
       "91           2  \n",
       "92           2  \n",
       "93           2  \n",
       "94           1  \n",
       "95           2  \n",
       "96           2  \n",
       "97           2  \n",
       "98           2  \n",
       "99           2  \n",
       "100          1  \n",
       "101          0  \n",
       "102          2  \n",
       "103          0  \n",
       "104          2  \n",
       "105          1  \n",
       "106          1  \n",
       "107          1  \n",
       "108          2  \n",
       "109          2  \n",
       "110          1  \n",
       "111          2  \n",
       "112          2  \n",
       "113          2  \n",
       "114          2  \n",
       "115          2  "
      ]
     },
     "execution_count": 7,
     "metadata": {},
     "output_type": "execute_result"
    }
   ],
   "source": [
    "\n",
    "#顯示個別SentenceId和\n",
    "#以及其原始未經過切割的文本\n",
    "print('SentenceId and Pharase:')\n",
    "for n in range(1,11):\n",
    "    n=train[train['SentenceId']==n][['SentenceId','Phrase']].values[0][0]\n",
    "    m=train[train['SentenceId']==n][['SentenceId','Phrase']].values[0][1]\n",
    "    #print()\n",
    "    print('-'*20)\n",
    "    print(f'[{n}]',m)\n",
    "\n",
    "#任意顯示某個SentenceId的資料\n",
    "train[train['SentenceId']==3]\n",
    "    "
   ]
  },
  {
   "cell_type": "markdown",
   "id": "22c42e9b",
   "metadata": {
    "papermill": {
     "duration": 0.013863,
     "end_time": "2022-07-21T03:52:03.846947",
     "exception": false,
     "start_time": "2022-07-21T03:52:03.833084",
     "status": "completed"
    },
    "tags": []
   },
   "source": [
    "### **2.2.3 Phrase**"
   ]
  },
  {
   "cell_type": "markdown",
   "id": "46afca10",
   "metadata": {
    "papermill": {
     "duration": 0.013386,
     "end_time": "2022-07-21T03:52:03.873870",
     "exception": false,
     "start_time": "2022-07-21T03:52:03.860484",
     "status": "completed"
    },
    "tags": []
   },
   "source": [
    "Phrase為文本<br>\n",
    "包含了每個SentenceId的完整句子<br>\n",
    "以及切割後的片段<br>"
   ]
  },
  {
   "cell_type": "markdown",
   "id": "49e81e15",
   "metadata": {
    "papermill": {
     "duration": 0.013217,
     "end_time": "2022-07-21T03:52:03.900465",
     "exception": false,
     "start_time": "2022-07-21T03:52:03.887248",
     "status": "completed"
    },
    "tags": []
   },
   "source": [
    "資料當中<br>\n",
    "包含了非常多原始句子擷取的片段<br>\n",
    "這些被拆解的片段雖然不能用於表示原始句子的語意和情緒<br>\n",
    "不過作為模型訓練的data仍然是有價值的<br>\n",
    "或許這樣可以當作擴充訓練資料集的方法之一.<br>\n",
    "因此<br>\n",
    "會將所有的資料都帶入模型當中做訓練.<br>"
   ]
  },
  {
   "cell_type": "markdown",
   "id": "33b35139",
   "metadata": {
    "papermill": {
     "duration": 0.013153,
     "end_time": "2022-07-21T03:52:03.927262",
     "exception": false,
     "start_time": "2022-07-21T03:52:03.914109",
     "status": "completed"
    },
    "tags": []
   },
   "source": [
    "思考問題和想法:<br>\n",
    "- 我想試著要抓出每個sentence完整的句子<br>\n",
    "用的方法是從每個SentenceId抓出第一筆資料.<br>\n",
    "那如果完整的句子不是第一筆呢?<br>\n",
    "測試後發現<br>\n",
    "有些SentenceId確實第一筆資料不是完整的句子<br>\n",
    "而若是以抓出字數最多的當作完整句子\n",
    "這樣的方法經測試後發現似乎會比較好."
   ]
  },
  {
   "cell_type": "code",
   "execution_count": 8,
   "id": "99b0542b",
   "metadata": {
    "execution": {
     "iopub.execute_input": "2022-07-21T03:52:03.956645Z",
     "iopub.status.busy": "2022-07-21T03:52:03.956379Z",
     "iopub.status.idle": "2022-07-21T03:52:03.972913Z",
     "shell.execute_reply": "2022-07-21T03:52:03.971349Z"
    },
    "papermill": {
     "duration": 0.033664,
     "end_time": "2022-07-21T03:52:03.975040",
     "exception": false,
     "start_time": "2022-07-21T03:52:03.941376",
     "status": "completed"
    },
    "tags": []
   },
   "outputs": [
    {
     "name": "stdout",
     "output_type": "stream",
     "text": [
      "SentenceId 16 原始句子:\n",
      "A welcome relief from baseball movies that try too hard to be mythic , this one is a sweet and modest and ultimately winning story .\n",
      "\n"
     ]
    },
    {
     "data": {
      "text/html": [
       "<div>\n",
       "<style scoped>\n",
       "    .dataframe tbody tr th:only-of-type {\n",
       "        vertical-align: middle;\n",
       "    }\n",
       "\n",
       "    .dataframe tbody tr th {\n",
       "        vertical-align: top;\n",
       "    }\n",
       "\n",
       "    .dataframe thead th {\n",
       "        text-align: right;\n",
       "    }\n",
       "</style>\n",
       "<table border=\"1\" class=\"dataframe\">\n",
       "  <thead>\n",
       "    <tr style=\"text-align: right;\">\n",
       "      <th></th>\n",
       "      <th>PhraseId</th>\n",
       "      <th>SentenceId</th>\n",
       "      <th>Phrase</th>\n",
       "      <th>Sentiment</th>\n",
       "    </tr>\n",
       "  </thead>\n",
       "  <tbody>\n",
       "    <tr>\n",
       "      <th>423</th>\n",
       "      <td>424</td>\n",
       "      <td>16</td>\n",
       "      <td>A welcome relief from baseball movies that try...</td>\n",
       "      <td>3</td>\n",
       "    </tr>\n",
       "    <tr>\n",
       "      <th>424</th>\n",
       "      <td>425</td>\n",
       "      <td>16</td>\n",
       "      <td>A welcome relief from baseball movies that try...</td>\n",
       "      <td>3</td>\n",
       "    </tr>\n",
       "    <tr>\n",
       "      <th>425</th>\n",
       "      <td>426</td>\n",
       "      <td>16</td>\n",
       "      <td>A welcome relief</td>\n",
       "      <td>3</td>\n",
       "    </tr>\n",
       "    <tr>\n",
       "      <th>426</th>\n",
       "      <td>427</td>\n",
       "      <td>16</td>\n",
       "      <td>welcome relief</td>\n",
       "      <td>3</td>\n",
       "    </tr>\n",
       "    <tr>\n",
       "      <th>427</th>\n",
       "      <td>428</td>\n",
       "      <td>16</td>\n",
       "      <td>welcome</td>\n",
       "      <td>2</td>\n",
       "    </tr>\n",
       "    <tr>\n",
       "      <th>428</th>\n",
       "      <td>429</td>\n",
       "      <td>16</td>\n",
       "      <td>relief</td>\n",
       "      <td>2</td>\n",
       "    </tr>\n",
       "    <tr>\n",
       "      <th>429</th>\n",
       "      <td>430</td>\n",
       "      <td>16</td>\n",
       "      <td>from baseball movies that try too hard to be m...</td>\n",
       "      <td>1</td>\n",
       "    </tr>\n",
       "    <tr>\n",
       "      <th>430</th>\n",
       "      <td>431</td>\n",
       "      <td>16</td>\n",
       "      <td>baseball movies that try too hard to be mythic</td>\n",
       "      <td>0</td>\n",
       "    </tr>\n",
       "    <tr>\n",
       "      <th>431</th>\n",
       "      <td>432</td>\n",
       "      <td>16</td>\n",
       "      <td>baseball movies</td>\n",
       "      <td>2</td>\n",
       "    </tr>\n",
       "    <tr>\n",
       "      <th>432</th>\n",
       "      <td>433</td>\n",
       "      <td>16</td>\n",
       "      <td>baseball</td>\n",
       "      <td>2</td>\n",
       "    </tr>\n",
       "    <tr>\n",
       "      <th>433</th>\n",
       "      <td>434</td>\n",
       "      <td>16</td>\n",
       "      <td>movies</td>\n",
       "      <td>2</td>\n",
       "    </tr>\n",
       "    <tr>\n",
       "      <th>434</th>\n",
       "      <td>435</td>\n",
       "      <td>16</td>\n",
       "      <td>that try too hard to be mythic</td>\n",
       "      <td>1</td>\n",
       "    </tr>\n",
       "    <tr>\n",
       "      <th>435</th>\n",
       "      <td>436</td>\n",
       "      <td>16</td>\n",
       "      <td>try too hard to be mythic</td>\n",
       "      <td>1</td>\n",
       "    </tr>\n",
       "    <tr>\n",
       "      <th>436</th>\n",
       "      <td>437</td>\n",
       "      <td>16</td>\n",
       "      <td>try</td>\n",
       "      <td>2</td>\n",
       "    </tr>\n",
       "    <tr>\n",
       "      <th>437</th>\n",
       "      <td>438</td>\n",
       "      <td>16</td>\n",
       "      <td>too hard to be mythic</td>\n",
       "      <td>1</td>\n",
       "    </tr>\n",
       "    <tr>\n",
       "      <th>438</th>\n",
       "      <td>439</td>\n",
       "      <td>16</td>\n",
       "      <td>too</td>\n",
       "      <td>2</td>\n",
       "    </tr>\n",
       "    <tr>\n",
       "      <th>439</th>\n",
       "      <td>440</td>\n",
       "      <td>16</td>\n",
       "      <td>hard to be mythic</td>\n",
       "      <td>1</td>\n",
       "    </tr>\n",
       "    <tr>\n",
       "      <th>440</th>\n",
       "      <td>441</td>\n",
       "      <td>16</td>\n",
       "      <td>to be mythic</td>\n",
       "      <td>2</td>\n",
       "    </tr>\n",
       "    <tr>\n",
       "      <th>441</th>\n",
       "      <td>442</td>\n",
       "      <td>16</td>\n",
       "      <td>be mythic</td>\n",
       "      <td>2</td>\n",
       "    </tr>\n",
       "    <tr>\n",
       "      <th>442</th>\n",
       "      <td>443</td>\n",
       "      <td>16</td>\n",
       "      <td>mythic</td>\n",
       "      <td>2</td>\n",
       "    </tr>\n",
       "    <tr>\n",
       "      <th>443</th>\n",
       "      <td>444</td>\n",
       "      <td>16</td>\n",
       "      <td>, this one is a sweet and modest and ultimatel...</td>\n",
       "      <td>3</td>\n",
       "    </tr>\n",
       "    <tr>\n",
       "      <th>444</th>\n",
       "      <td>445</td>\n",
       "      <td>16</td>\n",
       "      <td>this one is a sweet and modest and ultimately ...</td>\n",
       "      <td>4</td>\n",
       "    </tr>\n",
       "    <tr>\n",
       "      <th>445</th>\n",
       "      <td>446</td>\n",
       "      <td>16</td>\n",
       "      <td>is a sweet and modest and ultimately winning s...</td>\n",
       "      <td>4</td>\n",
       "    </tr>\n",
       "    <tr>\n",
       "      <th>446</th>\n",
       "      <td>447</td>\n",
       "      <td>16</td>\n",
       "      <td>is a sweet and modest and ultimately winning s...</td>\n",
       "      <td>3</td>\n",
       "    </tr>\n",
       "    <tr>\n",
       "      <th>447</th>\n",
       "      <td>448</td>\n",
       "      <td>16</td>\n",
       "      <td>a sweet and modest and ultimately winning story</td>\n",
       "      <td>3</td>\n",
       "    </tr>\n",
       "    <tr>\n",
       "      <th>448</th>\n",
       "      <td>449</td>\n",
       "      <td>16</td>\n",
       "      <td>a sweet and modest and</td>\n",
       "      <td>3</td>\n",
       "    </tr>\n",
       "    <tr>\n",
       "      <th>449</th>\n",
       "      <td>450</td>\n",
       "      <td>16</td>\n",
       "      <td>a sweet and modest</td>\n",
       "      <td>4</td>\n",
       "    </tr>\n",
       "    <tr>\n",
       "      <th>450</th>\n",
       "      <td>451</td>\n",
       "      <td>16</td>\n",
       "      <td>sweet and modest</td>\n",
       "      <td>3</td>\n",
       "    </tr>\n",
       "    <tr>\n",
       "      <th>451</th>\n",
       "      <td>452</td>\n",
       "      <td>16</td>\n",
       "      <td>sweet and</td>\n",
       "      <td>3</td>\n",
       "    </tr>\n",
       "    <tr>\n",
       "      <th>452</th>\n",
       "      <td>453</td>\n",
       "      <td>16</td>\n",
       "      <td>sweet</td>\n",
       "      <td>4</td>\n",
       "    </tr>\n",
       "    <tr>\n",
       "      <th>453</th>\n",
       "      <td>454</td>\n",
       "      <td>16</td>\n",
       "      <td>modest</td>\n",
       "      <td>3</td>\n",
       "    </tr>\n",
       "    <tr>\n",
       "      <th>454</th>\n",
       "      <td>455</td>\n",
       "      <td>16</td>\n",
       "      <td>ultimately winning story</td>\n",
       "      <td>4</td>\n",
       "    </tr>\n",
       "    <tr>\n",
       "      <th>455</th>\n",
       "      <td>456</td>\n",
       "      <td>16</td>\n",
       "      <td>ultimately</td>\n",
       "      <td>2</td>\n",
       "    </tr>\n",
       "    <tr>\n",
       "      <th>456</th>\n",
       "      <td>457</td>\n",
       "      <td>16</td>\n",
       "      <td>winning story</td>\n",
       "      <td>3</td>\n",
       "    </tr>\n",
       "    <tr>\n",
       "      <th>457</th>\n",
       "      <td>458</td>\n",
       "      <td>16</td>\n",
       "      <td>winning</td>\n",
       "      <td>3</td>\n",
       "    </tr>\n",
       "  </tbody>\n",
       "</table>\n",
       "</div>"
      ],
      "text/plain": [
       "     PhraseId  SentenceId                                             Phrase  \\\n",
       "423       424          16  A welcome relief from baseball movies that try...   \n",
       "424       425          16  A welcome relief from baseball movies that try...   \n",
       "425       426          16                                   A welcome relief   \n",
       "426       427          16                                     welcome relief   \n",
       "427       428          16                                            welcome   \n",
       "428       429          16                                             relief   \n",
       "429       430          16  from baseball movies that try too hard to be m...   \n",
       "430       431          16     baseball movies that try too hard to be mythic   \n",
       "431       432          16                                    baseball movies   \n",
       "432       433          16                                           baseball   \n",
       "433       434          16                                             movies   \n",
       "434       435          16                     that try too hard to be mythic   \n",
       "435       436          16                          try too hard to be mythic   \n",
       "436       437          16                                                try   \n",
       "437       438          16                              too hard to be mythic   \n",
       "438       439          16                                                too   \n",
       "439       440          16                                  hard to be mythic   \n",
       "440       441          16                                       to be mythic   \n",
       "441       442          16                                          be mythic   \n",
       "442       443          16                                             mythic   \n",
       "443       444          16  , this one is a sweet and modest and ultimatel...   \n",
       "444       445          16  this one is a sweet and modest and ultimately ...   \n",
       "445       446          16  is a sweet and modest and ultimately winning s...   \n",
       "446       447          16  is a sweet and modest and ultimately winning s...   \n",
       "447       448          16    a sweet and modest and ultimately winning story   \n",
       "448       449          16                             a sweet and modest and   \n",
       "449       450          16                                 a sweet and modest   \n",
       "450       451          16                                   sweet and modest   \n",
       "451       452          16                                          sweet and   \n",
       "452       453          16                                              sweet   \n",
       "453       454          16                                             modest   \n",
       "454       455          16                           ultimately winning story   \n",
       "455       456          16                                         ultimately   \n",
       "456       457          16                                      winning story   \n",
       "457       458          16                                            winning   \n",
       "\n",
       "     Sentiment  \n",
       "423          3  \n",
       "424          3  \n",
       "425          3  \n",
       "426          3  \n",
       "427          2  \n",
       "428          2  \n",
       "429          1  \n",
       "430          0  \n",
       "431          2  \n",
       "432          2  \n",
       "433          2  \n",
       "434          1  \n",
       "435          1  \n",
       "436          2  \n",
       "437          1  \n",
       "438          2  \n",
       "439          1  \n",
       "440          2  \n",
       "441          2  \n",
       "442          2  \n",
       "443          3  \n",
       "444          4  \n",
       "445          4  \n",
       "446          3  \n",
       "447          3  \n",
       "448          3  \n",
       "449          4  \n",
       "450          3  \n",
       "451          3  \n",
       "452          4  \n",
       "453          3  \n",
       "454          4  \n",
       "455          2  \n",
       "456          3  \n",
       "457          3  "
      ]
     },
     "execution_count": 8,
     "metadata": {},
     "output_type": "execute_result"
    }
   ],
   "source": [
    "#挑出任意一個句子出來比對\n",
    "\n",
    "print('SentenceId 16 原始句子:')\n",
    "print(train[train['SentenceId']==16]['Phrase'].values[0])\n",
    "\n",
    "print('')\n",
    "train[train['SentenceId']==16]"
   ]
  },
  {
   "cell_type": "markdown",
   "id": "1e2d3711",
   "metadata": {
    "papermill": {
     "duration": 0.013641,
     "end_time": "2022-07-21T03:52:04.003270",
     "exception": false,
     "start_time": "2022-07-21T03:52:03.989629",
     "status": "completed"
    },
    "tags": []
   },
   "source": [
    "### **2.2.4 Sentiment**"
   ]
  },
  {
   "cell_type": "markdown",
   "id": "2dfc217c",
   "metadata": {
    "papermill": {
     "duration": 0.014365,
     "end_time": "2022-07-21T03:52:04.031757",
     "exception": false,
     "start_time": "2022-07-21T03:52:04.017392",
     "status": "completed"
    },
    "tags": []
   },
   "source": [
    "Semtiment用於表示文本所帶有的情緒.<br>\n",
    "test dataset沒有這個column<br>\n",
    "而train dataset則有這個column.<br>\n",
    "在本次的項目當中將會預測test dataset是屬於哪個Semtiment值<br>\n",
    "Semtiment會作為模型的Y值.<br>\n",
    "\n",
    "其值的含意:<br>\n",
    "0 - negative<br>\n",
    "1 - somewhat negative<br>\n",
    "2 - neutral<br>\n",
    "3 - somewhat positive<br>\n",
    "4 - positive<br>"
   ]
  },
  {
   "cell_type": "code",
   "execution_count": 9,
   "id": "12124af2",
   "metadata": {
    "execution": {
     "iopub.execute_input": "2022-07-21T03:52:04.061595Z",
     "iopub.status.busy": "2022-07-21T03:52:04.060833Z",
     "iopub.status.idle": "2022-07-21T03:52:04.071661Z",
     "shell.execute_reply": "2022-07-21T03:52:04.070220Z"
    },
    "papermill": {
     "duration": 0.028533,
     "end_time": "2022-07-21T03:52:04.074152",
     "exception": false,
     "start_time": "2022-07-21T03:52:04.045619",
     "status": "completed"
    },
    "tags": []
   },
   "outputs": [
    {
     "name": "stdout",
     "output_type": "stream",
     "text": [
      "Sentiment值以及其數量:\n"
     ]
    },
    {
     "data": {
      "text/plain": [
       "0     7072\n",
       "1    27273\n",
       "2    79582\n",
       "3    32927\n",
       "4     9206\n",
       "Name: Sentiment, dtype: int64"
      ]
     },
     "execution_count": 9,
     "metadata": {},
     "output_type": "execute_result"
    }
   ],
   "source": [
    "print('Sentiment值以及其數量:')\n",
    "train['Sentiment'].value_counts().sort_index()"
   ]
  },
  {
   "cell_type": "markdown",
   "id": "12b6a7b1",
   "metadata": {
    "papermill": {
     "duration": 0.013925,
     "end_time": "2022-07-21T03:52:04.102633",
     "exception": false,
     "start_time": "2022-07-21T03:52:04.088708",
     "status": "completed"
    },
    "tags": []
   },
   "source": [
    "# **3. Data Preprocessing(資料前處理)**"
   ]
  },
  {
   "cell_type": "markdown",
   "id": "62f3ac41",
   "metadata": {
    "papermill": {
     "duration": 0.013893,
     "end_time": "2022-07-21T03:52:04.130603",
     "exception": false,
     "start_time": "2022-07-21T03:52:04.116710",
     "status": "completed"
    },
    "tags": []
   },
   "source": [
    "將資料轉換成模型輸入的格式.<br>\n",
    "\n",
    "資料沒有缺失值.<br>"
   ]
  },
  {
   "cell_type": "markdown",
   "id": "c9e531e6",
   "metadata": {
    "papermill": {
     "duration": 0.014245,
     "end_time": "2022-07-21T03:52:04.159000",
     "exception": false,
     "start_time": "2022-07-21T03:52:04.144755",
     "status": "completed"
    },
    "tags": []
   },
   "source": [
    "思考問題和想法:<br>\n",
    "- 也許可以嘗試看看不同的配置名稱.<br>\n",
    "- 也許可以試試不同的語言模型<br>\n",
    "並且了解他們的差異.<br>\n",
    "- 如果語言模型遇到語料庫中沒有的詞會怎麼辦?<br>"
   ]
  },
  {
   "cell_type": "code",
   "execution_count": 10,
   "id": "6ea73317",
   "metadata": {
    "execution": {
     "iopub.execute_input": "2022-07-21T03:52:04.189596Z",
     "iopub.status.busy": "2022-07-21T03:52:04.189036Z",
     "iopub.status.idle": "2022-07-21T03:52:04.193676Z",
     "shell.execute_reply": "2022-07-21T03:52:04.192838Z"
    },
    "papermill": {
     "duration": 0.021685,
     "end_time": "2022-07-21T03:52:04.195442",
     "exception": false,
     "start_time": "2022-07-21T03:52:04.173757",
     "status": "completed"
    },
    "tags": []
   },
   "outputs": [],
   "source": [
    "#\n",
    "\n",
    "max_length=80\n",
    "PRETRAINED_MODEL_NAME='roberta-base'"
   ]
  },
  {
   "cell_type": "markdown",
   "id": "05a1e63f",
   "metadata": {
    "papermill": {
     "duration": 0.014353,
     "end_time": "2022-07-21T03:52:04.224344",
     "exception": false,
     "start_time": "2022-07-21T03:52:04.209991",
     "status": "completed"
    },
    "tags": []
   },
   "source": [
    "## **載入語言模型**"
   ]
  },
  {
   "cell_type": "code",
   "execution_count": 11,
   "id": "3e9aa84f",
   "metadata": {
    "execution": {
     "iopub.execute_input": "2022-07-21T03:52:04.253904Z",
     "iopub.status.busy": "2022-07-21T03:52:04.253209Z",
     "iopub.status.idle": "2022-07-21T03:52:08.253495Z",
     "shell.execute_reply": "2022-07-21T03:52:08.251642Z"
    },
    "papermill": {
     "duration": 4.017148,
     "end_time": "2022-07-21T03:52:08.255574",
     "exception": false,
     "start_time": "2022-07-21T03:52:04.238426",
     "status": "completed"
    },
    "tags": []
   },
   "outputs": [
    {
     "name": "stdout",
     "output_type": "stream",
     "text": [
      "--------------------\n",
      "osate          47357\n",
      "Remote         46866\n",
      "hol            9649\n",
      "Ġlimit         3000\n",
      "ĠVerb          38132\n",
      "Ġpurity        32195\n",
      "rench          18723\n",
      "Ġlinguistic    39608\n",
      "[_             49895\n",
      "Ġcoffers       27342\n",
      "--------------------\n",
      "tokenizer轉換測試:\n",
      "A series of escapades demonstrating the adage that what is good for the goose is also good for the gander , some of which occasionally amuses but none of which amounts to much of a story .\n",
      "[0, 250, 651, 9, 11363, 1115, 4216, 16987, 5, 2329, 1580, 14, 99, 16, 205, 13, 5, 29910, 16, 67, 205, 13, 5, 821, 6072, 2156, 103, 9, 61, 10930, 524, 9764, 53, 4146, 9, 61, 5353, 7, 203, 9, 10, 527, 479, 2]\n",
      "['<s>', 'A', 'Ġseries', 'Ġof', 'Ġesc', 'ap', 'ades', 'Ġdemonstrating', 'Ġthe', 'Ġad', 'age', 'Ġthat', 'Ġwhat', 'Ġis', 'Ġgood', 'Ġfor', 'Ġthe', 'Ġgoose', 'Ġis', 'Ġalso', 'Ġgood', 'Ġfor', 'Ġthe', 'Ġg', 'ander', 'Ġ,', 'Ġsome', 'Ġof', 'Ġwhich', 'Ġoccasionally', 'Ġam', 'uses', 'Ġbut', 'Ġnone', 'Ġof', 'Ġwhich', 'Ġamounts', 'Ġto', 'Ġmuch', 'Ġof', 'Ġa', 'Ġstory', 'Ġ.', '</s>']\n"
     ]
    }
   ],
   "source": [
    "tokenizer=RobertaTokenizer.from_pretrained(PRETRAINED_MODEL_NAME)\n",
    "test_text=train.iloc[0]['Phrase']\n",
    "clear_output()\n",
    "\n",
    "#tokenizer其中10個tokens對應ids\n",
    "print('-'*20)\n",
    "for n in np.random.randint(0,len(tokenizer.get_vocab()),10):\n",
    "    n=list(tokenizer.get_vocab().keys())[n] \n",
    "    print('{0:15}{1:1}'.format(n,tokenizer.get_vocab()[n]))\n",
    "\n",
    "print('-'*20)\n",
    "print('tokenizer轉換測試:')\n",
    "print(test_text)\n",
    "print(tokenizer.encode(test_text))\n",
    "print(tokenizer.convert_ids_to_tokens(tokenizer.encode(test_text)))"
   ]
  },
  {
   "cell_type": "code",
   "execution_count": 12,
   "id": "8afadb6c",
   "metadata": {
    "execution": {
     "iopub.execute_input": "2022-07-21T03:52:08.289012Z",
     "iopub.status.busy": "2022-07-21T03:52:08.288535Z",
     "iopub.status.idle": "2022-07-21T03:52:39.586287Z",
     "shell.execute_reply": "2022-07-21T03:52:39.585342Z"
    },
    "papermill": {
     "duration": 31.332292,
     "end_time": "2022-07-21T03:52:39.602864",
     "exception": false,
     "start_time": "2022-07-21T03:52:08.270572",
     "status": "completed"
    },
    "tags": []
   },
   "outputs": [
    {
     "name": "stdout",
     "output_type": "stream",
     "text": [
      "44 [0, 250, 651, 9, 11363, 1115, 4216, 16987, 5, 2329, 1580, 14, 99, 16, 205, 13, 5, 29910, 16, 67] ...\n",
      "19 [0, 250, 651, 9, 11363, 1115, 4216, 16987, 5, 2329, 1580, 14, 99, 16, 205, 13, 5, 29910, 2] ...\n",
      "4 [0, 250, 651, 2] ...\n",
      "3 [0, 250, 2] ...\n",
      "3 [0, 22760, 2] ...\n",
      "17 [0, 1116, 11363, 1115, 4216, 16987, 5, 2329, 1580, 14, 99, 16, 205, 13, 5, 29910, 2] ...\n",
      "3 [0, 1116, 2] ...\n",
      "15 [0, 41274, 4216, 16987, 5, 2329, 1580, 14, 99, 16, 205, 13, 5, 29910, 2] ...\n",
      "4 [0, 41274, 4216, 2] ...\n",
      "15 [0, 34084, 6031, 1295, 5, 2329, 1580, 14, 99, 16, 205, 13, 5, 29910, 2] ...\n",
      "句子最大tokens數:  79\n",
      "CPU times: user 31.1 s, sys: 93.5 ms, total: 31.2 s\n",
      "Wall time: 31.3 s\n"
     ]
    }
   ],
   "source": [
    "%%time\n",
    "#觀察文本轉換後的各別token總數\n",
    "\n",
    "tokens=[]\n",
    "for n in range(len(train['Phrase'])):\n",
    "    n=tokenizer.encode(train['Phrase'][n])\n",
    "    tokens.append(n)   \n",
    "#len(tokens)\n",
    "\n",
    "#可能會需要視覺化句子token數量\n",
    "#這樣可以比較知道padding數值要設為多少\n",
    "#這邊可以用隨機取樣的方式\n",
    "for n in tokens[:10]:\n",
    "    print(len(n), n[:20],'...')\n",
    "    \n",
    "max_seq_len = max([len(n) for n in tokens])\n",
    "print('句子最大tokens數: ',max_seq_len)\n",
    "    "
   ]
  },
  {
   "cell_type": "markdown",
   "id": "afb4ce1c",
   "metadata": {
    "papermill": {
     "duration": 0.013966,
     "end_time": "2022-07-21T03:52:39.630928",
     "exception": false,
     "start_time": "2022-07-21T03:52:39.616962",
     "status": "completed"
    },
    "tags": []
   },
   "source": [
    "## **轉換文本資料**"
   ]
  },
  {
   "cell_type": "code",
   "execution_count": 13,
   "id": "52a323e9",
   "metadata": {
    "execution": {
     "iopub.execute_input": "2022-07-21T03:52:39.660997Z",
     "iopub.status.busy": "2022-07-21T03:52:39.660656Z",
     "iopub.status.idle": "2022-07-21T03:53:33.148112Z",
     "shell.execute_reply": "2022-07-21T03:53:33.147082Z"
    },
    "papermill": {
     "duration": 53.5201,
     "end_time": "2022-07-21T03:53:33.165203",
     "exception": false,
     "start_time": "2022-07-21T03:52:39.645103",
     "status": "completed"
    },
    "tags": []
   },
   "outputs": [
    {
     "name": "stdout",
     "output_type": "stream",
     "text": [
      "CPU times: user 3 µs, sys: 0 ns, total: 3 µs\n",
      "Wall time: 5.96 µs\n",
      "input_ids:\n",
      "[    0   250   651     9 11363  1115  4216 16987     5  2329  1580    14\n",
      "    99    16   205    13     5 29910    16    67] ...\n",
      "[    0   250   651     9 11363  1115  4216 16987     5  2329  1580    14\n",
      "    99    16   205    13     5 29910     2     1] ...\n",
      "[  0 250 651   2   1   1   1   1   1   1   1   1   1   1   1   1   1   1\n",
      "   1   1] ...\n",
      "[  0 250   2   1   1   1   1   1   1   1   1   1   1   1   1   1   1   1\n",
      "   1   1] ...\n",
      "[    0 22760     2     1     1     1     1     1     1     1     1     1\n",
      "     1     1     1     1     1     1     1     1] ...\n",
      "[    0  1116 11363  1115  4216 16987     5  2329  1580    14    99    16\n",
      "   205    13     5 29910     2     1     1     1] ...\n",
      "[   0 1116    2    1    1    1    1    1    1    1    1    1    1    1\n",
      "    1    1    1    1    1    1] ...\n",
      "[    0 41274  4216 16987     5  2329  1580    14    99    16   205    13\n",
      "     5 29910     2     1     1     1     1     1] ...\n",
      "[    0 41274  4216     2     1     1     1     1     1     1     1     1\n",
      "     1     1     1     1     1     1     1     1] ...\n",
      "[    0 34084  6031  1295     5  2329  1580    14    99    16   205    13\n",
      "     5 29910     2     1     1     1     1     1] ...\n",
      "attention_masks:\n",
      "[1 1 1 1 1 1 1 1 1 1 1 1 1 1 1 1 1 1 1 1] ...\n",
      "[1 1 1 1 1 1 1 1 1 1 1 1 1 1 1 1 1 1 1 0] ...\n",
      "[1 1 1 1 0 0 0 0 0 0 0 0 0 0 0 0 0 0 0 0] ...\n",
      "[1 1 1 0 0 0 0 0 0 0 0 0 0 0 0 0 0 0 0 0] ...\n",
      "[1 1 1 0 0 0 0 0 0 0 0 0 0 0 0 0 0 0 0 0] ...\n",
      "[1 1 1 1 1 1 1 1 1 1 1 1 1 1 1 1 1 0 0 0] ...\n",
      "[1 1 1 0 0 0 0 0 0 0 0 0 0 0 0 0 0 0 0 0] ...\n",
      "[1 1 1 1 1 1 1 1 1 1 1 1 1 1 1 0 0 0 0 0] ...\n",
      "[1 1 1 1 0 0 0 0 0 0 0 0 0 0 0 0 0 0 0 0] ...\n",
      "[1 1 1 1 1 1 1 1 1 1 1 1 1 1 1 0 0 0 0 0] ...\n"
     ]
    }
   ],
   "source": [
    "%time\n",
    "#轉換資料成model的input\n",
    "\n",
    "#bert encoder.\n",
    "#定義轉換資料的函式\n",
    "#此函式將會把dataset轉換成model input\n",
    "def encode(data):\n",
    "    \n",
    "    input_ids=[]\n",
    "    attention_masks=[]\n",
    "\n",
    "    for n in range(len(data)):\n",
    "        #tokenizer.encode_plus 參數:\n",
    "        #max_length 指定被補足的token數量\n",
    "        #truncation 設定是否刪除超過max_length數量的token \n",
    "        input=tokenizer.encode_plus(data.Phrase[n],\n",
    "                                    add_special_tokens=True,\n",
    "                                    padding='max_length',\n",
    "                                    max_length=max_length,\n",
    "                                    truncation=True,\n",
    "                                    return_attention_mask=True,)\n",
    "\n",
    "        input_ids.append(input['input_ids'])\n",
    "        attention_masks.append(input['attention_mask'])\n",
    "    return np.array(input_ids), np.array(attention_masks)\n",
    "        \n",
    "#轉換資料        \n",
    "input_ids, attention_masks=encode(train)\n",
    "test_input_ids, test_attention_masks=encode(test)\n",
    "\n",
    "#顯示處理後的資料\n",
    "#model input\n",
    "print('input_ids:')\n",
    "for n in range(10):\n",
    "    print(input_ids[n][:20],'...')\n",
    "print('attention_masks:')\n",
    "for n in range(10):\n",
    "    print(attention_masks[n][:20],'...')"
   ]
  },
  {
   "cell_type": "markdown",
   "id": "48740fdc",
   "metadata": {
    "papermill": {
     "duration": 0.014094,
     "end_time": "2022-07-21T03:53:33.194179",
     "exception": false,
     "start_time": "2022-07-21T03:53:33.180085",
     "status": "completed"
    },
    "tags": []
   },
   "source": [
    "# **4. Model**"
   ]
  },
  {
   "cell_type": "markdown",
   "id": "c9906134",
   "metadata": {
    "papermill": {
     "duration": 0.014075,
     "end_time": "2022-07-21T03:53:33.223301",
     "exception": false,
     "start_time": "2022-07-21T03:53:33.209226",
     "status": "completed"
    },
    "tags": []
   },
   "source": [
    "在預訓練模型使用的選擇上<br>\n",
    "最初選擇使用BERT<br>\n",
    "在testdata準確度約為0.64<br>\n",
    "後來使用Roberta發現其具有更高的準確度<br>\n",
    "變直接改用Roberta<br>\n",
    "testdata準確度約為0.695.<br>"
   ]
  },
  {
   "cell_type": "markdown",
   "id": "e4b05ef9",
   "metadata": {
    "papermill": {
     "duration": 0.0143,
     "end_time": "2022-07-21T03:53:33.252815",
     "exception": false,
     "start_time": "2022-07-21T03:53:33.238515",
     "status": "completed"
    },
    "tags": []
   },
   "source": [
    "改善想法:\n",
    "- 最後可加入confusion_matrix<br>\n",
    "- 嘗試用不同的預訓練模型<br>\n",
    "- 嘗試用不同的訓練配置<br>"
   ]
  },
  {
   "cell_type": "markdown",
   "id": "575445bc",
   "metadata": {
    "execution": {
     "iopub.execute_input": "2022-07-01T11:20:58.952155Z",
     "iopub.status.busy": "2022-07-01T11:20:58.951772Z",
     "iopub.status.idle": "2022-07-01T11:20:58.965242Z",
     "shell.execute_reply": "2022-07-01T11:20:58.962816Z",
     "shell.execute_reply.started": "2022-07-01T11:20:58.952127Z"
    },
    "papermill": {
     "duration": 0.014863,
     "end_time": "2022-07-21T03:53:33.282051",
     "exception": false,
     "start_time": "2022-07-21T03:53:33.267188",
     "status": "completed"
    },
    "tags": []
   },
   "source": [
    "思考問題和想法:\n",
    "- 看這裡面有沒有可以用於改善model的想法<br>\n",
    "概念篇 https://www.youtube.com/watch?v=xki61j7z-30&list=PLJV_el3uVTsPy9oCRY30oBPNLCo89yu49&index=16<br>\n",
    "實作篇 https://www.youtube.com/watch?v=Ky1ku1miDow&list=PLJV_el3uVTsPy9oCRY30oBPNLCo89yu49&index=20<br>\n",
    "- 我想把batch_sizes設定為1000做訓練<br>\n",
    "不過出現錯誤了<br>\n",
    "`ResourceExhaustedError : OOM when allocating ...`<br>\n",
    "`failed to allocate memory`<br>\n",
    "這是為甚麼?<br>\n",
    "原因是記憶體不夠用了<br>\n",
    "那其他更細節的原因呢?<br>\n",
    "keras好像有一個可以清除緩存的代碼<br>\n",
    "這有辦法提升batch_sizes的值嗎?<br>\n",
    "- 一次把所有資料帶進去訓練<br>\n",
    "batech_sizes設定為100<br>\n",
    "每個epochs時間要20分鐘.<br>\n",
    "如果希望減少訓練時間而減少帶入模型的資料量<br>\n",
    "怎樣的資料量是比較剛好的?<br>\n",
    "資料量和訓練時間之間會呈現甚麼關係?<br>\n",
    "- 模型會把資料分批帶入做訓練<br>\n",
    "那在不同的epoch中<br>\n",
    "這些分批的資料會是一樣的嗎?<br>\n",
    "model.fit()有打亂data的參數設定.<br>\n",
    "是否一樣會影響訓練的結果嗎?<br>\n",
    "- batch_sizes不應該設太大<br>\n",
    "因為會讓訓練的結果不好.<br>\n",
    "其中的原因改怎麼解釋?<br>\n",
    "- 在這次的模型訓練當中<br>\n",
    "第二輪以後val準確度便沒有再提升<br>\n",
    "這個狀況在之前項目中也有出現.<br>\n",
    "該怎麼理解這個狀況?<br>\n",
    "如果某輪訓練沒有提升準確度<br>\n",
    "那之後的訓練是否就不會再提升了?<br>\n",
    "目前看起來通常是這樣<br>\n",
    "因此會選在通常會選在val的準確沒有在提升時中斷訓練.<br>\n",
    "- model.compile(Adam(lr=6e-6), loss='binary_crossentropy', metrics=['accuracy'])<br>\n",
    "如果想提升訓練結果<br>\n",
    "這邊是否能做某些調整?<br>\n",
    "那還應該做甚麼調整?<br>\n",
    "我能透過dropout提高val data的表現嗎?<br>\n",
    "是否要提高BERT model中的dropout的比例才有用?<br>\n",
    "adam和loss這兩個參數該怎麼解釋?<br>\n",
    "- 如果有A model和 B model<br>\n",
    "A model有20個layers<br>\n",
    "B model有50個layers<br>\n",
    "那A model可以做到的事情(準確度夠高)<br>\n",
    "B model自然也可以做到.<br>\n",
    "那如果B model沒辦法有差不多的準確度<br>\n",
    "這可能代表model沒有訓練好.<br>\n",
    "- 如果模型的準確度不高<br>\n",
    "可能會是甚麼問題?<br>\n",
    "模型沒有訓練好.<br>\n",
    "模型參數不夠多(架構不對、不夠複雜,這邊在說的都是同一個狀況).<br>\n",
    "https://www.youtube.com/watch?v=xki61j7z-30&list=PLJV_el3uVTsPy9oCRY30oBPNLCo89yu49&index=16<br>\n",
    "- 透過relu可以改善前面的隱藏層訓練不夠的問題<br>\n",
    "- neruel的數量可以理解為input轉換後的數量嗎?<br>\n",
    "可以視為feature的維度轉換<br>\n",
    "看起來是可以這樣理解.<br>\n",
    "- max pooling是甚麼?<br>\n",
    "匯總某個範圍內的值<br>\n",
    "並提取最大的值當作這個區域的代表值<br>\n",
    "- maxout network這樣的概念用在模型裡面會有甚麼效果?<br>\n",
    "maxout就是max pooling<br>\n",
    "https://youtu.be/xki61j7z-30?t=1512<br>\n",
    "- neruel輸出值的正負有甚麼涵義嗎?<br>\n",
    "- 是否可以視覺化loss值<br>\n",
    "以了解模型訓練的狀況(plateau saddle,point,local minima)?<br>\n",
    "- adam該怎麼定義他?<br>\n",
    "有甚麼情況是會選擇不用adam的?<br>\n",
    "- 我該如何知道訓練用的資料是否會超出記憶體?<br>\n",
    "- 超參數比對工具:<br>\n",
    "https://ithelp.ithome.com.tw/articles/10265801<br>\n",
    "- 預訓練模型還有很多隱藏層<br>\n",
    "我應該怎麼顯示出來?<br>\n",
    "- 在訓練模型時<br>\n",
    "常常出現模型沒辦法好好呈現訓練結果的狀況<br>\n",
    "猜測應該是跟模型沒有初始化有關係<br>\n",
    "這方面我應該透過甚麼操作來改善?<br>\n",
    "- 出現了把資料全部都預測為中性<br>\n",
    "而卻擁有44%準確度的狀況<br>\n",
    "這該怎麼改善<br>\n",
    "- tuner和模型訓練都會有參數沒有重置的問題<br>\n",
    "讓不同模型訓練測試的準確度無法正確呈現<br>\n",
    "這該怎麼改善?<br>\n",
    "- 如果想要改善結果預測的準確度<br>\n",
    "該怎麼做?<br>\n",
    "模型調整?<br>\n",
    "檢查資料的品質?<br>\n",
    "資料篩選?<br>\n",
    "檢查資料標記的狀況?<br>\n",
    "重新整理出資料類別數比較平均的dataset?<br>"
   ]
  },
  {
   "cell_type": "code",
   "execution_count": 14,
   "id": "a3bbf26c",
   "metadata": {
    "execution": {
     "iopub.execute_input": "2022-07-21T03:53:33.312967Z",
     "iopub.status.busy": "2022-07-21T03:53:33.312094Z",
     "iopub.status.idle": "2022-07-21T03:53:33.321667Z",
     "shell.execute_reply": "2022-07-21T03:53:33.320377Z"
    },
    "papermill": {
     "duration": 0.027259,
     "end_time": "2022-07-21T03:53:33.323851",
     "exception": false,
     "start_time": "2022-07-21T03:53:33.296592",
     "status": "completed"
    },
    "tags": []
   },
   "outputs": [],
   "source": [
    "#模型相關定義及超參數\n",
    "\n",
    "x=[input_ids,attention_masks]\n",
    "y=to_categorical(train[['Sentiment']],num_classes=5)\n",
    "test_x=[test_input_ids, test_attention_masks]\n"
   ]
  },
  {
   "cell_type": "markdown",
   "id": "21ecb012",
   "metadata": {
    "papermill": {
     "duration": 0.01416,
     "end_time": "2022-07-21T03:53:33.352267",
     "exception": false,
     "start_time": "2022-07-21T03:53:33.338107",
     "status": "completed"
    },
    "tags": []
   },
   "source": [
    "## **Transformers預訓練模型引入**"
   ]
  },
  {
   "cell_type": "code",
   "execution_count": 15,
   "id": "a25869fb",
   "metadata": {
    "execution": {
     "iopub.execute_input": "2022-07-21T03:53:33.383455Z",
     "iopub.status.busy": "2022-07-21T03:53:33.382659Z",
     "iopub.status.idle": "2022-07-21T03:54:09.472412Z",
     "shell.execute_reply": "2022-07-21T03:54:09.471378Z"
    },
    "papermill": {
     "duration": 36.109849,
     "end_time": "2022-07-21T03:54:09.476957",
     "exception": false,
     "start_time": "2022-07-21T03:53:33.367108",
     "status": "completed"
    },
    "tags": []
   },
   "outputs": [
    {
     "data": {
      "application/vnd.jupyter.widget-view+json": {
       "model_id": "f89c5438761048b7988ee9986a4dad77",
       "version_major": 2,
       "version_minor": 0
      },
      "text/plain": [
       "Downloading:   0%|          | 0.00/627M [00:00<?, ?B/s]"
      ]
     },
     "metadata": {},
     "output_type": "display_data"
    },
    {
     "name": "stderr",
     "output_type": "stream",
     "text": [
      "2022-07-21 03:54:01.973405: I tensorflow/stream_executor/cuda/cuda_gpu_executor.cc:937] successful NUMA node read from SysFS had negative value (-1), but there must be at least one NUMA node, so returning NUMA node zero\n",
      "2022-07-21 03:54:01.974536: I tensorflow/stream_executor/cuda/cuda_gpu_executor.cc:937] successful NUMA node read from SysFS had negative value (-1), but there must be at least one NUMA node, so returning NUMA node zero\n",
      "2022-07-21 03:54:01.975211: I tensorflow/stream_executor/cuda/cuda_gpu_executor.cc:937] successful NUMA node read from SysFS had negative value (-1), but there must be at least one NUMA node, so returning NUMA node zero\n",
      "2022-07-21 03:54:01.976047: I tensorflow/core/platform/cpu_feature_guard.cc:142] This TensorFlow binary is optimized with oneAPI Deep Neural Network Library (oneDNN) to use the following CPU instructions in performance-critical operations:  AVX2 AVX512F FMA\n",
      "To enable them in other operations, rebuild TensorFlow with the appropriate compiler flags.\n",
      "2022-07-21 03:54:01.976351: I tensorflow/stream_executor/cuda/cuda_gpu_executor.cc:937] successful NUMA node read from SysFS had negative value (-1), but there must be at least one NUMA node, so returning NUMA node zero\n",
      "2022-07-21 03:54:01.977026: I tensorflow/stream_executor/cuda/cuda_gpu_executor.cc:937] successful NUMA node read from SysFS had negative value (-1), but there must be at least one NUMA node, so returning NUMA node zero\n",
      "2022-07-21 03:54:01.977672: I tensorflow/stream_executor/cuda/cuda_gpu_executor.cc:937] successful NUMA node read from SysFS had negative value (-1), but there must be at least one NUMA node, so returning NUMA node zero\n",
      "2022-07-21 03:54:06.968669: I tensorflow/stream_executor/cuda/cuda_gpu_executor.cc:937] successful NUMA node read from SysFS had negative value (-1), but there must be at least one NUMA node, so returning NUMA node zero\n",
      "2022-07-21 03:54:06.969543: I tensorflow/stream_executor/cuda/cuda_gpu_executor.cc:937] successful NUMA node read from SysFS had negative value (-1), but there must be at least one NUMA node, so returning NUMA node zero\n",
      "2022-07-21 03:54:06.970200: I tensorflow/stream_executor/cuda/cuda_gpu_executor.cc:937] successful NUMA node read from SysFS had negative value (-1), but there must be at least one NUMA node, so returning NUMA node zero\n",
      "2022-07-21 03:54:06.970814: I tensorflow/core/common_runtime/gpu/gpu_device.cc:1510] Created device /job:localhost/replica:0/task:0/device:GPU:0 with 15047 MB memory:  -> device: 0, name: Tesla P100-PCIE-16GB, pci bus id: 0000:00:04.0, compute capability: 6.0\n",
      "Some layers from the model checkpoint at roberta-base were not used when initializing TFRobertaModel: ['lm_head']\n",
      "- This IS expected if you are initializing TFRobertaModel from the checkpoint of a model trained on another task or with another architecture (e.g. initializing a BertForSequenceClassification model from a BertForPreTraining model).\n",
      "- This IS NOT expected if you are initializing TFRobertaModel from the checkpoint of a model that you expect to be exactly identical (initializing a BertForSequenceClassification model from a BertForSequenceClassification model).\n",
      "All the layers of TFRobertaModel were initialized from the model checkpoint at roberta-base.\n",
      "If your task is similar to the task the model of the checkpoint was trained on, you can already use TFRobertaModel for predictions without further training.\n"
     ]
    },
    {
     "name": "stdout",
     "output_type": "stream",
     "text": [
      "--------------------\n",
      "RobertaConfig {\n",
      "  \"_name_or_path\": \"roberta-base\",\n",
      "  \"architectures\": [\n",
      "    \"RobertaForMaskedLM\"\n",
      "  ],\n",
      "  \"attention_probs_dropout_prob\": 0.1,\n",
      "  \"bos_token_id\": 0,\n",
      "  \"classifier_dropout\": null,\n",
      "  \"eos_token_id\": 2,\n",
      "  \"hidden_act\": \"gelu\",\n",
      "  \"hidden_dropout_prob\": 0.1,\n",
      "  \"hidden_size\": 768,\n",
      "  \"initializer_range\": 0.02,\n",
      "  \"intermediate_size\": 3072,\n",
      "  \"layer_norm_eps\": 1e-05,\n",
      "  \"max_position_embeddings\": 514,\n",
      "  \"model_type\": \"roberta\",\n",
      "  \"num_attention_heads\": 12,\n",
      "  \"num_hidden_layers\": 12,\n",
      "  \"pad_token_id\": 1,\n",
      "  \"position_embedding_type\": \"absolute\",\n",
      "  \"transformers_version\": \"4.18.0\",\n",
      "  \"type_vocab_size\": 1,\n",
      "  \"use_cache\": true,\n",
      "  \"vocab_size\": 50265\n",
      "}\n",
      "\n"
     ]
    }
   ],
   "source": [
    "#預訓練模型載入\n",
    "\n",
    "pretrained_model = TFRobertaModel.from_pretrained(PRETRAINED_MODEL_NAME)\n",
    "\n",
    "#顯示bertmodel配置\n",
    "print('-'*20)\n",
    "print(pretrained_model.config)\n",
    "\n",
    "#顯示bertmodel 選定的隱藏層的配置\n",
    "#bertmodel1.layers[n].get_config()\n",
    "# bertmodel1.layers[0].get_config()\n",
    "\n",
    "#顯示用bertmodel轉換後的值\n",
    "# x1=tf.convert_to_tensor(input_ids)\n",
    "# x2=tf.convert_to_tensor(attention_masks)\n",
    "# bertmodel([x1,x2])"
   ]
  },
  {
   "cell_type": "markdown",
   "id": "c4663807",
   "metadata": {
    "papermill": {
     "duration": 0.016756,
     "end_time": "2022-07-21T03:54:09.510380",
     "exception": false,
     "start_time": "2022-07-21T03:54:09.493624",
     "status": "completed"
    },
    "tags": []
   },
   "source": [
    "## **模型建構**"
   ]
  },
  {
   "cell_type": "markdown",
   "id": "513488fa",
   "metadata": {
    "papermill": {
     "duration": 0.014827,
     "end_time": "2022-07-21T03:54:09.542255",
     "exception": false,
     "start_time": "2022-07-21T03:54:09.527428",
     "status": "completed"
    },
    "tags": []
   },
   "source": [
    "### **model**"
   ]
  },
  {
   "cell_type": "code",
   "execution_count": 16,
   "id": "81fca146",
   "metadata": {
    "execution": {
     "iopub.execute_input": "2022-07-21T03:54:09.575485Z",
     "iopub.status.busy": "2022-07-21T03:54:09.574660Z",
     "iopub.status.idle": "2022-07-21T03:54:16.437346Z",
     "shell.execute_reply": "2022-07-21T03:54:16.435821Z"
    },
    "papermill": {
     "duration": 6.883135,
     "end_time": "2022-07-21T03:54:16.440912",
     "exception": false,
     "start_time": "2022-07-21T03:54:09.557777",
     "status": "completed"
    },
    "tags": []
   },
   "outputs": [
    {
     "name": "stdout",
     "output_type": "stream",
     "text": [
      "Model: \"model\"\n",
      "__________________________________________________________________________________________________\n",
      "Layer (type)                    Output Shape         Param #     Connected to                     \n",
      "==================================================================================================\n",
      "input_1 (InputLayer)            [(None, 80)]         0                                            \n",
      "__________________________________________________________________________________________________\n",
      "input_2 (InputLayer)            [(None, 80)]         0                                            \n",
      "__________________________________________________________________________________________________\n",
      "tf_roberta_model (TFRobertaMode TFBaseModelOutputWit 124645632   input_1[0][0]                    \n",
      "                                                                 input_2[0][0]                    \n",
      "__________________________________________________________________________________________________\n",
      "dense (Dense)                   (None, 272)          209168      tf_roberta_model[0][1]           \n",
      "__________________________________________________________________________________________________\n",
      "dropout_37 (Dropout)            (None, 272)          0           dense[0][0]                      \n",
      "__________________________________________________________________________________________________\n",
      "dense_1 (Dense)                 (None, 5)            1365        dropout_37[0][0]                 \n",
      "==================================================================================================\n",
      "Total params: 124,856,165\n",
      "Trainable params: 124,856,165\n",
      "Non-trainable params: 0\n",
      "__________________________________________________________________________________________________\n"
     ]
    },
    {
     "name": "stderr",
     "output_type": "stream",
     "text": [
      "/opt/conda/lib/python3.7/site-packages/keras/optimizer_v2/optimizer_v2.py:356: UserWarning: The `lr` argument is deprecated, use `learning_rate` instead.\n",
      "  \"The `lr` argument is deprecated, use `learning_rate` instead.\")\n"
     ]
    }
   ],
   "source": [
    "#模型2\n",
    "\n",
    "def create_model(bertmodel):\n",
    "\n",
    "    #模型架構\n",
    "    \n",
    "    ids = tf.keras.Input(shape=(80,),dtype='int64')\n",
    "    masks = tf.keras.Input(shape=(80,),dtype='int64')\n",
    "    input=[ids,masks]\n",
    "    \n",
    "    output=bertmodel([ids,masks])#輸出應該是word embedding. \n",
    "    output=output[1]\n",
    "    output=tf.keras.layers.Dense(272,activation='relu')(output)\n",
    "    output=tf.keras.layers.Dropout(0.5)(output)\n",
    "    output=tf.keras.layers.Dense(5, activation='sigmoid')(output)   \n",
    "\n",
    "    model=tf.keras.models.Model(inputs = input,outputs = output)\n",
    "    model.compile(Adam(lr=1e-5), loss='binary_crossentropy', metrics=['accuracy'])\n",
    "    \n",
    "    return model\n",
    "    \n",
    "\n",
    "model=create_model(pretrained_model)\n",
    "model.summary()\n",
    "\n",
    "#可以用下面方法直接修改模型\n",
    "#model.optimizer.learning_rate=1e-5"
   ]
  },
  {
   "cell_type": "code",
   "execution_count": 17,
   "id": "8a80281f",
   "metadata": {
    "execution": {
     "iopub.execute_input": "2022-07-21T03:54:16.493385Z",
     "iopub.status.busy": "2022-07-21T03:54:16.492726Z",
     "iopub.status.idle": "2022-07-21T03:54:16.499152Z",
     "shell.execute_reply": "2022-07-21T03:54:16.498300Z"
    },
    "papermill": {
     "duration": 0.036002,
     "end_time": "2022-07-21T03:54:16.503156",
     "exception": false,
     "start_time": "2022-07-21T03:54:16.467154",
     "status": "completed"
    },
    "tags": []
   },
   "outputs": [],
   "source": [
    "#配置1\n",
    "#沒有另外加入dense層\n",
    "#lr=6e-6\n",
    "#_______________\n",
    "# loss: [0.31026434898376465, 0.2714189887046814, 0.25940003991127014, 0.24948574602603912]\n",
    "# accuracy: [0.6403947472572327, 0.6900631189346313, 0.7071478962898254, 0.720980703830719]\n",
    "# val_loss: [0.27679771184921265, 0.27402064204216003, 0.273803174495697, 0.2746005654335022]\n",
    "# val_accuracy: [0.6743560433387756, 0.6744201183319092, 0.6771113872528076, 0.6762783527374268]\n",
    "# test_accuracy: 0.69\n",
    "\n",
    "#配置2\n",
    "#加一dense層,units為272\n",
    "#lr=1.7e-5\n",
    "#____________________________________\n",
    "# loss: [0.30388250946998596, 0.26689261198043823, 0.2496534138917923]\n",
    "# accuracy: [0.6529379487037659, 0.7017573118209839, 0.7267317175865173]\n",
    "# val_loss: [0.27894818782806396, 0.2798663377761841, 0.28203070163726807]\n",
    "# val_accuracy: [0.6689093708992004, 0.6692298054695129, 0.6747725009918213]\n",
    "# test_accuracy:0.69984\n",
    "\n",
    "#配置3\n",
    "#加一dense層,units為272\n",
    "#lr=1e-5\n",
    "#____________________________________\n",
    "# loss: [0.31148579716682434, 0.2726139426231384, 0.2576909363269806, 0.24586567282676697, 0.2348412424325943, 0.22628311812877655]\n",
    "# accuracy: [0.6437267661094666, 0.6964468955993652, 0.7175846099853516, 0.7331875562667847, 0.7488706111907959, 0.7602925300598145]\n",
    "# val_loss: [0.2784871459007263, 0.2730500400066376, 0.2769792079925537, 0.2866998314857483, 0.28758808970451355, 0.2922053039073944]\n",
    "# val_accuracy: [0.6743239760398865, 0.6774317622184753, 0.6782968044281006, 0.6605471968650818, 0.6702870726585388, 0.6630462408065796]\n",
    "# test_accuracy:0.69634"
   ]
  },
  {
   "cell_type": "markdown",
   "id": "2fa5710d",
   "metadata": {
    "papermill": {
     "duration": 0.024196,
     "end_time": "2022-07-21T03:54:16.551745",
     "exception": false,
     "start_time": "2022-07-21T03:54:16.527549",
     "status": "completed"
    },
    "tags": []
   },
   "source": [
    "## **測試keras_tuner**"
   ]
  },
  {
   "cell_type": "markdown",
   "id": "94a6bb45",
   "metadata": {
    "execution": {
     "iopub.status.busy": "2022-07-15T07:50:16.801826Z",
     "iopub.status.idle": "2022-07-15T07:50:16.802645Z",
     "shell.execute_reply": "2022-07-15T07:50:16.802414Z",
     "shell.execute_reply.started": "2022-07-15T07:50:16.802390Z"
    },
    "papermill": {
     "duration": 0.024587,
     "end_time": "2022-07-21T03:54:16.601197",
     "exception": false,
     "start_time": "2022-07-21T03:54:16.576610",
     "status": "completed"
    },
    "tags": []
   },
   "source": [
    "這個段落用於測試keras_tuner(kt)<br>\n",
    "用於搜尋找表現更好的模型超參數.<br>\n",
    "在本次的項目當中已經有嘗試利用其尋找超參數<br>\n",
    "並將找到的超參數帶入到模型中<br>\n",
    "不過模型的建立並不是透過kt語法直接完成的<br>\n",
    "因此這個段落在閱讀上可以選擇直接跳過.<br>\n",
    "\n",
    "在反覆操作下<br>\n",
    "我發現我對於keras_tuner仍然不是很熟悉<br>\n",
    "不確定該如何找出想找的最佳參數<br>\n",
    "還必須再花時間研究.<br>\n",
    "\n",
    "參考:<br>\n",
    "https://keras.io/keras_tuner/<br>\n",
    "https://ithelp.ithome.com.tw/articles/10265801<br>"
   ]
  },
  {
   "cell_type": "code",
   "execution_count": 18,
   "id": "659352b4",
   "metadata": {
    "execution": {
     "iopub.execute_input": "2022-07-21T03:54:16.652500Z",
     "iopub.status.busy": "2022-07-21T03:54:16.652026Z",
     "iopub.status.idle": "2022-07-21T03:54:18.135174Z",
     "shell.execute_reply": "2022-07-21T03:54:18.134121Z"
    },
    "papermill": {
     "duration": 1.511654,
     "end_time": "2022-07-21T03:54:18.138191",
     "exception": false,
     "start_time": "2022-07-21T03:54:16.626537",
     "status": "completed"
    },
    "tags": []
   },
   "outputs": [
    {
     "name": "stdout",
     "output_type": "stream",
     "text": [
      "Model: \"model_1\"\n",
      "__________________________________________________________________________________________________\n",
      "Layer (type)                    Output Shape         Param #     Connected to                     \n",
      "==================================================================================================\n",
      "input_3 (InputLayer)            [(None, 80)]         0                                            \n",
      "__________________________________________________________________________________________________\n",
      "input_4 (InputLayer)            [(None, 80)]         0                                            \n",
      "__________________________________________________________________________________________________\n",
      "tf_roberta_model (TFRobertaMode TFBaseModelOutputWit 124645632   input_3[0][0]                    \n",
      "                                                                 input_4[0][0]                    \n",
      "__________________________________________________________________________________________________\n",
      "dense_2 (Dense)                 (None, 272)          209168      tf_roberta_model[1][1]           \n",
      "__________________________________________________________________________________________________\n",
      "dropout_38 (Dropout)            (None, 272)          0           dense_2[0][0]                    \n",
      "__________________________________________________________________________________________________\n",
      "dense_3 (Dense)                 (None, 5)            1365        dropout_38[0][0]                 \n",
      "==================================================================================================\n",
      "Total params: 124,856,165\n",
      "Trainable params: 124,856,165\n",
      "Non-trainable params: 0\n",
      "__________________________________________________________________________________________________\n"
     ]
    }
   ],
   "source": [
    "def model_tuner(lr,bertmodel):   \n",
    "    #模型架構\n",
    "\n",
    "    ids = tf.keras.Input(shape=(80,),dtype='int64')\n",
    "    masks = tf.keras.Input(shape=(80,),dtype='int64')\n",
    "    input=[ids,masks]\n",
    "\n",
    "    output=bertmodel([ids,masks])#輸出應該是word embedding. \n",
    "    output=output[1]\n",
    "    output=tf.keras.layers.Dense(272,activation='relu')(output)\n",
    "    output=tf.keras.layers.Dropout(0.45)(output)\n",
    "    output=tf.keras.layers.Dense(5, activation='sigmoid')(output)   \n",
    "\n",
    "    model=tf.keras.models.Model(inputs = input,outputs = output)\n",
    "    #此處我原本想用SparseCategoricalCrossentropy(sparse_categorical_crossentropy)\n",
    "    #不過會在之後.seach()(同fit)部分出現錯誤\n",
    "    #原因是為甚麼?\n",
    "    #https://stackoverflow.com/questions/49161174/tensorflow-logits-and-labels-must-have-the-same-first-dimension/62286888#62286888\n",
    "    #應該是這樣\n",
    "    #SparseCategoricalCrossentropy是用於數字序列分類的案例\n",
    "    #而在這次的案例當中\n",
    "    #則是以one_hot做分類\n",
    "    #因此會出現錯誤.\n",
    "    model.compile(Adam(lr=lr), loss='CategoricalCrossentropy', metrics=['accuracy']) \n",
    "    \n",
    "    return model\n",
    "\n",
    "#新增要搜尋的超參數至hp中\n",
    "#並建立model\n",
    "def build_model(hp):\n",
    "    #units = hp.Int(\"units\", min_value=32, max_value=512, step=120) #找units數\n",
    "    #dorate=hp.Float('dorate', min_value=0.1, max_value=1, sampling=\"log\")\n",
    "    lr = hp.Float(\"lr\", min_value=1e-6, max_value=1e-2, sampling=\"log\")\n",
    "    model0=model_tuner(lr,bertmodel=pretrained_model)\n",
    "    \n",
    "    return model0\n",
    "#參考\n",
    "# def build_model(hp):\n",
    "#     units = hp.Int(\"units\", min_value=32, max_value=512, step=32)\n",
    "#     activation = hp.Choice(\"activation\", [\"relu\", \"tanh\"])\n",
    "#     dropout = hp.Boolean(\"dropout\")\n",
    "#     lr = hp.Float(\"lr\", min_value=1e-4, max_value=1e-2, sampling=\"log\")\n",
    "#     # call existing model-building code with the hyperparameter values.\n",
    "#     model = call_existing_code(\n",
    "#         units=units, activation=activation, dropout=dropout, lr=lr\n",
    "#     )\n",
    "#     return model\n",
    "\n",
    "\n",
    "#確認模型架構\n",
    "build_model(kt.HyperParameters()).summary()"
   ]
  },
  {
   "cell_type": "code",
   "execution_count": 19,
   "id": "002e923b",
   "metadata": {
    "execution": {
     "iopub.execute_input": "2022-07-21T03:54:18.171657Z",
     "iopub.status.busy": "2022-07-21T03:54:18.171378Z",
     "iopub.status.idle": "2022-07-21T03:54:18.175444Z",
     "shell.execute_reply": "2022-07-21T03:54:18.174443Z"
    },
    "papermill": {
     "duration": 0.023073,
     "end_time": "2022-07-21T03:54:18.177671",
     "exception": false,
     "start_time": "2022-07-21T03:54:18.154598",
     "status": "completed"
    },
    "tags": []
   },
   "outputs": [],
   "source": [
    "#暫時沒用\n",
    "# x=kt.HyperParameters()\n",
    "# dorate=x.Float('dorate', min_value=0.1, max_value=1, sampling=\"log\")\n",
    "# lr = x.Float(\"lr\", min_value=1e-6, max_value=1e-2, sampling=\"log\")\n",
    "# #kt.HyperParameters().values"
   ]
  },
  {
   "cell_type": "code",
   "execution_count": 20,
   "id": "afdf4f62",
   "metadata": {
    "execution": {
     "iopub.execute_input": "2022-07-21T03:54:18.208579Z",
     "iopub.status.busy": "2022-07-21T03:54:18.208277Z",
     "iopub.status.idle": "2022-07-21T03:54:19.566148Z",
     "shell.execute_reply": "2022-07-21T03:54:19.565032Z"
    },
    "papermill": {
     "duration": 1.376012,
     "end_time": "2022-07-21T03:54:19.568588",
     "exception": false,
     "start_time": "2022-07-21T03:54:18.192576",
     "status": "completed"
    },
    "tags": []
   },
   "outputs": [
    {
     "name": "stdout",
     "output_type": "stream",
     "text": [
      "Search space summary\n",
      "Default search space size: 1\n",
      "lr (Float)\n",
      "{'default': 1e-06, 'conditions': [], 'min_value': 1e-06, 'max_value': 0.01, 'step': None, 'sampling': 'log'}\n"
     ]
    }
   ],
   "source": [
    "#定義調節器(模型超參數調節器)\n",
    "tuner = kt.RandomSearch(\n",
    "    build_model,\n",
    "    objective='val_accuracy',#可設定為val_loss.當Data數比較小時,或許用loss當作指標可能會比較好\n",
    "    max_trials=5,\n",
    "    #executions_per_trial=2,\n",
    "    #不知道怎麼查看這些檔案\n",
    "    #應該可以嘗試從TF儲存模型和參數這塊去理解\n",
    "    #directory='./',\n",
    "    #project_name='test'\n",
    ")\n",
    "\n",
    "#查看超參數搜索空間及項目\n",
    "tuner.search_space_summary()"
   ]
  },
  {
   "cell_type": "code",
   "execution_count": 21,
   "id": "aef2c46f",
   "metadata": {
    "execution": {
     "iopub.execute_input": "2022-07-21T03:54:19.602154Z",
     "iopub.status.busy": "2022-07-21T03:54:19.600533Z",
     "iopub.status.idle": "2022-07-21T03:54:19.609399Z",
     "shell.execute_reply": "2022-07-21T03:54:19.608385Z"
    },
    "papermill": {
     "duration": 0.027901,
     "end_time": "2022-07-21T03:54:19.612082",
     "exception": false,
     "start_time": "2022-07-21T03:54:19.584181",
     "status": "completed"
    },
    "tags": []
   },
   "outputs": [
    {
     "name": "stdout",
     "output_type": "stream",
     "text": [
      "(1561, 80)\n",
      "(1561, 5)\n"
     ]
    }
   ],
   "source": [
    "#抓取指定數量的隨機資料\n",
    "rate=0.01\n",
    "sample=np.random.randint(0,len(x[0]),size=round(rate*len(x[0])))\n",
    "x1=[x[0][sample],x[1][sample]]\n",
    "y1=y[sample]\n",
    "\n",
    "print(x1[0].shape)\n",
    "print(y1.shape)\n",
    "\n",
    "\n",
    "#搜索超參數.\n",
    "#.seach()的api有點難以理解阿\n",
    "#似乎跟model.fit()有類似的用法\n",
    "#這部分要再另外花時間理解.\n",
    "# print('-'*30)\n",
    "# tuner.search(x1,\n",
    "#              y1,\n",
    "#              validation_split=0.2,\n",
    "#              epochs=4,\n",
    "#              batch_size=100)  \n",
    "# #顯示搜尋解果\n",
    "# tuner.results_summary()\n",
    "\n",
    "#tuner相關問題:\n",
    "#-我要如何看曾經使用過的超參數以及對應準確度?\n",
    "#-有辦法看到選擇的超參數每個epoch的訓練狀況嗎?\n",
    "#-epoch不夠而導致欠擬合是否有可能讓模型無法正確反映準確度?\n",
    "#-tuner.seach()似乎會調整到原本的模型,為甚麼?"
   ]
  },
  {
   "cell_type": "code",
   "execution_count": 22,
   "id": "489b7d43",
   "metadata": {
    "execution": {
     "iopub.execute_input": "2022-07-21T03:54:19.644124Z",
     "iopub.status.busy": "2022-07-21T03:54:19.643871Z",
     "iopub.status.idle": "2022-07-21T03:54:19.648103Z",
     "shell.execute_reply": "2022-07-21T03:54:19.647138Z"
    },
    "papermill": {
     "duration": 0.022205,
     "end_time": "2022-07-21T03:54:19.650170",
     "exception": false,
     "start_time": "2022-07-21T03:54:19.627965",
     "status": "completed"
    },
    "tags": []
   },
   "outputs": [],
   "source": [
    "#兩種方法利用tuner建立找到的最佳參數的模型.\n",
    "\n",
    "#-方法一\n",
    "#提取最佳參數重新建立一個模型.\n",
    "# best_hps = tuner.get_best_hyperparameters(5) #參數值5代表選取前五個表現最好的參數值,這個值設為多少或許不是那麼重要\n",
    "#Build the model with the best hp.\n",
    "# model = build_model(best_hps[0])\n",
    "# model.summary()\n",
    "\n",
    "#-方法二 #無法執行\n",
    "#直接透過tuner建立.\n",
    "# Get the top 2 models.\n",
    "#models = tuner.get_best_models(num_models=2)\n",
    "\n",
    "# best_model = models[0]\n",
    "# best_model.summary()"
   ]
  },
  {
   "cell_type": "markdown",
   "id": "a989917f",
   "metadata": {
    "papermill": {
     "duration": 0.015576,
     "end_time": "2022-07-21T03:54:19.681024",
     "exception": false,
     "start_time": "2022-07-21T03:54:19.665448",
     "status": "completed"
    },
    "tags": []
   },
   "source": [
    "## **訓練**"
   ]
  },
  {
   "cell_type": "code",
   "execution_count": 23,
   "id": "4184d7ce",
   "metadata": {
    "execution": {
     "iopub.execute_input": "2022-07-21T03:54:19.712172Z",
     "iopub.status.busy": "2022-07-21T03:54:19.711916Z",
     "iopub.status.idle": "2022-07-21T03:54:19.715803Z",
     "shell.execute_reply": "2022-07-21T03:54:19.714898Z"
    },
    "papermill": {
     "duration": 0.021564,
     "end_time": "2022-07-21T03:54:19.717635",
     "exception": false,
     "start_time": "2022-07-21T03:54:19.696071",
     "status": "completed"
    },
    "tags": []
   },
   "outputs": [],
   "source": [
    "#抓取指定數量的隨機資料\n",
    "\n",
    "# rate=0.01\n",
    "# sample=np.random.randint(0,len(x[0]),size=round(rate*len(x[0])))\n",
    "# x1=[x[0][sample],x[1][sample]]\n",
    "# y1=y[sample]\n",
    "\n",
    "# print(x1[0].shape)\n",
    "# print(y1.shape)"
   ]
  },
  {
   "cell_type": "code",
   "execution_count": 24,
   "id": "b9852dab",
   "metadata": {
    "execution": {
     "iopub.execute_input": "2022-07-21T03:54:19.761311Z",
     "iopub.status.busy": "2022-07-21T03:54:19.760191Z",
     "iopub.status.idle": "2022-07-21T05:13:56.508030Z",
     "shell.execute_reply": "2022-07-21T05:13:56.506997Z"
    },
    "papermill": {
     "duration": 4777.088449,
     "end_time": "2022-07-21T05:13:56.821095",
     "exception": false,
     "start_time": "2022-07-21T03:54:19.732646",
     "status": "completed"
    },
    "tags": []
   },
   "outputs": [
    {
     "name": "stderr",
     "output_type": "stream",
     "text": [
      "2022-07-21 03:54:19.991902: I tensorflow/compiler/mlir/mlir_graph_optimization_pass.cc:185] None of the MLIR Optimization Passes are enabled (registered 2)\n"
     ]
    },
    {
     "name": "stdout",
     "output_type": "stream",
     "text": [
      "Epoch 1/4\n",
      "1249/1249 [==============================] - 1193s 944ms/step - loss: 0.3131 - accuracy: 0.6437 - val_loss: 0.2828 - val_accuracy: 0.6668\n",
      "\n",
      "Epoch 00001: val_loss improved from inf to 0.28283, saving model to ./cp_best.h5\n",
      "Epoch 2/4\n",
      "1249/1249 [==============================] - 1177s 942ms/step - loss: 0.2735 - accuracy: 0.6951 - val_loss: 0.2849 - val_accuracy: 0.6582\n",
      "\n",
      "Epoch 00002: val_loss did not improve from 0.28283\n",
      "Epoch 3/4\n",
      "1249/1249 [==============================] - 1177s 943ms/step - loss: 0.2586 - accuracy: 0.7160 - val_loss: 0.2796 - val_accuracy: 0.6730\n",
      "\n",
      "Epoch 00003: val_loss improved from 0.28283 to 0.27957, saving model to ./cp_best.h5\n",
      "Epoch 4/4\n",
      "1249/1249 [==============================] - 1178s 943ms/step - loss: 0.2468 - accuracy: 0.7325 - val_loss: 0.2873 - val_accuracy: 0.6652\n",
      "\n",
      "Epoch 00004: val_loss did not improve from 0.27957\n",
      "CPU times: user 51min 3s, sys: 5min 32s, total: 56min 36s\n",
      "Wall time: 1h 19min 36s\n"
     ]
    }
   ],
   "source": [
    "%%time\n",
    "\n",
    "#checkpath相關參考下面:\n",
    "#https://www.tensorflow.org/tutorials/keras/save_and_load.\n",
    "#檔案格式是甚麼?ckpt?h5?\n",
    "#取決與.ModelCheckpoint()參數save_weights_only\n",
    "#存模型,格式為h5\n",
    "#單純存參數,格視為ckpt\n",
    "\n",
    "#設定checkpoint\n",
    "#保存準確度最佳的model.\n",
    "checkpoint_path = \"./cp_best.h5\"\n",
    "checkpoint_dir = os.path.dirname(checkpoint_path)\n",
    "checkpoint= tf.keras.callbacks.ModelCheckpoint(\n",
    "    filepath=checkpoint_path,\n",
    "    monitor='val_loss',\n",
    "    verbose=1,\n",
    "    save_best_only=True,\n",
    "    #參數save_weights_only將決定檔名應該要用甚麼格式.\n",
    "    # save_weights_only=True\n",
    ")\n",
    "\n",
    "#訓練模型\n",
    "history = model.fit(\n",
    "    x,\n",
    "    y,\n",
    "    validation_split=0.2,\n",
    "    epochs=4,\n",
    "    callbacks=[checkpoint],\n",
    "    batch_size=100)\n",
    "\n",
    "#載入最佳模型\n",
    "#1.\n",
    "model.load_weights('./cp_best.h5')\n",
    "#or\n",
    "#2.\n",
    "# model.load_weights('./cp_test.ckpt')\n"
   ]
  },
  {
   "cell_type": "code",
   "execution_count": 25,
   "id": "b394a0af",
   "metadata": {
    "execution": {
     "iopub.execute_input": "2022-07-21T05:13:57.498567Z",
     "iopub.status.busy": "2022-07-21T05:13:57.498153Z",
     "iopub.status.idle": "2022-07-21T05:13:57.504356Z",
     "shell.execute_reply": "2022-07-21T05:13:57.503351Z"
    },
    "papermill": {
     "duration": 0.32244,
     "end_time": "2022-07-21T05:13:57.507750",
     "exception": false,
     "start_time": "2022-07-21T05:13:57.185310",
     "status": "completed"
    },
    "tags": []
   },
   "outputs": [
    {
     "name": "stdout",
     "output_type": "stream",
     "text": [
      "------------------------------\n",
      "model\n",
      "loss: [0.31305816769599915, 0.2735230624675751, 0.25861334800720215, 0.24684391915798187]\n",
      "accuracy: [0.643662691116333, 0.6950691938400269, 0.7159666419029236, 0.7325307726860046]\n",
      "val_loss: [0.2828330397605896, 0.2849234342575073, 0.27957284450531006, 0.2872771620750427]\n",
      "val_accuracy: [0.6668268442153931, 0.6581763625144958, 0.6729783415794373, 0.6652249097824097]\n"
     ]
    }
   ],
   "source": [
    "print('-'*30)\n",
    "print('model')\n",
    "for n in history.history:\n",
    "    print('{}: {}'.format(n,history.history[n]))"
   ]
  },
  {
   "cell_type": "code",
   "execution_count": 26,
   "id": "71c016bf",
   "metadata": {
    "execution": {
     "iopub.execute_input": "2022-07-21T05:13:58.134054Z",
     "iopub.status.busy": "2022-07-21T05:13:58.133707Z",
     "iopub.status.idle": "2022-07-21T05:24:22.564015Z",
     "shell.execute_reply": "2022-07-21T05:24:22.563010Z"
    },
    "papermill": {
     "duration": 625.057938,
     "end_time": "2022-07-21T05:24:22.876447",
     "exception": false,
     "start_time": "2022-07-21T05:13:57.818509",
     "status": "completed"
    },
    "tags": []
   },
   "outputs": [
    {
     "name": "stdout",
     "output_type": "stream",
     "text": [
      "pred_y:\n",
      "[2 2 2 ... 2 2 2]\n",
      "------------------------------\n",
      "[2] for the back row\n",
      "[2] the back row\n",
      "[2] back row\n",
      "[2] row\n",
      "[0] , the dialogue sounds like horrible poetry .\n",
      "[0] the dialogue sounds like horrible poetry .\n",
      "[2] the dialogue\n",
      "[0] sounds like horrible poetry .\n",
      "[0] sounds like horrible poetry\n",
      "[2] sounds\n"
     ]
    }
   ],
   "source": [
    "#顯示train data預測結果\n",
    "\n",
    "pred_y=model.predict(x)\n",
    "pred_y=pred_y.argmax(1) \n",
    "print('pred_y:')\n",
    "print(pred_y)\n",
    "\n",
    "print('-'*30)\n",
    "num=0\n",
    "start=7000\n",
    "for n,m in zip(pred_y[start:],train['Phrase'].iloc[start:]):\n",
    "    num+=1\n",
    "    print(f'[{n}]',m)\n",
    "    if num==10:\n",
    "        break"
   ]
  },
  {
   "cell_type": "code",
   "execution_count": 27,
   "id": "a8196695",
   "metadata": {
    "execution": {
     "iopub.execute_input": "2022-07-21T05:24:23.495110Z",
     "iopub.status.busy": "2022-07-21T05:24:23.494770Z",
     "iopub.status.idle": "2022-07-21T05:24:23.768419Z",
     "shell.execute_reply": "2022-07-21T05:24:23.767523Z"
    },
    "papermill": {
     "duration": 0.584557,
     "end_time": "2022-07-21T05:24:23.770357",
     "exception": false,
     "start_time": "2022-07-21T05:24:23.185800",
     "status": "completed"
    },
    "tags": []
   },
   "outputs": [
    {
     "name": "stdout",
     "output_type": "stream",
     "text": [
      "[[ 4015  2855   161    39     2]\n",
      " [ 2423 18533  5913   393    11]\n",
      " [  371  6960 65332  6722   197]\n",
      " [   16   457  7024 21402  4028]\n",
      " [    1    20   131  2862  6192]]\n"
     ]
    },
    {
     "data": {
      "text/plain": [
       "<matplotlib.colorbar.Colorbar at 0x7f5ec67c8c50>"
      ]
     },
     "execution_count": 27,
     "metadata": {},
     "output_type": "execute_result"
    },
    {
     "data": {
      "image/png": "[encoded data removed]",
      "text/plain": [
       "<Figure size 432x288 with 2 Axes>"
      ]
     },
     "metadata": {
      "needs_background": "light"
     },
     "output_type": "display_data"
    }
   ],
   "source": [
    "#混淆矩陣以及繪圖\n",
    "\n",
    "#混淆矩陣\n",
    "#https://honglung.pixnet.net/blog/post/214669413-%E6%B7%B7%E6%B7%86%E7%9F%A9%E9%99%A3\n",
    "#左側代表正確label\n",
    "#下側代表預測label\n",
    "cm=confusion_matrix(train['Sentiment'],pred_y,labels=[0,1,2,3,4])\n",
    "print(cm)\n",
    "\n",
    "#視覺化\n",
    "plt.imshow(cm)\n",
    "plt.title('confusion matrix of train data')\n",
    "plt.colorbar()"
   ]
  },
  {
   "cell_type": "markdown",
   "id": "dbbeb1f4",
   "metadata": {
    "papermill": {
     "duration": 0.311119,
     "end_time": "2022-07-21T05:24:24.447456",
     "exception": false,
     "start_time": "2022-07-21T05:24:24.136337",
     "status": "completed"
    },
    "tags": []
   },
   "source": [
    "觀察:<br>\n",
    "大多數資料的預測結果都沒有太嚴重的誤差<br>\n",
    "這邊所謂的嚴重誤差<br>\n",
    "指的像是正面的label被分類到負面的label<br>\n",
    "被分類到完全不同意義的類別當中這樣的狀況.<br>\n",
    "依照這樣的情況<br>\n",
    "某方面來說<br>\n",
    "應該可以認為模型至少可以區分兩個不同面向的情緒<br>\n",
    "或許如果今天是以正負兩種情緒作為分類的類別<br>\n",
    "那預測表現可能會不錯<br>\n",
    "(如果直接在現有的模型中加一個二元分類的層是可行的嗎?)<br>\n",
    "\n",
    "那至於如果要在更細分情緒的程度呢?<br>\n",
    "看起來模型在這方面就會有比較大的誤差<br>\n",
    "從預測結果可以發現到這樣的現象.<br>\n",
    "以現實的狀況來看<br>\n",
    "若現在是由人類來判斷情緒的程度<br>\n",
    "個人認為也會存在非常多判斷的結果與實際不同的狀況<br>\n",
    "因此模型會有這樣的現象是有可能的.<br>\n",
    "\n",
    "\n",
    "如果想要改善結果預測的準確度<br>\n",
    "該怎麼做?<br>\n",
    "模型調整?<br>\n",
    "檢查資料的品質?<br>\n",
    "資料篩選?<br>\n",
    "檢查資料標記的狀況?<br>\n",
    "重新整理出資料類別數比較平均的dataset?<br>"
   ]
  },
  {
   "cell_type": "markdown",
   "id": "6c2eceda",
   "metadata": {
    "papermill": {
     "duration": 0.314132,
     "end_time": "2022-07-21T05:24:25.084351",
     "exception": false,
     "start_time": "2022-07-21T05:24:24.770219",
     "status": "completed"
    },
    "tags": []
   },
   "source": [
    "## **提交test dataset預測結果**"
   ]
  },
  {
   "cell_type": "code",
   "execution_count": 28,
   "id": "c4d59f40",
   "metadata": {
    "execution": {
     "iopub.execute_input": "2022-07-21T05:24:25.713183Z",
     "iopub.status.busy": "2022-07-21T05:24:25.712829Z",
     "iopub.status.idle": "2022-07-21T05:28:47.722372Z",
     "shell.execute_reply": "2022-07-21T05:28:47.717773Z"
    },
    "papermill": {
     "duration": 262.647379,
     "end_time": "2022-07-21T05:28:48.045697",
     "exception": false,
     "start_time": "2022-07-21T05:24:25.398318",
     "status": "completed"
    },
    "tags": []
   },
   "outputs": [
    {
     "name": "stdout",
     "output_type": "stream",
     "text": [
      "test_y:\n",
      "[2 2 2 ... 1 1 2]\n"
     ]
    }
   ],
   "source": [
    "#預測test dataset結果\n",
    "\n",
    "test_y=model.predict(test_x)\n",
    "print('test_y:')\n",
    "print(test_y.argmax(1))"
   ]
  },
  {
   "cell_type": "code",
   "execution_count": 29,
   "id": "fcd65068",
   "metadata": {
    "execution": {
     "iopub.execute_input": "2022-07-21T05:28:48.669964Z",
     "iopub.status.busy": "2022-07-21T05:28:48.669614Z",
     "iopub.status.idle": "2022-07-21T05:28:48.678385Z",
     "shell.execute_reply": "2022-07-21T05:28:48.677384Z"
    },
    "papermill": {
     "duration": 0.324507,
     "end_time": "2022-07-21T05:28:48.680346",
     "exception": false,
     "start_time": "2022-07-21T05:28:48.355839",
     "status": "completed"
    },
    "tags": []
   },
   "outputs": [
    {
     "name": "stdout",
     "output_type": "stream",
     "text": [
      "[1] defoliation\n",
      "[2] of ego\n",
      "[2] ego\n",
      "[3] make the film touching despite some doldrums\n",
      "[3] make the film touching\n",
      "[2] make\n",
      "[3] the film touching\n",
      "[3] film touching\n",
      "[3] touching\n",
      "[2] despite some doldrums\n",
      "[2] some doldrums\n",
      "[2] some\n",
      "[1] doldrums\n",
      "[0] Imagine a really bad community theater production of West Side Story without the songs .\n",
      "[0] Imagine a really bad community theater production of West Side Story without the songs\n",
      "[0] Imagine a really bad community theater production of West Side Story\n",
      "[2] Imagine\n",
      "[0] a really bad community theater production of West Side Story\n",
      "[0] a really bad community theater production\n",
      "[0] really bad community theater production\n"
     ]
    }
   ],
   "source": [
    "#預測的結果合併到test中\n",
    "test['Sentiment']=test_y.argmax(1)\n",
    "\n",
    "#挑選幾筆資料來查看.\n",
    "#這邊可以修改為隨機取樣的方式來查看.\n",
    "num=0\n",
    "start=1000\n",
    "for n,m in zip(test['Sentiment'].iloc[start:],test['Phrase'].iloc[start:]):\n",
    "    num+=1\n",
    "    print(f'[{n}]',m)\n",
    "    if num==20:\n",
    "        break"
   ]
  },
  {
   "cell_type": "code",
   "execution_count": 30,
   "id": "39b38047",
   "metadata": {
    "execution": {
     "iopub.execute_input": "2022-07-21T05:28:49.306027Z",
     "iopub.status.busy": "2022-07-21T05:28:49.304953Z",
     "iopub.status.idle": "2022-07-21T05:28:49.441538Z",
     "shell.execute_reply": "2022-07-21T05:28:49.440664Z"
    },
    "papermill": {
     "duration": 0.450533,
     "end_time": "2022-07-21T05:28:49.443753",
     "exception": false,
     "start_time": "2022-07-21T05:28:48.993220",
     "status": "completed"
    },
    "tags": []
   },
   "outputs": [
    {
     "data": {
      "text/html": [
       "<div>\n",
       "<style scoped>\n",
       "    .dataframe tbody tr th:only-of-type {\n",
       "        vertical-align: middle;\n",
       "    }\n",
       "\n",
       "    .dataframe tbody tr th {\n",
       "        vertical-align: top;\n",
       "    }\n",
       "\n",
       "    .dataframe thead th {\n",
       "        text-align: right;\n",
       "    }\n",
       "</style>\n",
       "<table border=\"1\" class=\"dataframe\">\n",
       "  <thead>\n",
       "    <tr style=\"text-align: right;\">\n",
       "      <th></th>\n",
       "      <th>PhraseId</th>\n",
       "      <th>Sentiment</th>\n",
       "    </tr>\n",
       "  </thead>\n",
       "  <tbody>\n",
       "    <tr>\n",
       "      <th>0</th>\n",
       "      <td>156061</td>\n",
       "      <td>2</td>\n",
       "    </tr>\n",
       "    <tr>\n",
       "      <th>1</th>\n",
       "      <td>156062</td>\n",
       "      <td>2</td>\n",
       "    </tr>\n",
       "    <tr>\n",
       "      <th>2</th>\n",
       "      <td>156063</td>\n",
       "      <td>2</td>\n",
       "    </tr>\n",
       "    <tr>\n",
       "      <th>3</th>\n",
       "      <td>156064</td>\n",
       "      <td>2</td>\n",
       "    </tr>\n",
       "    <tr>\n",
       "      <th>4</th>\n",
       "      <td>156065</td>\n",
       "      <td>2</td>\n",
       "    </tr>\n",
       "    <tr>\n",
       "      <th>5</th>\n",
       "      <td>156066</td>\n",
       "      <td>3</td>\n",
       "    </tr>\n",
       "    <tr>\n",
       "      <th>6</th>\n",
       "      <td>156067</td>\n",
       "      <td>3</td>\n",
       "    </tr>\n",
       "    <tr>\n",
       "      <th>7</th>\n",
       "      <td>156068</td>\n",
       "      <td>2</td>\n",
       "    </tr>\n",
       "    <tr>\n",
       "      <th>8</th>\n",
       "      <td>156069</td>\n",
       "      <td>3</td>\n",
       "    </tr>\n",
       "    <tr>\n",
       "      <th>9</th>\n",
       "      <td>156070</td>\n",
       "      <td>2</td>\n",
       "    </tr>\n",
       "  </tbody>\n",
       "</table>\n",
       "</div>"
      ],
      "text/plain": [
       "   PhraseId  Sentiment\n",
       "0    156061          2\n",
       "1    156062          2\n",
       "2    156063          2\n",
       "3    156064          2\n",
       "4    156065          2\n",
       "5    156066          3\n",
       "6    156067          3\n",
       "7    156068          2\n",
       "8    156069          3\n",
       "9    156070          2"
      ]
     },
     "execution_count": 30,
     "metadata": {},
     "output_type": "execute_result"
    }
   ],
   "source": [
    "#將預測結果合併至競賽提交格式\n",
    "\n",
    "submission=pd.read_csv('../input/sentiment-analysis-on-movie-reviews/sampleSubmission.csv')\n",
    "\n",
    "submission['Sentiment']=test['Sentiment']\n",
    "submission.to_csv('submission.csv',index=False)\n",
    "\n",
    "#最終競賽提交格式\n",
    "\n",
    "submission.head(10)"
   ]
  },
  {
   "cell_type": "markdown",
   "id": "b3ebcd26",
   "metadata": {
    "papermill": {
     "duration": 0.363756,
     "end_time": "2022-07-21T05:28:50.119028",
     "exception": false,
     "start_time": "2022-07-21T05:28:49.755272",
     "status": "completed"
    },
    "tags": []
   },
   "source": [
    "提交testdata預測結果後<br>\n",
    "顯示準確度約為0.695.<br>"
   ]
  },
  {
   "cell_type": "code",
   "execution_count": null,
   "id": "32f8fa23",
   "metadata": {
    "papermill": {
     "duration": 0.309241,
     "end_time": "2022-07-21T05:28:50.744470",
     "exception": false,
     "start_time": "2022-07-21T05:28:50.435229",
     "status": "completed"
    },
    "tags": []
   },
   "outputs": [],
   "source": []
  }
 ],
 "metadata": {
  "kernelspec": {
   "display_name": "Python 3",
   "language": "python",
   "name": "python3"
  },
  "language_info": {
   "codemirror_mode": {
    "name": "ipython",
    "version": 3
   },
   "file_extension": ".py",
   "mimetype": "text/x-python",
   "name": "python",
   "nbconvert_exporter": "python",
   "pygments_lexer": "ipython3",
   "version": "3.7.12"
  },
  "papermill": {
   "default_parameters": {},
   "duration": 5827.29825,
   "end_time": "2022-07-21T05:28:54.315555",
   "environment_variables": {},
   "exception": null,
   "input_path": "__notebook__.ipynb",
   "output_path": "__notebook__.ipynb",
   "parameters": {},
   "start_time": "2022-07-21T03:51:47.017305",
   "version": "2.3.4"
  },
  "widgets": {
   "application/vnd.jupyter.widget-state+json": {
    "state": {
     "021bd2a1a39346f992462b041e1ea0a3": {
      "model_module": "@jupyter-widgets/base",
      "model_module_version": "1.2.0",
      "model_name": "LayoutModel",
      "state": {
       "_model_module": "@jupyter-widgets/base",
       "_model_module_version": "1.2.0",
       "_model_name": "LayoutModel",
       "_view_count": null,
       "_view_module": "@jupyter-widgets/base",
       "_view_module_version": "1.2.0",
       "_view_name": "LayoutView",
       "align_content": null,
       "align_items": null,
       "align_self": null,
       "border": null,
       "bottom": null,
       "display": null,
       "flex": null,
       "flex_flow": null,
       "grid_area": null,
       "grid_auto_columns": null,
       "grid_auto_flow": null,
       "grid_auto_rows": null,
       "grid_column": null,
       "grid_gap": null,
       "grid_row": null,
       "grid_template_areas": null,
       "grid_template_columns": null,
       "grid_template_rows": null,
       "height": null,
       "justify_content": null,
       "justify_items": null,
       "left": null,
       "margin": null,
       "max_height": null,
       "max_width": null,
       "min_height": null,
       "min_width": null,
       "object_fit": null,
       "object_position": null,
       "order": null,
       "overflow": null,
       "overflow_x": null,
       "overflow_y": null,
       "padding": null,
       "right": null,
       "top": null,
       "visibility": null,
       "width": null
      }
     },
     "04bb2228d82544baa7cc0fcca7e8d458": {
      "model_module": "@jupyter-widgets/controls",
      "model_module_version": "1.5.0",
      "model_name": "HTMLModel",
      "state": {
       "_dom_classes": [],
       "_model_module": "@jupyter-widgets/controls",
       "_model_module_version": "1.5.0",
       "_model_name": "HTMLModel",
       "_view_count": null,
       "_view_module": "@jupyter-widgets/controls",
       "_view_module_version": "1.5.0",
       "_view_name": "HTMLView",
       "description": "",
       "description_tooltip": null,
       "layout": "IPY_MODEL_626e169e55f5455d83120bf230bb2428",
       "placeholder": "​",
       "style": "IPY_MODEL_06fb3e5ca6d64cac84ca39551ef7d55e",
       "value": "Downloading: 100%"
      }
     },
     "06fb3e5ca6d64cac84ca39551ef7d55e": {
      "model_module": "@jupyter-widgets/controls",
      "model_module_version": "1.5.0",
      "model_name": "DescriptionStyleModel",
      "state": {
       "_model_module": "@jupyter-widgets/controls",
       "_model_module_version": "1.5.0",
       "_model_name": "DescriptionStyleModel",
       "_view_count": null,
       "_view_module": "@jupyter-widgets/base",
       "_view_module_version": "1.2.0",
       "_view_name": "StyleView",
       "description_width": ""
      }
     },
     "08af7160f39e4e90a6971de3488d506b": {
      "model_module": "@jupyter-widgets/controls",
      "model_module_version": "1.5.0",
      "model_name": "FloatProgressModel",
      "state": {
       "_dom_classes": [],
       "_model_module": "@jupyter-widgets/controls",
       "_model_module_version": "1.5.0",
       "_model_name": "FloatProgressModel",
       "_view_count": null,
       "_view_module": "@jupyter-widgets/controls",
       "_view_module_version": "1.5.0",
       "_view_name": "ProgressView",
       "bar_style": "success",
       "description": "",
       "description_tooltip": null,
       "layout": "IPY_MODEL_31f3accee5794f1fb5e3043dacb0a66b",
       "max": 481.0,
       "min": 0.0,
       "orientation": "horizontal",
       "style": "IPY_MODEL_3c010249e98140ba9d06b28660049263",
       "value": 481.0
      }
     },
     "0989a169883c40ba91f9876f85c76127": {
      "model_module": "@jupyter-widgets/controls",
      "model_module_version": "1.5.0",
      "model_name": "DescriptionStyleModel",
      "state": {
       "_model_module": "@jupyter-widgets/controls",
       "_model_module_version": "1.5.0",
       "_model_name": "DescriptionStyleModel",
       "_view_count": null,
       "_view_module": "@jupyter-widgets/base",
       "_view_module_version": "1.2.0",
       "_view_name": "StyleView",
       "description_width": ""
      }
     },
     "0c05ab83cb1c4e64b3ac01ea77ed747c": {
      "model_module": "@jupyter-widgets/base",
      "model_module_version": "1.2.0",
      "model_name": "LayoutModel",
      "state": {
       "_model_module": "@jupyter-widgets/base",
       "_model_module_version": "1.2.0",
       "_model_name": "LayoutModel",
       "_view_count": null,
       "_view_module": "@jupyter-widgets/base",
       "_view_module_version": "1.2.0",
       "_view_name": "LayoutView",
       "align_content": null,
       "align_items": null,
       "align_self": null,
       "border": null,
       "bottom": null,
       "display": null,
       "flex": null,
       "flex_flow": null,
       "grid_area": null,
       "grid_auto_columns": null,
       "grid_auto_flow": null,
       "grid_auto_rows": null,
       "grid_column": null,
       "grid_gap": null,
       "grid_row": null,
       "grid_template_areas": null,
       "grid_template_columns": null,
       "grid_template_rows": null,
       "height": null,
       "justify_content": null,
       "justify_items": null,
       "left": null,
       "margin": null,
       "max_height": null,
       "max_width": null,
       "min_height": null,
       "min_width": null,
       "object_fit": null,
       "object_position": null,
       "order": null,
       "overflow": null,
       "overflow_x": null,
       "overflow_y": null,
       "padding": null,
       "right": null,
       "top": null,
       "visibility": null,
       "width": null
      }
     },
     "0e352c8e0414491aa02624f91e898852": {
      "model_module": "@jupyter-widgets/controls",
      "model_module_version": "1.5.0",
      "model_name": "HBoxModel",
      "state": {
       "_dom_classes": [],
       "_model_module": "@jupyter-widgets/controls",
       "_model_module_version": "1.5.0",
       "_model_name": "HBoxModel",
       "_view_count": null,
       "_view_module": "@jupyter-widgets/controls",
       "_view_module_version": "1.5.0",
       "_view_name": "HBoxView",
       "box_style": "",
       "children": [
        "IPY_MODEL_47e39dbea29249398bd777e66c69529c",
        "IPY_MODEL_d7eda10ee3b4434cbdce3d59745cb6ec",
        "IPY_MODEL_4aa31e68fe5c4bbfabde73a4dc1ecf2b"
       ],
       "layout": "IPY_MODEL_2da853d4924847ab8801d1d3b918b531"
      }
     },
     "1531877a69cc456bbbf52d46dbacea5e": {
      "model_module": "@jupyter-widgets/controls",
      "model_module_version": "1.5.0",
      "model_name": "HTMLModel",
      "state": {
       "_dom_classes": [],
       "_model_module": "@jupyter-widgets/controls",
       "_model_module_version": "1.5.0",
       "_model_name": "HTMLModel",
       "_view_count": null,
       "_view_module": "@jupyter-widgets/controls",
       "_view_module_version": "1.5.0",
       "_view_name": "HTMLView",
       "description": "",
       "description_tooltip": null,
       "layout": "IPY_MODEL_0c05ab83cb1c4e64b3ac01ea77ed747c",
       "placeholder": "​",
       "style": "IPY_MODEL_6693612919174837a3281e4a51aadb51",
       "value": " 481/481 [00:00&lt;00:00, 8.46kB/s]"
      }
     },
     "26d715754061428ba6dacb221a86e644": {
      "model_module": "@jupyter-widgets/base",
      "model_module_version": "1.2.0",
      "model_name": "LayoutModel",
      "state": {
       "_model_module": "@jupyter-widgets/base",
       "_model_module_version": "1.2.0",
       "_model_name": "LayoutModel",
       "_view_count": null,
       "_view_module": "@jupyter-widgets/base",
       "_view_module_version": "1.2.0",
       "_view_name": "LayoutView",
       "align_content": null,
       "align_items": null,
       "align_self": null,
       "border": null,
       "bottom": null,
       "display": null,
       "flex": null,
       "flex_flow": null,
       "grid_area": null,
       "grid_auto_columns": null,
       "grid_auto_flow": null,
       "grid_auto_rows": null,
       "grid_column": null,
       "grid_gap": null,
       "grid_row": null,
       "grid_template_areas": null,
       "grid_template_columns": null,
       "grid_template_rows": null,
       "height": null,
       "justify_content": null,
       "justify_items": null,
       "left": null,
       "margin": null,
       "max_height": null,
       "max_width": null,
       "min_height": null,
       "min_width": null,
       "object_fit": null,
       "object_position": null,
       "order": null,
       "overflow": null,
       "overflow_x": null,
       "overflow_y": null,
       "padding": null,
       "right": null,
       "top": null,
       "visibility": null,
       "width": null
      }
     },
     "273bc2d0696b46d6b0490c3bc93ef736": {
      "model_module": "@jupyter-widgets/controls",
      "model_module_version": "1.5.0",
      "model_name": "DescriptionStyleModel",
      "state": {
       "_model_module": "@jupyter-widgets/controls",
       "_model_module_version": "1.5.0",
       "_model_name": "DescriptionStyleModel",
       "_view_count": null,
       "_view_module": "@jupyter-widgets/base",
       "_view_module_version": "1.2.0",
       "_view_name": "StyleView",
       "description_width": ""
      }
     },
     "2a2f007bfae24b7491358f7a402a6923": {
      "model_module": "@jupyter-widgets/base",
      "model_module_version": "1.2.0",
      "model_name": "LayoutModel",
      "state": {
       "_model_module": "@jupyter-widgets/base",
       "_model_module_version": "1.2.0",
       "_model_name": "LayoutModel",
       "_view_count": null,
       "_view_module": "@jupyter-widgets/base",
       "_view_module_version": "1.2.0",
       "_view_name": "LayoutView",
       "align_content": null,
       "align_items": null,
       "align_self": null,
       "border": null,
       "bottom": null,
       "display": null,
       "flex": null,
       "flex_flow": null,
       "grid_area": null,
       "grid_auto_columns": null,
       "grid_auto_flow": null,
       "grid_auto_rows": null,
       "grid_column": null,
       "grid_gap": null,
       "grid_row": null,
       "grid_template_areas": null,
       "grid_template_columns": null,
       "grid_template_rows": null,
       "height": null,
       "justify_content": null,
       "justify_items": null,
       "left": null,
       "margin": null,
       "max_height": null,
       "max_width": null,
       "min_height": null,
       "min_width": null,
       "object_fit": null,
       "object_position": null,
       "order": null,
       "overflow": null,
       "overflow_x": null,
       "overflow_y": null,
       "padding": null,
       "right": null,
       "top": null,
       "visibility": null,
       "width": null
      }
     },
     "2b4d8aee12994fff8e6840551a65f7b9": {
      "model_module": "@jupyter-widgets/controls",
      "model_module_version": "1.5.0",
      "model_name": "DescriptionStyleModel",
      "state": {
       "_model_module": "@jupyter-widgets/controls",
       "_model_module_version": "1.5.0",
       "_model_name": "DescriptionStyleModel",
       "_view_count": null,
       "_view_module": "@jupyter-widgets/base",
       "_view_module_version": "1.2.0",
       "_view_name": "StyleView",
       "description_width": ""
      }
     },
     "2da853d4924847ab8801d1d3b918b531": {
      "model_module": "@jupyter-widgets/base",
      "model_module_version": "1.2.0",
      "model_name": "LayoutModel",
      "state": {
       "_model_module": "@jupyter-widgets/base",
       "_model_module_version": "1.2.0",
       "_model_name": "LayoutModel",
       "_view_count": null,
       "_view_module": "@jupyter-widgets/base",
       "_view_module_version": "1.2.0",
       "_view_name": "LayoutView",
       "align_content": null,
       "align_items": null,
       "align_self": null,
       "border": null,
       "bottom": null,
       "display": null,
       "flex": null,
       "flex_flow": null,
       "grid_area": null,
       "grid_auto_columns": null,
       "grid_auto_flow": null,
       "grid_auto_rows": null,
       "grid_column": null,
       "grid_gap": null,
       "grid_row": null,
       "grid_template_areas": null,
       "grid_template_columns": null,
       "grid_template_rows": null,
       "height": null,
       "justify_content": null,
       "justify_items": null,
       "left": null,
       "margin": null,
       "max_height": null,
       "max_width": null,
       "min_height": null,
       "min_width": null,
       "object_fit": null,
       "object_position": null,
       "order": null,
       "overflow": null,
       "overflow_x": null,
       "overflow_y": null,
       "padding": null,
       "right": null,
       "top": null,
       "visibility": null,
       "width": null
      }
     },
     "31f3accee5794f1fb5e3043dacb0a66b": {
      "model_module": "@jupyter-widgets/base",
      "model_module_version": "1.2.0",
      "model_name": "LayoutModel",
      "state": {
       "_model_module": "@jupyter-widgets/base",
       "_model_module_version": "1.2.0",
       "_model_name": "LayoutModel",
       "_view_count": null,
       "_view_module": "@jupyter-widgets/base",
       "_view_module_version": "1.2.0",
       "_view_name": "LayoutView",
       "align_content": null,
       "align_items": null,
       "align_self": null,
       "border": null,
       "bottom": null,
       "display": null,
       "flex": null,
       "flex_flow": null,
       "grid_area": null,
       "grid_auto_columns": null,
       "grid_auto_flow": null,
       "grid_auto_rows": null,
       "grid_column": null,
       "grid_gap": null,
       "grid_row": null,
       "grid_template_areas": null,
       "grid_template_columns": null,
       "grid_template_rows": null,
       "height": null,
       "justify_content": null,
       "justify_items": null,
       "left": null,
       "margin": null,
       "max_height": null,
       "max_width": null,
       "min_height": null,
       "min_width": null,
       "object_fit": null,
       "object_position": null,
       "order": null,
       "overflow": null,
       "overflow_x": null,
       "overflow_y": null,
       "padding": null,
       "right": null,
       "top": null,
       "visibility": null,
       "width": null
      }
     },
     "3645de541802437d89c0912eb901bbac": {
      "model_module": "@jupyter-widgets/controls",
      "model_module_version": "1.5.0",
      "model_name": "DescriptionStyleModel",
      "state": {
       "_model_module": "@jupyter-widgets/controls",
       "_model_module_version": "1.5.0",
       "_model_name": "DescriptionStyleModel",
       "_view_count": null,
       "_view_module": "@jupyter-widgets/base",
       "_view_module_version": "1.2.0",
       "_view_name": "StyleView",
       "description_width": ""
      }
     },
     "3c010249e98140ba9d06b28660049263": {
      "model_module": "@jupyter-widgets/controls",
      "model_module_version": "1.5.0",
      "model_name": "ProgressStyleModel",
      "state": {
       "_model_module": "@jupyter-widgets/controls",
       "_model_module_version": "1.5.0",
       "_model_name": "ProgressStyleModel",
       "_view_count": null,
       "_view_module": "@jupyter-widgets/base",
       "_view_module_version": "1.2.0",
       "_view_name": "StyleView",
       "bar_color": null,
       "description_width": ""
      }
     },
     "40d47cf30afc4048a30a065bb6775447": {
      "model_module": "@jupyter-widgets/base",
      "model_module_version": "1.2.0",
      "model_name": "LayoutModel",
      "state": {
       "_model_module": "@jupyter-widgets/base",
       "_model_module_version": "1.2.0",
       "_model_name": "LayoutModel",
       "_view_count": null,
       "_view_module": "@jupyter-widgets/base",
       "_view_module_version": "1.2.0",
       "_view_name": "LayoutView",
       "align_content": null,
       "align_items": null,
       "align_self": null,
       "border": null,
       "bottom": null,
       "display": null,
       "flex": null,
       "flex_flow": null,
       "grid_area": null,
       "grid_auto_columns": null,
       "grid_auto_flow": null,
       "grid_auto_rows": null,
       "grid_column": null,
       "grid_gap": null,
       "grid_row": null,
       "grid_template_areas": null,
       "grid_template_columns": null,
       "grid_template_rows": null,
       "height": null,
       "justify_content": null,
       "justify_items": null,
       "left": null,
       "margin": null,
       "max_height": null,
       "max_width": null,
       "min_height": null,
       "min_width": null,
       "object_fit": null,
       "object_position": null,
       "order": null,
       "overflow": null,
       "overflow_x": null,
       "overflow_y": null,
       "padding": null,
       "right": null,
       "top": null,
       "visibility": null,
       "width": null
      }
     },
     "47af8c894d2f44ec81a9a17229ff65b0": {
      "model_module": "@jupyter-widgets/controls",
      "model_module_version": "1.5.0",
      "model_name": "ProgressStyleModel",
      "state": {
       "_model_module": "@jupyter-widgets/controls",
       "_model_module_version": "1.5.0",
       "_model_name": "ProgressStyleModel",
       "_view_count": null,
       "_view_module": "@jupyter-widgets/base",
       "_view_module_version": "1.2.0",
       "_view_name": "StyleView",
       "bar_color": null,
       "description_width": ""
      }
     },
     "47e39dbea29249398bd777e66c69529c": {
      "model_module": "@jupyter-widgets/controls",
      "model_module_version": "1.5.0",
      "model_name": "HTMLModel",
      "state": {
       "_dom_classes": [],
       "_model_module": "@jupyter-widgets/controls",
       "_model_module_version": "1.5.0",
       "_model_name": "HTMLModel",
       "_view_count": null,
       "_view_module": "@jupyter-widgets/controls",
       "_view_module_version": "1.5.0",
       "_view_name": "HTMLView",
       "description": "",
       "description_tooltip": null,
       "layout": "IPY_MODEL_021bd2a1a39346f992462b041e1ea0a3",
       "placeholder": "​",
       "style": "IPY_MODEL_66ae6dc2475442a0b8933d986d25259d",
       "value": "Downloading: 100%"
      }
     },
     "4aa31e68fe5c4bbfabde73a4dc1ecf2b": {
      "model_module": "@jupyter-widgets/controls",
      "model_module_version": "1.5.0",
      "model_name": "HTMLModel",
      "state": {
       "_dom_classes": [],
       "_model_module": "@jupyter-widgets/controls",
       "_model_module_version": "1.5.0",
       "_model_name": "HTMLModel",
       "_view_count": null,
       "_view_module": "@jupyter-widgets/controls",
       "_view_module_version": "1.5.0",
       "_view_name": "HTMLView",
       "description": "",
       "description_tooltip": null,
       "layout": "IPY_MODEL_2a2f007bfae24b7491358f7a402a6923",
       "placeholder": "​",
       "style": "IPY_MODEL_0989a169883c40ba91f9876f85c76127",
       "value": " 446k/446k [00:00&lt;00:00, 805kB/s]"
      }
     },
     "541e5b6663944e4fafe97d11ec8ac957": {
      "model_module": "@jupyter-widgets/controls",
      "model_module_version": "1.5.0",
      "model_name": "HTMLModel",
      "state": {
       "_dom_classes": [],
       "_model_module": "@jupyter-widgets/controls",
       "_model_module_version": "1.5.0",
       "_model_name": "HTMLModel",
       "_view_count": null,
       "_view_module": "@jupyter-widgets/controls",
       "_view_module_version": "1.5.0",
       "_view_name": "HTMLView",
       "description": "",
       "description_tooltip": null,
       "layout": "IPY_MODEL_5b864322e29a47058a672069452aa3a6",
       "placeholder": "​",
       "style": "IPY_MODEL_a26b232c9eeb46b78bc1c7c6f6ae4de8",
       "value": "Downloading: 100%"
      }
     },
     "57335d55369541a4ad380b9fab2eb287": {
      "model_module": "@jupyter-widgets/base",
      "model_module_version": "1.2.0",
      "model_name": "LayoutModel",
      "state": {
       "_model_module": "@jupyter-widgets/base",
       "_model_module_version": "1.2.0",
       "_model_name": "LayoutModel",
       "_view_count": null,
       "_view_module": "@jupyter-widgets/base",
       "_view_module_version": "1.2.0",
       "_view_name": "LayoutView",
       "align_content": null,
       "align_items": null,
       "align_self": null,
       "border": null,
       "bottom": null,
       "display": null,
       "flex": null,
       "flex_flow": null,
       "grid_area": null,
       "grid_auto_columns": null,
       "grid_auto_flow": null,
       "grid_auto_rows": null,
       "grid_column": null,
       "grid_gap": null,
       "grid_row": null,
       "grid_template_areas": null,
       "grid_template_columns": null,
       "grid_template_rows": null,
       "height": null,
       "justify_content": null,
       "justify_items": null,
       "left": null,
       "margin": null,
       "max_height": null,
       "max_width": null,
       "min_height": null,
       "min_width": null,
       "object_fit": null,
       "object_position": null,
       "order": null,
       "overflow": null,
       "overflow_x": null,
       "overflow_y": null,
       "padding": null,
       "right": null,
       "top": null,
       "visibility": null,
       "width": null
      }
     },
     "5905d50b15dd45e085834190be1b5253": {
      "model_module": "@jupyter-widgets/base",
      "model_module_version": "1.2.0",
      "model_name": "LayoutModel",
      "state": {
       "_model_module": "@jupyter-widgets/base",
       "_model_module_version": "1.2.0",
       "_model_name": "LayoutModel",
       "_view_count": null,
       "_view_module": "@jupyter-widgets/base",
       "_view_module_version": "1.2.0",
       "_view_name": "LayoutView",
       "align_content": null,
       "align_items": null,
       "align_self": null,
       "border": null,
       "bottom": null,
       "display": null,
       "flex": null,
       "flex_flow": null,
       "grid_area": null,
       "grid_auto_columns": null,
       "grid_auto_flow": null,
       "grid_auto_rows": null,
       "grid_column": null,
       "grid_gap": null,
       "grid_row": null,
       "grid_template_areas": null,
       "grid_template_columns": null,
       "grid_template_rows": null,
       "height": null,
       "justify_content": null,
       "justify_items": null,
       "left": null,
       "margin": null,
       "max_height": null,
       "max_width": null,
       "min_height": null,
       "min_width": null,
       "object_fit": null,
       "object_position": null,
       "order": null,
       "overflow": null,
       "overflow_x": null,
       "overflow_y": null,
       "padding": null,
       "right": null,
       "top": null,
       "visibility": null,
       "width": null
      }
     },
     "5b864322e29a47058a672069452aa3a6": {
      "model_module": "@jupyter-widgets/base",
      "model_module_version": "1.2.0",
      "model_name": "LayoutModel",
      "state": {
       "_model_module": "@jupyter-widgets/base",
       "_model_module_version": "1.2.0",
       "_model_name": "LayoutModel",
       "_view_count": null,
       "_view_module": "@jupyter-widgets/base",
       "_view_module_version": "1.2.0",
       "_view_name": "LayoutView",
       "align_content": null,
       "align_items": null,
       "align_self": null,
       "border": null,
       "bottom": null,
       "display": null,
       "flex": null,
       "flex_flow": null,
       "grid_area": null,
       "grid_auto_columns": null,
       "grid_auto_flow": null,
       "grid_auto_rows": null,
       "grid_column": null,
       "grid_gap": null,
       "grid_row": null,
       "grid_template_areas": null,
       "grid_template_columns": null,
       "grid_template_rows": null,
       "height": null,
       "justify_content": null,
       "justify_items": null,
       "left": null,
       "margin": null,
       "max_height": null,
       "max_width": null,
       "min_height": null,
       "min_width": null,
       "object_fit": null,
       "object_position": null,
       "order": null,
       "overflow": null,
       "overflow_x": null,
       "overflow_y": null,
       "padding": null,
       "right": null,
       "top": null,
       "visibility": null,
       "width": null
      }
     },
     "626e169e55f5455d83120bf230bb2428": {
      "model_module": "@jupyter-widgets/base",
      "model_module_version": "1.2.0",
      "model_name": "LayoutModel",
      "state": {
       "_model_module": "@jupyter-widgets/base",
       "_model_module_version": "1.2.0",
       "_model_name": "LayoutModel",
       "_view_count": null,
       "_view_module": "@jupyter-widgets/base",
       "_view_module_version": "1.2.0",
       "_view_name": "LayoutView",
       "align_content": null,
       "align_items": null,
       "align_self": null,
       "border": null,
       "bottom": null,
       "display": null,
       "flex": null,
       "flex_flow": null,
       "grid_area": null,
       "grid_auto_columns": null,
       "grid_auto_flow": null,
       "grid_auto_rows": null,
       "grid_column": null,
       "grid_gap": null,
       "grid_row": null,
       "grid_template_areas": null,
       "grid_template_columns": null,
       "grid_template_rows": null,
       "height": null,
       "justify_content": null,
       "justify_items": null,
       "left": null,
       "margin": null,
       "max_height": null,
       "max_width": null,
       "min_height": null,
       "min_width": null,
       "object_fit": null,
       "object_position": null,
       "order": null,
       "overflow": null,
       "overflow_x": null,
       "overflow_y": null,
       "padding": null,
       "right": null,
       "top": null,
       "visibility": null,
       "width": null
      }
     },
     "6693612919174837a3281e4a51aadb51": {
      "model_module": "@jupyter-widgets/controls",
      "model_module_version": "1.5.0",
      "model_name": "DescriptionStyleModel",
      "state": {
       "_model_module": "@jupyter-widgets/controls",
       "_model_module_version": "1.5.0",
       "_model_name": "DescriptionStyleModel",
       "_view_count": null,
       "_view_module": "@jupyter-widgets/base",
       "_view_module_version": "1.2.0",
       "_view_name": "StyleView",
       "description_width": ""
      }
     },
     "66ae6dc2475442a0b8933d986d25259d": {
      "model_module": "@jupyter-widgets/controls",
      "model_module_version": "1.5.0",
      "model_name": "DescriptionStyleModel",
      "state": {
       "_model_module": "@jupyter-widgets/controls",
       "_model_module_version": "1.5.0",
       "_model_name": "DescriptionStyleModel",
       "_view_count": null,
       "_view_module": "@jupyter-widgets/base",
       "_view_module_version": "1.2.0",
       "_view_name": "StyleView",
       "description_width": ""
      }
     },
     "74016cdd0df74876ad9d0e31806ce267": {
      "model_module": "@jupyter-widgets/controls",
      "model_module_version": "1.5.0",
      "model_name": "ProgressStyleModel",
      "state": {
       "_model_module": "@jupyter-widgets/controls",
       "_model_module_version": "1.5.0",
       "_model_name": "ProgressStyleModel",
       "_view_count": null,
       "_view_module": "@jupyter-widgets/base",
       "_view_module_version": "1.2.0",
       "_view_name": "StyleView",
       "bar_color": null,
       "description_width": ""
      }
     },
     "7dd3e068b80f4a4092b26b5ec25db45c": {
      "model_module": "@jupyter-widgets/base",
      "model_module_version": "1.2.0",
      "model_name": "LayoutModel",
      "state": {
       "_model_module": "@jupyter-widgets/base",
       "_model_module_version": "1.2.0",
       "_model_name": "LayoutModel",
       "_view_count": null,
       "_view_module": "@jupyter-widgets/base",
       "_view_module_version": "1.2.0",
       "_view_name": "LayoutView",
       "align_content": null,
       "align_items": null,
       "align_self": null,
       "border": null,
       "bottom": null,
       "display": null,
       "flex": null,
       "flex_flow": null,
       "grid_area": null,
       "grid_auto_columns": null,
       "grid_auto_flow": null,
       "grid_auto_rows": null,
       "grid_column": null,
       "grid_gap": null,
       "grid_row": null,
       "grid_template_areas": null,
       "grid_template_columns": null,
       "grid_template_rows": null,
       "height": null,
       "justify_content": null,
       "justify_items": null,
       "left": null,
       "margin": null,
       "max_height": null,
       "max_width": null,
       "min_height": null,
       "min_width": null,
       "object_fit": null,
       "object_position": null,
       "order": null,
       "overflow": null,
       "overflow_x": null,
       "overflow_y": null,
       "padding": null,
       "right": null,
       "top": null,
       "visibility": null,
       "width": null
      }
     },
     "853c763427504c6c8fc0bb50222f40e8": {
      "model_module": "@jupyter-widgets/controls",
      "model_module_version": "1.5.0",
      "model_name": "HTMLModel",
      "state": {
       "_dom_classes": [],
       "_model_module": "@jupyter-widgets/controls",
       "_model_module_version": "1.5.0",
       "_model_name": "HTMLModel",
       "_view_count": null,
       "_view_module": "@jupyter-widgets/controls",
       "_view_module_version": "1.5.0",
       "_view_name": "HTMLView",
       "description": "",
       "description_tooltip": null,
       "layout": "IPY_MODEL_a3eb749ed8dc4bfcb46139f1b7ee0e87",
       "placeholder": "​",
       "style": "IPY_MODEL_2b4d8aee12994fff8e6840551a65f7b9",
       "value": " 627M/627M [00:27&lt;00:00, 25.2MB/s]"
      }
     },
     "919c05ab04a748b6b5b9bcc5fed84ee0": {
      "model_module": "@jupyter-widgets/controls",
      "model_module_version": "1.5.0",
      "model_name": "FloatProgressModel",
      "state": {
       "_dom_classes": [],
       "_model_module": "@jupyter-widgets/controls",
       "_model_module_version": "1.5.0",
       "_model_name": "FloatProgressModel",
       "_view_count": null,
       "_view_module": "@jupyter-widgets/controls",
       "_view_module_version": "1.5.0",
       "_view_name": "ProgressView",
       "bar_style": "success",
       "description": "",
       "description_tooltip": null,
       "layout": "IPY_MODEL_5905d50b15dd45e085834190be1b5253",
       "max": 898823.0,
       "min": 0.0,
       "orientation": "horizontal",
       "style": "IPY_MODEL_47af8c894d2f44ec81a9a17229ff65b0",
       "value": 898823.0
      }
     },
     "91d6d5378f944311b3c8c5c8571b682c": {
      "model_module": "@jupyter-widgets/controls",
      "model_module_version": "1.5.0",
      "model_name": "HTMLModel",
      "state": {
       "_dom_classes": [],
       "_model_module": "@jupyter-widgets/controls",
       "_model_module_version": "1.5.0",
       "_model_name": "HTMLModel",
       "_view_count": null,
       "_view_module": "@jupyter-widgets/controls",
       "_view_module_version": "1.5.0",
       "_view_name": "HTMLView",
       "description": "",
       "description_tooltip": null,
       "layout": "IPY_MODEL_7dd3e068b80f4a4092b26b5ec25db45c",
       "placeholder": "​",
       "style": "IPY_MODEL_273bc2d0696b46d6b0490c3bc93ef736",
       "value": "Downloading: 100%"
      }
     },
     "a1a243de07c24e7780b49f5bf8e5b585": {
      "model_module": "@jupyter-widgets/controls",
      "model_module_version": "1.5.0",
      "model_name": "HBoxModel",
      "state": {
       "_dom_classes": [],
       "_model_module": "@jupyter-widgets/controls",
       "_model_module_version": "1.5.0",
       "_model_name": "HBoxModel",
       "_view_count": null,
       "_view_module": "@jupyter-widgets/controls",
       "_view_module_version": "1.5.0",
       "_view_name": "HBoxView",
       "box_style": "",
       "children": [
        "IPY_MODEL_04bb2228d82544baa7cc0fcca7e8d458",
        "IPY_MODEL_919c05ab04a748b6b5b9bcc5fed84ee0",
        "IPY_MODEL_dc06ed371a9c4d9fb28c65b5fe186c5a"
       ],
       "layout": "IPY_MODEL_bbc70200a4ee45a682d5024995a596c8"
      }
     },
     "a26b232c9eeb46b78bc1c7c6f6ae4de8": {
      "model_module": "@jupyter-widgets/controls",
      "model_module_version": "1.5.0",
      "model_name": "DescriptionStyleModel",
      "state": {
       "_model_module": "@jupyter-widgets/controls",
       "_model_module_version": "1.5.0",
       "_model_name": "DescriptionStyleModel",
       "_view_count": null,
       "_view_module": "@jupyter-widgets/base",
       "_view_module_version": "1.2.0",
       "_view_name": "StyleView",
       "description_width": ""
      }
     },
     "a3eb749ed8dc4bfcb46139f1b7ee0e87": {
      "model_module": "@jupyter-widgets/base",
      "model_module_version": "1.2.0",
      "model_name": "LayoutModel",
      "state": {
       "_model_module": "@jupyter-widgets/base",
       "_model_module_version": "1.2.0",
       "_model_name": "LayoutModel",
       "_view_count": null,
       "_view_module": "@jupyter-widgets/base",
       "_view_module_version": "1.2.0",
       "_view_name": "LayoutView",
       "align_content": null,
       "align_items": null,
       "align_self": null,
       "border": null,
       "bottom": null,
       "display": null,
       "flex": null,
       "flex_flow": null,
       "grid_area": null,
       "grid_auto_columns": null,
       "grid_auto_flow": null,
       "grid_auto_rows": null,
       "grid_column": null,
       "grid_gap": null,
       "grid_row": null,
       "grid_template_areas": null,
       "grid_template_columns": null,
       "grid_template_rows": null,
       "height": null,
       "justify_content": null,
       "justify_items": null,
       "left": null,
       "margin": null,
       "max_height": null,
       "max_width": null,
       "min_height": null,
       "min_width": null,
       "object_fit": null,
       "object_position": null,
       "order": null,
       "overflow": null,
       "overflow_x": null,
       "overflow_y": null,
       "padding": null,
       "right": null,
       "top": null,
       "visibility": null,
       "width": null
      }
     },
     "bbc70200a4ee45a682d5024995a596c8": {
      "model_module": "@jupyter-widgets/base",
      "model_module_version": "1.2.0",
      "model_name": "LayoutModel",
      "state": {
       "_model_module": "@jupyter-widgets/base",
       "_model_module_version": "1.2.0",
       "_model_name": "LayoutModel",
       "_view_count": null,
       "_view_module": "@jupyter-widgets/base",
       "_view_module_version": "1.2.0",
       "_view_name": "LayoutView",
       "align_content": null,
       "align_items": null,
       "align_self": null,
       "border": null,
       "bottom": null,
       "display": null,
       "flex": null,
       "flex_flow": null,
       "grid_area": null,
       "grid_auto_columns": null,
       "grid_auto_flow": null,
       "grid_auto_rows": null,
       "grid_column": null,
       "grid_gap": null,
       "grid_row": null,
       "grid_template_areas": null,
       "grid_template_columns": null,
       "grid_template_rows": null,
       "height": null,
       "justify_content": null,
       "justify_items": null,
       "left": null,
       "margin": null,
       "max_height": null,
       "max_width": null,
       "min_height": null,
       "min_width": null,
       "object_fit": null,
       "object_position": null,
       "order": null,
       "overflow": null,
       "overflow_x": null,
       "overflow_y": null,
       "padding": null,
       "right": null,
       "top": null,
       "visibility": null,
       "width": null
      }
     },
     "bd7f6a2c215f4c3980740a3e2ec6d503": {
      "model_module": "@jupyter-widgets/base",
      "model_module_version": "1.2.0",
      "model_name": "LayoutModel",
      "state": {
       "_model_module": "@jupyter-widgets/base",
       "_model_module_version": "1.2.0",
       "_model_name": "LayoutModel",
       "_view_count": null,
       "_view_module": "@jupyter-widgets/base",
       "_view_module_version": "1.2.0",
       "_view_name": "LayoutView",
       "align_content": null,
       "align_items": null,
       "align_self": null,
       "border": null,
       "bottom": null,
       "display": null,
       "flex": null,
       "flex_flow": null,
       "grid_area": null,
       "grid_auto_columns": null,
       "grid_auto_flow": null,
       "grid_auto_rows": null,
       "grid_column": null,
       "grid_gap": null,
       "grid_row": null,
       "grid_template_areas": null,
       "grid_template_columns": null,
       "grid_template_rows": null,
       "height": null,
       "justify_content": null,
       "justify_items": null,
       "left": null,
       "margin": null,
       "max_height": null,
       "max_width": null,
       "min_height": null,
       "min_width": null,
       "object_fit": null,
       "object_position": null,
       "order": null,
       "overflow": null,
       "overflow_x": null,
       "overflow_y": null,
       "padding": null,
       "right": null,
       "top": null,
       "visibility": null,
       "width": null
      }
     },
     "d7eda10ee3b4434cbdce3d59745cb6ec": {
      "model_module": "@jupyter-widgets/controls",
      "model_module_version": "1.5.0",
      "model_name": "FloatProgressModel",
      "state": {
       "_dom_classes": [],
       "_model_module": "@jupyter-widgets/controls",
       "_model_module_version": "1.5.0",
       "_model_name": "FloatProgressModel",
       "_view_count": null,
       "_view_module": "@jupyter-widgets/controls",
       "_view_module_version": "1.5.0",
       "_view_name": "ProgressView",
       "bar_style": "success",
       "description": "",
       "description_tooltip": null,
       "layout": "IPY_MODEL_bd7f6a2c215f4c3980740a3e2ec6d503",
       "max": 456318.0,
       "min": 0.0,
       "orientation": "horizontal",
       "style": "IPY_MODEL_74016cdd0df74876ad9d0e31806ce267",
       "value": 456318.0
      }
     },
     "dc06ed371a9c4d9fb28c65b5fe186c5a": {
      "model_module": "@jupyter-widgets/controls",
      "model_module_version": "1.5.0",
      "model_name": "HTMLModel",
      "state": {
       "_dom_classes": [],
       "_model_module": "@jupyter-widgets/controls",
       "_model_module_version": "1.5.0",
       "_model_name": "HTMLModel",
       "_view_count": null,
       "_view_module": "@jupyter-widgets/controls",
       "_view_module_version": "1.5.0",
       "_view_name": "HTMLView",
       "description": "",
       "description_tooltip": null,
       "layout": "IPY_MODEL_26d715754061428ba6dacb221a86e644",
       "placeholder": "​",
       "style": "IPY_MODEL_3645de541802437d89c0912eb901bbac",
       "value": " 878k/878k [00:00&lt;00:00, 2.72MB/s]"
      }
     },
     "df254961023646c191195c1419d09ff6": {
      "model_module": "@jupyter-widgets/base",
      "model_module_version": "1.2.0",
      "model_name": "LayoutModel",
      "state": {
       "_model_module": "@jupyter-widgets/base",
       "_model_module_version": "1.2.0",
       "_model_name": "LayoutModel",
       "_view_count": null,
       "_view_module": "@jupyter-widgets/base",
       "_view_module_version": "1.2.0",
       "_view_name": "LayoutView",
       "align_content": null,
       "align_items": null,
       "align_self": null,
       "border": null,
       "bottom": null,
       "display": null,
       "flex": null,
       "flex_flow": null,
       "grid_area": null,
       "grid_auto_columns": null,
       "grid_auto_flow": null,
       "grid_auto_rows": null,
       "grid_column": null,
       "grid_gap": null,
       "grid_row": null,
       "grid_template_areas": null,
       "grid_template_columns": null,
       "grid_template_rows": null,
       "height": null,
       "justify_content": null,
       "justify_items": null,
       "left": null,
       "margin": null,
       "max_height": null,
       "max_width": null,
       "min_height": null,
       "min_width": null,
       "object_fit": null,
       "object_position": null,
       "order": null,
       "overflow": null,
       "overflow_x": null,
       "overflow_y": null,
       "padding": null,
       "right": null,
       "top": null,
       "visibility": null,
       "width": null
      }
     },
     "eb8fb79847044ccfa616ae1a005da2ab": {
      "model_module": "@jupyter-widgets/controls",
      "model_module_version": "1.5.0",
      "model_name": "ProgressStyleModel",
      "state": {
       "_model_module": "@jupyter-widgets/controls",
       "_model_module_version": "1.5.0",
       "_model_name": "ProgressStyleModel",
       "_view_count": null,
       "_view_module": "@jupyter-widgets/base",
       "_view_module_version": "1.2.0",
       "_view_name": "StyleView",
       "bar_color": null,
       "description_width": ""
      }
     },
     "f5f3bf37f76e4c438b9a331f6965428c": {
      "model_module": "@jupyter-widgets/controls",
      "model_module_version": "1.5.0",
      "model_name": "HBoxModel",
      "state": {
       "_dom_classes": [],
       "_model_module": "@jupyter-widgets/controls",
       "_model_module_version": "1.5.0",
       "_model_name": "HBoxModel",
       "_view_count": null,
       "_view_module": "@jupyter-widgets/controls",
       "_view_module_version": "1.5.0",
       "_view_name": "HBoxView",
       "box_style": "",
       "children": [
        "IPY_MODEL_91d6d5378f944311b3c8c5c8571b682c",
        "IPY_MODEL_08af7160f39e4e90a6971de3488d506b",
        "IPY_MODEL_1531877a69cc456bbbf52d46dbacea5e"
       ],
       "layout": "IPY_MODEL_40d47cf30afc4048a30a065bb6775447"
      }
     },
     "f89c5438761048b7988ee9986a4dad77": {
      "model_module": "@jupyter-widgets/controls",
      "model_module_version": "1.5.0",
      "model_name": "HBoxModel",
      "state": {
       "_dom_classes": [],
       "_model_module": "@jupyter-widgets/controls",
       "_model_module_version": "1.5.0",
       "_model_name": "HBoxModel",
       "_view_count": null,
       "_view_module": "@jupyter-widgets/controls",
       "_view_module_version": "1.5.0",
       "_view_name": "HBoxView",
       "box_style": "",
       "children": [
        "IPY_MODEL_541e5b6663944e4fafe97d11ec8ac957",
        "IPY_MODEL_fe3a71eb9a7948a9a9e37d0493849b7e",
        "IPY_MODEL_853c763427504c6c8fc0bb50222f40e8"
       ],
       "layout": "IPY_MODEL_57335d55369541a4ad380b9fab2eb287"
      }
     },
     "fe3a71eb9a7948a9a9e37d0493849b7e": {
      "model_module": "@jupyter-widgets/controls",
      "model_module_version": "1.5.0",
      "model_name": "FloatProgressModel",
      "state": {
       "_dom_classes": [],
       "_model_module": "@jupyter-widgets/controls",
       "_model_module_version": "1.5.0",
       "_model_name": "FloatProgressModel",
       "_view_count": null,
       "_view_module": "@jupyter-widgets/controls",
       "_view_module_version": "1.5.0",
       "_view_name": "ProgressView",
       "bar_style": "success",
       "description": "",
       "description_tooltip": null,
       "layout": "IPY_MODEL_df254961023646c191195c1419d09ff6",
       "max": 657434796.0,
       "min": 0.0,
       "orientation": "horizontal",
       "style": "IPY_MODEL_eb8fb79847044ccfa616ae1a005da2ab",
       "value": 657434796.0
      }
     }
    },
    "version_major": 2,
    "version_minor": 0
   }
  }
 },
 "nbformat": 4,
 "nbformat_minor": 5
}
